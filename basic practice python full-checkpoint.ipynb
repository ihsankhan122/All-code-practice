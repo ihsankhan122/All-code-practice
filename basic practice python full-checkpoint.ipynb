{
 "cells": [
  {
   "cell_type": "code",
   "execution_count": 1,
   "id": "f718bd44",
   "metadata": {},
   "outputs": [],
   "source": [
    "l1=[1,2,3,4]"
   ]
  },
  {
   "cell_type": "code",
   "execution_count": 2,
   "id": "6c0b2793",
   "metadata": {},
   "outputs": [
    {
     "data": {
      "text/plain": [
       "[1, 2, 3, 4]"
      ]
     },
     "execution_count": 2,
     "metadata": {},
     "output_type": "execute_result"
    }
   ],
   "source": [
    "l1"
   ]
  },
  {
   "cell_type": "code",
   "execution_count": 3,
   "id": "41c1a94f",
   "metadata": {},
   "outputs": [
    {
     "data": {
      "text/plain": [
       "list"
      ]
     },
     "execution_count": 3,
     "metadata": {},
     "output_type": "execute_result"
    }
   ],
   "source": [
    "type(l1)"
   ]
  },
  {
   "cell_type": "code",
   "execution_count": 4,
   "id": "44aa4c3b",
   "metadata": {},
   "outputs": [
    {
     "data": {
      "text/plain": [
       "[2]"
      ]
     },
     "execution_count": 4,
     "metadata": {},
     "output_type": "execute_result"
    }
   ],
   "source": [
    "l1[1:2]"
   ]
  },
  {
   "cell_type": "code",
   "execution_count": 2,
   "id": "a20b2322",
   "metadata": {},
   "outputs": [],
   "source": [
    "l1=(['apple','orange','grapes','cheerry'])"
   ]
  },
  {
   "cell_type": "code",
   "execution_count": 3,
   "id": "a9c309fb",
   "metadata": {},
   "outputs": [],
   "source": [
    "l1[1:2]=['pineapple','melon']"
   ]
  },
  {
   "cell_type": "code",
   "execution_count": 1,
   "id": "9e271364",
   "metadata": {},
   "outputs": [
    {
     "ename": "NameError",
     "evalue": "name 'l1' is not defined",
     "output_type": "error",
     "traceback": [
      "\u001b[1;31m---------------------------------------------------------------------------\u001b[0m",
      "\u001b[1;31mNameError\u001b[0m                                 Traceback (most recent call last)",
      "\u001b[1;32m~\\AppData\\Local\\Temp/ipykernel_10380/2585568370.py\u001b[0m in \u001b[0;36m<module>\u001b[1;34m\u001b[0m\n\u001b[1;32m----> 1\u001b[1;33m \u001b[0ml1\u001b[0m\u001b[1;33m\u001b[0m\u001b[1;33m\u001b[0m\u001b[0m\n\u001b[0m",
      "\u001b[1;31mNameError\u001b[0m: name 'l1' is not defined"
     ]
    }
   ],
   "source": [
    "l1"
   ]
  },
  {
   "cell_type": "code",
   "execution_count": 8,
   "id": "ee56cdfe",
   "metadata": {},
   "outputs": [
    {
     "data": {
      "text/plain": [
       "['apple', 'grapes', 'watermelon', 'melon']"
      ]
     },
     "execution_count": 8,
     "metadata": {},
     "output_type": "execute_result"
    }
   ],
   "source": [
    "thislist=['apple','grapes','melon']\n",
    "thislist.insert(2,\"watermelon\")\n",
    "thislist"
   ]
  },
  {
   "cell_type": "code",
   "execution_count": 9,
   "id": "310d2d7b",
   "metadata": {},
   "outputs": [
    {
     "data": {
      "text/plain": [
       "['hello world', 'for me']"
      ]
     },
     "execution_count": 9,
     "metadata": {},
     "output_type": "execute_result"
    }
   ],
   "source": [
    "list1=['hello world']\n",
    "list1.append(\"for me\")\n",
    "list1"
   ]
  },
  {
   "cell_type": "code",
   "execution_count": 10,
   "id": "bda076c5",
   "metadata": {},
   "outputs": [
    {
     "data": {
      "text/plain": [
       "['ihsan']"
      ]
     },
     "execution_count": 10,
     "metadata": {},
     "output_type": "execute_result"
    }
   ],
   "source": [
    "list1=['ihsan']\n",
    "list1.reverse()\n",
    "list1"
   ]
  },
  {
   "cell_type": "code",
   "execution_count": 11,
   "id": "930d6db9",
   "metadata": {},
   "outputs": [
    {
     "name": "stdout",
     "output_type": "stream",
     "text": [
      "apple\n",
      "grapes\n",
      "[None, None]\n"
     ]
    }
   ],
   "source": [
    "thislist=[\"apple\",'grapes']\n",
    "y=[print(x) for x in thislist]\n",
    "print (y)"
   ]
  },
  {
   "cell_type": "code",
   "execution_count": 12,
   "id": "a3fe6daf",
   "metadata": {},
   "outputs": [
    {
     "name": "stdout",
     "output_type": "stream",
     "text": [
      "3\n"
     ]
    },
    {
     "data": {
      "text/plain": [
       "('apple', 'banana', 'grapes')"
      ]
     },
     "execution_count": 12,
     "metadata": {},
     "output_type": "execute_result"
    }
   ],
   "source": [
    "tupl=(\"apple\",\"banana\",\"grapes\")\n",
    "print(len(tupl))\n",
    "tupl"
   ]
  },
  {
   "cell_type": "code",
   "execution_count": 13,
   "id": "f5663a56",
   "metadata": {},
   "outputs": [
    {
     "data": {
      "text/plain": [
       "('apple',)"
      ]
     },
     "execution_count": 13,
     "metadata": {},
     "output_type": "execute_result"
    }
   ],
   "source": [
    "t=('apple',)\n",
    "t"
   ]
  },
  {
   "cell_type": "code",
   "execution_count": 14,
   "id": "634cbebb",
   "metadata": {},
   "outputs": [
    {
     "name": "stdout",
     "output_type": "stream",
     "text": [
      "('apple', 'grapes')\n"
     ]
    }
   ],
   "source": [
    "tupl=((\"apple\",\"grapes\"))\n",
    "print(tupl)"
   ]
  },
  {
   "cell_type": "code",
   "execution_count": 15,
   "id": "964a9864",
   "metadata": {},
   "outputs": [
    {
     "data": {
      "text/plain": [
       "'car'"
      ]
     },
     "execution_count": 15,
     "metadata": {},
     "output_type": "execute_result"
    }
   ],
   "source": [
    "tupl=(\"appple\",'grapes','car',\"true\")\n",
    "tupl[2]"
   ]
  },
  {
   "cell_type": "code",
   "execution_count": 16,
   "id": "683a1899",
   "metadata": {},
   "outputs": [
    {
     "data": {
      "text/plain": [
       "'car'"
      ]
     },
     "execution_count": 16,
     "metadata": {},
     "output_type": "execute_result"
    }
   ],
   "source": [
    "tupl=(\"appple\",'grapes','car',\"true\")\n",
    "tupl[-2]\n",
    "# -2 sshow 2nd last item"
   ]
  },
  {
   "cell_type": "code",
   "execution_count": 17,
   "id": "788ad841",
   "metadata": {},
   "outputs": [
    {
     "data": {
      "text/plain": [
       "('grapes', 'ihsan')"
      ]
     },
     "execution_count": 17,
     "metadata": {},
     "output_type": "execute_result"
    }
   ],
   "source": [
    "tupl=(\"apple\",\"grapes\",\"ihsan\",\"noman\",\"imad\")\n",
    "tupl[1:3]"
   ]
  },
  {
   "cell_type": "code",
   "execution_count": 18,
   "id": "aab0d870",
   "metadata": {},
   "outputs": [
    {
     "name": "stdout",
     "output_type": "stream",
     "text": [
      "Yes, 'apple' is in the fruits tuple\n"
     ]
    }
   ],
   "source": [
    "thistuple = (\"apple\", \"banana\", \"cherry\")\n",
    "if \"apple\" in thistuple:\n",
    "  print(\"Yes, 'apple' is in the fruits tuple\")\n"
   ]
  },
  {
   "cell_type": "code",
   "execution_count": 19,
   "id": "252b11a3",
   "metadata": {},
   "outputs": [
    {
     "name": "stdout",
     "output_type": "stream",
     "text": [
      "ys, 'car' is in fruits tuple\n"
     ]
    }
   ],
   "source": [
    "thistuple= (\"apple\", \"banana\", \"grapes\")\n",
    "if \"banana\" in thistuple:\n",
    "    print(\"ys, 'car' is in fruits tuple\")"
   ]
  },
  {
   "cell_type": "code",
   "execution_count": 20,
   "id": "5fa7f4a9",
   "metadata": {},
   "outputs": [
    {
     "name": "stdout",
     "output_type": "stream",
     "text": [
      "yes, 'ihsan is in thistupl\n"
     ]
    }
   ],
   "source": [
    "thistupl=(\"ihsan\", \"noman\", \"imad\")\n",
    "if \"ihsan\" in thistupl:\n",
    "    print(\"yes, 'ihsan is in thistupl\")\n",
    "   "
   ]
  },
  {
   "cell_type": "code",
   "execution_count": 21,
   "id": "e03a1631",
   "metadata": {},
   "outputs": [
    {
     "name": "stdout",
     "output_type": "stream",
     "text": [
      "('babar', 'ridwan', 'haris')\n"
     ]
    }
   ],
   "source": [
    "# we can't change tupl value ist we convert into list\n",
    "x=(\"babar\",\"ridwan\",\"fakhar\")\n",
    "y=list(x)\n",
    "y[2]=\"haris\"\n",
    "x=tuple(y)\n",
    "print(x)\n"
   ]
  },
  {
   "cell_type": "code",
   "execution_count": 22,
   "id": "29c039c6",
   "metadata": {},
   "outputs": [
    {
     "data": {
      "text/plain": [
       "('ihsan', 'mehmood', 'bangash')"
      ]
     },
     "execution_count": 22,
     "metadata": {},
     "output_type": "execute_result"
    }
   ],
   "source": [
    "x=(\"ihsan\",\"khan\",\"bangash\")\n",
    "y=list(x)\n",
    "y[1]=\"mehmood\"\n",
    "x=tuple(y)\n",
    "x"
   ]
  },
  {
   "cell_type": "code",
   "execution_count": 23,
   "id": "aa4240ca",
   "metadata": {},
   "outputs": [
    {
     "name": "stdout",
     "output_type": "stream",
     "text": [
      "('apple', 'banana', 'cherry', 'orange')\n"
     ]
    }
   ],
   "source": [
    "thistuple = (\"apple\", \"banana\", \"cherry\")\n",
    "y = (\"orange\",)\n",
    "thistuple += y\n",
    "\n",
    "print(thistuple)\n"
   ]
  },
  {
   "cell_type": "code",
   "execution_count": 24,
   "id": "a3249729",
   "metadata": {},
   "outputs": [
    {
     "data": {
      "text/plain": [
       "('ihsan', 'mehmood', 'hangu')"
      ]
     },
     "execution_count": 24,
     "metadata": {},
     "output_type": "execute_result"
    }
   ],
   "source": [
    "x=(\"ihsan\",\"mehmood\")\n",
    "y=(\"hangu\",)\n",
    "x +=y\n",
    "x"
   ]
  },
  {
   "cell_type": "code",
   "execution_count": 25,
   "id": "0505c3d2",
   "metadata": {},
   "outputs": [],
   "source": [
    "# remove items\n",
    "x=(\"python\", \"java\", \"c++\")\n",
    "y= list(x)\n",
    "y.remove(\"java\")\n",
    "x=tuple(y)"
   ]
  },
  {
   "cell_type": "code",
   "execution_count": 26,
   "id": "9a6295c8",
   "metadata": {},
   "outputs": [],
   "source": [
    "thistuple = (\"apple\", \"banana\", \"cherry\")\n",
    "y = list(thistuple)\n",
    "y.remove(\"apple\")\n",
    "thistuple = tuple(y)\n"
   ]
  },
  {
   "cell_type": "code",
   "execution_count": 27,
   "id": "6295e29a",
   "metadata": {},
   "outputs": [],
   "source": [
    "# delete in tupl\n",
    "x=(1,2,3,4)\n",
    "del(x)"
   ]
  },
  {
   "cell_type": "code",
   "execution_count": 28,
   "id": "aefca2a5",
   "metadata": {},
   "outputs": [],
   "source": [
    "tupl=(1,2,3,4)\n",
    "del(tupl)"
   ]
  },
  {
   "cell_type": "code",
   "execution_count": 29,
   "id": "b0a17b77",
   "metadata": {},
   "outputs": [
    {
     "name": "stdout",
     "output_type": "stream",
     "text": [
      "apple\n",
      "banana\n",
      "cherry\n"
     ]
    }
   ],
   "source": [
    "#Example\n",
    "fruits = (\"apple\", \"banana\", \"cherry\")\n",
    "\n",
    "(green, yellow, red) = fruits\n",
    "\n",
    "print(green)\n",
    "print(yellow)\n",
    "print(red)"
   ]
  },
  {
   "cell_type": "code",
   "execution_count": 30,
   "id": "eb5c245a",
   "metadata": {},
   "outputs": [
    {
     "ename": "NameError",
     "evalue": "name 'car' is not defined",
     "output_type": "error",
     "traceback": [
      "\u001b[1;31m---------------------------------------------------------------------------\u001b[0m",
      "\u001b[1;31mNameError\u001b[0m                                 Traceback (most recent call last)",
      "\u001b[1;32m~\\AppData\\Local\\Temp/ipykernel_9012/3408432304.py\u001b[0m in \u001b[0;36m<module>\u001b[1;34m\u001b[0m\n\u001b[0;32m      1\u001b[0m \u001b[0mtupl\u001b[0m\u001b[1;33m=\u001b[0m\u001b[1;33m(\u001b[0m\u001b[1;34m\"car\"\u001b[0m\u001b[1;33m,\u001b[0m\u001b[1;34m\"bike\"\u001b[0m\u001b[1;33m)\u001b[0m\u001b[1;33m\u001b[0m\u001b[1;33m\u001b[0m\u001b[0m\n\u001b[0;32m      2\u001b[0m \u001b[1;33m(\u001b[0m\u001b[0mgreen\u001b[0m\u001b[1;33m,\u001b[0m\u001b[0myellow\u001b[0m \u001b[1;33m)\u001b[0m\u001b[1;33m=\u001b[0m \u001b[0mtupl\u001b[0m\u001b[1;33m\u001b[0m\u001b[1;33m\u001b[0m\u001b[0m\n\u001b[1;32m----> 3\u001b[1;33m \u001b[0mprint\u001b[0m\u001b[1;33m(\u001b[0m\u001b[0mcar\u001b[0m\u001b[1;33m)\u001b[0m\u001b[1;33m\u001b[0m\u001b[1;33m\u001b[0m\u001b[0m\n\u001b[0m\u001b[0;32m      4\u001b[0m \u001b[0mprint\u001b[0m\u001b[1;33m(\u001b[0m\u001b[0mbike\u001b[0m\u001b[1;33m)\u001b[0m\u001b[1;33m\u001b[0m\u001b[1;33m\u001b[0m\u001b[0m\n",
      "\u001b[1;31mNameError\u001b[0m: name 'car' is not defined"
     ]
    }
   ],
   "source": [
    "tupl=(\"car\",\"bike\")\n",
    "(green,yellow )= tupl\n",
    "print(car)\n",
    "print(bike)"
   ]
  },
  {
   "cell_type": "code",
   "execution_count": null,
   "id": "95f2f6e0",
   "metadata": {},
   "outputs": [],
   "source": [
    "#Example\n",
    "#Iterate through the items and print the values:\n",
    "\n",
    "thistuple = (\"apple\", \"banana\", \"cherry\")\n",
    "for x in thistuple:\n",
    "  print(x)"
   ]
  },
  {
   "cell_type": "code",
   "execution_count": null,
   "id": "1a291c94",
   "metadata": {},
   "outputs": [],
   "source": [
    "#Example\n",
    "#Print all items, using a while loop to go through all the index numbers:\n",
    "\n",
    "thistuple = (\"apple\", \"banana\", \"cherry\")\n",
    "i = 0\n",
    "while i < len(thistuple):\n",
    "  print(thistuple[i])\n",
    "  i = i + 1\n"
   ]
  },
  {
   "cell_type": "code",
   "execution_count": null,
   "id": "5672990d",
   "metadata": {},
   "outputs": [],
   "source": [
    "#Set\n",
    "#Sets are used to store multiple items in a single variable.\n",
    "#Example\n",
    "#Duplicate values will be ignored:\n",
    "\n",
    "thisset = {\"apple\", \"banana\", \"cherry\", \"apple\"}\n",
    "\n",
    "print(thisset)"
   ]
  },
  {
   "cell_type": "code",
   "execution_count": null,
   "id": "95e06ef6",
   "metadata": {},
   "outputs": [],
   "source": [
    "s={1,2,3,4,5}\n",
    "len(s)"
   ]
  },
  {
   "cell_type": "code",
   "execution_count": null,
   "id": "f1482fb3",
   "metadata": {},
   "outputs": [],
   "source": [
    "\n",
    "#Check if \"banana\" is present in the set:\n",
    "\n",
    "thisset = {\"apple\", \"banana\", \"cherry\"}\n",
    "\n",
    "print(\"banana\" in thisset)\n"
   ]
  },
  {
   "cell_type": "code",
   "execution_count": null,
   "id": "7ccb80cb",
   "metadata": {},
   "outputs": [],
   "source": [
    "s={\"ihsan\",\"mehran\"}\n",
    "print(\"khan\" in s)"
   ]
  },
  {
   "cell_type": "code",
   "execution_count": null,
   "id": "1f2afe67",
   "metadata": {},
   "outputs": [],
   "source": [
    "thisset = {\"apple\", \"banana\", \"cherry\"}\n",
    "s.add(\"grapes\")"
   ]
  },
  {
   "cell_type": "code",
   "execution_count": null,
   "id": "ee375bfa",
   "metadata": {},
   "outputs": [],
   "source": [
    "s={\"1,2,3,4\"}\n",
    "s.add(5)\n",
    "s"
   ]
  },
  {
   "cell_type": "code",
   "execution_count": null,
   "id": "fa59e238",
   "metadata": {},
   "outputs": [],
   "source": [
    "#strin#"
   ]
  },
  {
   "cell_type": "code",
   "execution_count": null,
   "id": "65efe83a",
   "metadata": {},
   "outputs": [],
   "source": [
    "x=\"hello world\"\n",
    "x[2]"
   ]
  },
  {
   "cell_type": "code",
   "execution_count": null,
   "id": "873ad363",
   "metadata": {},
   "outputs": [],
   "source": [
    "len(x)"
   ]
  },
  {
   "cell_type": "code",
   "execution_count": null,
   "id": "965b397d",
   "metadata": {},
   "outputs": [],
   "source": [
    "x[-3]"
   ]
  },
  {
   "cell_type": "code",
   "execution_count": null,
   "id": "73709f59",
   "metadata": {},
   "outputs": [],
   "source": [
    "x[:2]# show first two value"
   ]
  },
  {
   "cell_type": "code",
   "execution_count": null,
   "id": "27df797e",
   "metadata": {},
   "outputs": [],
   "source": [
    "x[:-3]#ewmove element from last"
   ]
  },
  {
   "cell_type": "code",
   "execution_count": null,
   "id": "6c75441f",
   "metadata": {},
   "outputs": [],
   "source": [
    " x+  \"how are you\" # join "
   ]
  },
  {
   "cell_type": "code",
   "execution_count": null,
   "id": "a6c6de2b",
   "metadata": {},
   "outputs": [],
   "source": [
    "s=\"ihsan\"\n",
    "s+\"  mehmood !\""
   ]
  },
  {
   "cell_type": "code",
   "execution_count": null,
   "id": "067c349c",
   "metadata": {},
   "outputs": [],
   "source": [
    "#We can use the multiplication symbol to create repetition!"
   ]
  },
  {
   "cell_type": "code",
   "execution_count": null,
   "id": "b429c003",
   "metadata": {},
   "outputs": [],
   "source": [
    "x=\"ihsan\"\n",
    "x * 3"
   ]
  },
  {
   "cell_type": "code",
   "execution_count": null,
   "id": "3fb99a1a",
   "metadata": {},
   "outputs": [],
   "source": [
    "x=2+3"
   ]
  },
  {
   "cell_type": "code",
   "execution_count": null,
   "id": "ffdebf8e",
   "metadata": {},
   "outputs": [],
   "source": [
    "x"
   ]
  },
  {
   "cell_type": "code",
   "execution_count": null,
   "id": "bca13c39",
   "metadata": {},
   "outputs": [],
   "source": [
    "x=\"1\"+\"4\" #join number\n",
    "x"
   ]
  },
  {
   "cell_type": "code",
   "execution_count": null,
   "id": "e5da45b9",
   "metadata": {},
   "outputs": [],
   "source": [
    "# Upper Case a string"
   ]
  },
  {
   "cell_type": "code",
   "execution_count": null,
   "id": "c2412319",
   "metadata": {},
   "outputs": [],
   "source": [
    "x=\"data science\"\n",
    "x.upper()"
   ]
  },
  {
   "cell_type": "code",
   "execution_count": null,
   "id": "cf9c1f0e",
   "metadata": {},
   "outputs": [],
   "source": [
    "x.lower()"
   ]
  },
  {
   "cell_type": "code",
   "execution_count": null,
   "id": "1ad0866d",
   "metadata": {},
   "outputs": [],
   "source": [
    "x=\"4\"+\"7\"\n",
    "x"
   ]
  },
  {
   "cell_type": "code",
   "execution_count": null,
   "id": "e791271e",
   "metadata": {},
   "outputs": [],
   "source": [
    "x=\"ihsanmehmood\"\n",
    "x.upper()"
   ]
  },
  {
   "cell_type": "code",
   "execution_count": null,
   "id": "c04c9302",
   "metadata": {},
   "outputs": [],
   "source": [
    "x.lower()"
   ]
  },
  {
   "cell_type": "code",
   "execution_count": null,
   "id": "dce76cb1",
   "metadata": {},
   "outputs": [],
   "source": [
    "#Insert another string with curly brackets: {}'.format('The inserted string')"
   ]
  },
  {
   "cell_type": "code",
   "execution_count": null,
   "id": "37dc6f93",
   "metadata": {},
   "outputs": [],
   "source": [
    "print(\"the {}{}{}\".format(\" ihsan\",' khan',' bangash'))"
   ]
  },
  {
   "cell_type": "code",
   "execution_count": null,
   "id": "d320687b",
   "metadata": {},
   "outputs": [],
   "source": [
    "print(\"i love {2}{1}{0}\".format(\" A\",\" R\",\" M\"))"
   ]
  },
  {
   "cell_type": "code",
   "execution_count": null,
   "id": "8284e067",
   "metadata": {},
   "outputs": [],
   "source": [
    "#list# we can store differ value"
   ]
  },
  {
   "cell_type": "code",
   "execution_count": null,
   "id": "eb8dd229",
   "metadata": {},
   "outputs": [],
   "source": [
    "list=[1,2,3,4,5,6]\n",
    "list"
   ]
  },
  {
   "cell_type": "code",
   "execution_count": null,
   "id": "156feb8d",
   "metadata": {},
   "outputs": [],
   "source": [
    "type(list)"
   ]
  },
  {
   "cell_type": "code",
   "execution_count": null,
   "id": "c286dbca",
   "metadata": {},
   "outputs": [],
   "source": [
    "list=[\"apple\",1,2,3,\"ihsan\",3.14]\n",
    "list"
   ]
  },
  {
   "cell_type": "code",
   "execution_count": null,
   "id": "5489e3c8",
   "metadata": {},
   "outputs": [],
   "source": [
    "list[1]"
   ]
  },
  {
   "cell_type": "code",
   "execution_count": null,
   "id": "607164ef",
   "metadata": {},
   "outputs": [],
   "source": [
    "list[:1]"
   ]
  },
  {
   "cell_type": "code",
   "execution_count": null,
   "id": "239f634c",
   "metadata": {},
   "outputs": [],
   "source": [
    "list[-1]"
   ]
  },
  {
   "cell_type": "code",
   "execution_count": null,
   "id": "65d80526",
   "metadata": {},
   "outputs": [],
   "source": [
    "list[1:]"
   ]
  },
  {
   "cell_type": "code",
   "execution_count": null,
   "id": "f68f9e26",
   "metadata": {},
   "outputs": [],
   "source": [
    "list=[1,2,3,4]\n",
    "list+[7,6]"
   ]
  },
  {
   "cell_type": "code",
   "execution_count": null,
   "id": "89779c49",
   "metadata": {},
   "outputs": [],
   "source": [
    "list*2 #repeating"
   ]
  },
  {
   "cell_type": "code",
   "execution_count": null,
   "id": "4625e003",
   "metadata": {},
   "outputs": [],
   "source": [
    "li=[\"ihsan\"]\n",
    "li.append(\"mehmood\")\n",
    "li"
   ]
  },
  {
   "cell_type": "code",
   "execution_count": null,
   "id": "595e53b3",
   "metadata": {},
   "outputs": [],
   "source": [
    "l1=[1,2,3,4,5]\n",
    "l1.pop(3)"
   ]
  },
  {
   "cell_type": "code",
   "execution_count": null,
   "id": "3da67f7f",
   "metadata": {},
   "outputs": [],
   "source": [
    "li=[1,2,3,4,8,6,5,5]\n",
    "l1.sort()\n",
    "li"
   ]
  },
  {
   "cell_type": "code",
   "execution_count": null,
   "id": "c0ce5702",
   "metadata": {},
   "outputs": [],
   "source": [
    "#nested list is used for data structure"
   ]
  },
  {
   "cell_type": "code",
   "execution_count": null,
   "id": "45fa251b",
   "metadata": {},
   "outputs": [],
   "source": [
    "l1=[1,2,3]\n",
    "l2=[4,5,6]\n",
    "l3=[7,8,9]\n",
    "matrix=[l1,l2,l3]\n",
    "matrix"
   ]
  },
  {
   "cell_type": "code",
   "execution_count": null,
   "id": "e576a530",
   "metadata": {},
   "outputs": [],
   "source": [
    "l1=[1,2,3]\n",
    "matrix=[l1]\n",
    "matrix[0][1]"
   ]
  },
  {
   "cell_type": "code",
   "execution_count": null,
   "id": "381b62f2",
   "metadata": {},
   "outputs": [],
   "source": [
    "li=[\"ihsan\",\"khan\",]\n",
    "\"ali\" in li"
   ]
  },
  {
   "cell_type": "code",
   "execution_count": null,
   "id": "61f349d4",
   "metadata": {},
   "outputs": [],
   "source": [
    "color_names = ['orange','blue','green']\n",
    "color_names.insert(1,'red')\n",
    "color_names"
   ]
  },
  {
   "cell_type": "code",
   "execution_count": null,
   "id": "8b7cc7b0",
   "metadata": {},
   "outputs": [],
   "source": [
    "list1=[x**3 for x in range(10)]   # all element is mul by 3\n",
    "print(list1)"
   ]
  },
  {
   "cell_type": "code",
   "execution_count": null,
   "id": "247d4c5e",
   "metadata": {},
   "outputs": [],
   "source": [
    "numbers=list(range(10))\n",
    "for value in (x ** 2 for x in numbers if x % 2 != 0):\n",
    "    print(value, end=' ')\n"
   ]
  },
  {
   "cell_type": "code",
   "execution_count": null,
   "id": "d6f04b8d",
   "metadata": {},
   "outputs": [],
   "source": [
    "numbers=(list(range(20)))\n",
    "for value in(x**2 for x in numbers if x%2==0):\n",
    "    print(value,end=\"    \")"
   ]
  },
  {
   "cell_type": "code",
   "execution_count": null,
   "id": "09028cbb",
   "metadata": {},
   "outputs": [],
   "source": [
    "# Make a dictionary with {} "
   ]
  },
  {
   "cell_type": "code",
   "execution_count": null,
   "id": "ab855d1c",
   "metadata": {},
   "outputs": [],
   "source": [
    "dic={1,2,3,4}\n",
    "dic"
   ]
  },
  {
   "cell_type": "code",
   "execution_count": null,
   "id": "c9505f3b",
   "metadata": {},
   "outputs": [],
   "source": [
    "dic={\"key1\":123, \"key2\":[1,2,3]}\n",
    "dic"
   ]
  },
  {
   "cell_type": "code",
   "execution_count": null,
   "id": "c153399c",
   "metadata": {},
   "outputs": [],
   "source": [
    "dic1={\"name1\":\"ihsan\",\"name2\":\"mehmood\"}\n",
    "dic1[\"name1\"]"
   ]
  },
  {
   "cell_type": "code",
   "execution_count": null,
   "id": "5982b9a9",
   "metadata": {},
   "outputs": [],
   "source": [
    "uet_fees={\"cs\":82000,\"ds\":98000}\n",
    "uet_fees[\"ds\"]"
   ]
  },
  {
   "cell_type": "code",
   "execution_count": null,
   "id": "e8675280",
   "metadata": {},
   "outputs": [],
   "source": [
    "price_range={'orange':40,'banana':70}\n",
    "price_range[\"orange\"]"
   ]
  },
  {
   "cell_type": "code",
   "execution_count": null,
   "id": "2566da20",
   "metadata": {},
   "outputs": [],
   "source": [
    "days_per_month = {'January':31,'Feburary':28,'March':30}\n",
    "for month,days in days_per_month.items():\n",
    "    print(f'{month} has {days} days')"
   ]
  },
  {
   "cell_type": "code",
   "execution_count": null,
   "id": "a8c995e6",
   "metadata": {},
   "outputs": [],
   "source": [
    "days_per_month= {'april':29,'may':30,'june':31}\n",
    "days_per_month[\"april\"]"
   ]
  },
  {
   "cell_type": "code",
   "execution_count": null,
   "id": "4765afa8",
   "metadata": {},
   "outputs": [],
   "source": [
    "days_per_month= {'april':29,'may':30,'june':31}\n",
    "for month,days in days_per_month.items():\n",
    "    print(f'{month} has {days} days')"
   ]
  },
  {
   "cell_type": "code",
   "execution_count": null,
   "id": "2ae6dc47",
   "metadata": {},
   "outputs": [],
   "source": [
    "price_quality={\"apple\":{\"pakistan\":120,'swat':130}, \"orange\":{\"hangu\":160,\"mardan\":200}}\n",
    "price_quality[\"orange\"][\"hangu\"]"
   ]
  },
  {
   "cell_type": "code",
   "execution_count": null,
   "id": "def65a21",
   "metadata": {},
   "outputs": [],
   "source": [
    "# Set the object equal to itself minus 123 \n",
    "my_dict=['key1'] -= 123\n",
    "my_dict['key1']"
   ]
  },
  {
   "cell_type": "code",
   "execution_count": null,
   "id": "d4b7d1dc",
   "metadata": {},
   "outputs": [],
   "source": [
    "car = {\n",
    "  \"brand\": \"Ford\",\n",
    "  \"model\": \"Mustang\",\n",
    "  \"year\": 1964,\n",
    "}\n"
   ]
  },
  {
   "cell_type": "code",
   "execution_count": null,
   "id": "da7edc0d",
   "metadata": {},
   "outputs": [],
   "source": [
    "car.clear()\n",
    "print(car)"
   ]
  },
  {
   "cell_type": "code",
   "execution_count": null,
   "id": "c06a3dc5",
   "metadata": {},
   "outputs": [],
   "source": [
    "#copy method retuen all value again\n",
    "car = {\n",
    "  \"brand\": \"Ford\",\n",
    "  \"model\": \"japan\",\n",
    "  \"year\": 1964\n",
    "}\n",
    "\n",
    "x = car.copy()\n",
    "\n",
    "print(x)"
   ]
  },
  {
   "cell_type": "code",
   "execution_count": null,
   "id": "37a16352",
   "metadata": {},
   "outputs": [],
   "source": [
    "# pic specific value with the help of get\n",
    "car = {\n",
    "  \"brand\": \"Ford\",\n",
    "  \"model\": \"japan\",\n",
    "  \"year\": 1964\n",
    "}\n",
    "\n",
    "x = car.get(\"model\")\n",
    "\n",
    "print(x)"
   ]
  },
  {
   "cell_type": "code",
   "execution_count": null,
   "id": "0655b6d1",
   "metadata": {},
   "outputs": [],
   "source": [
    "#if statment#"
   ]
  },
  {
   "cell_type": "code",
   "execution_count": null,
   "id": "ab02e2b1",
   "metadata": {},
   "outputs": [],
   "source": []
  },
  {
   "cell_type": "code",
   "execution_count": null,
   "id": "d99684c4",
   "metadata": {},
   "outputs": [],
   "source": [
    "b=34\n",
    "a=12\n",
    "if a>b:"
   ]
  },
  {
   "cell_type": "code",
   "execution_count": null,
   "id": "356b9fe9",
   "metadata": {},
   "outputs": [],
   "source": [
    "a=20\n",
    "\n",
    "b=200\n",
    "\n",
    "if b>a:\n",
    "\n",
    "print(“b is greater than a”)"
   ]
  },
  {
   "cell_type": "code",
   "execution_count": null,
   "id": "ad09d310",
   "metadata": {},
   "outputs": [],
   "source": [
    "#numpy "
   ]
  },
  {
   "cell_type": "code",
   "execution_count": null,
   "id": "8c8317e6",
   "metadata": {},
   "outputs": [],
   "source": [
    "import numpy as np"
   ]
  },
  {
   "cell_type": "code",
   "execution_count": null,
   "id": "8641ed6e",
   "metadata": {},
   "outputs": [],
   "source": [
    "x=[1,2,3],[4,5,6]"
   ]
  },
  {
   "cell_type": "code",
   "execution_count": null,
   "id": "a1a340ce",
   "metadata": {},
   "outputs": [],
   "source": [
    "x"
   ]
  },
  {
   "cell_type": "code",
   "execution_count": null,
   "id": "cee75fa9",
   "metadata": {},
   "outputs": [],
   "source": [
    "np.array(x)\n"
   ]
  },
  {
   "cell_type": "markdown",
   "id": "027809d5",
   "metadata": {},
   "source": [
    "np.array[1][2]"
   ]
  },
  {
   "cell_type": "code",
   "execution_count": null,
   "id": "446778b1",
   "metadata": {},
   "outputs": [],
   "source": [
    "import numpy as np"
   ]
  },
  {
   "cell_type": "code",
   "execution_count": null,
   "id": "cdb26a82",
   "metadata": {},
   "outputs": [],
   "source": [
    "np.arange(1,19+1)"
   ]
  },
  {
   "cell_type": "code",
   "execution_count": null,
   "id": "1dec10fd",
   "metadata": {},
   "outputs": [],
   "source": [
    "np.arange(0,20,2)#even"
   ]
  },
  {
   "cell_type": "code",
   "execution_count": null,
   "id": "18541159",
   "metadata": {},
   "outputs": [],
   "source": [
    "np.zeros(4)"
   ]
  },
  {
   "cell_type": "code",
   "execution_count": null,
   "id": "9541aec4",
   "metadata": {},
   "outputs": [],
   "source": [
    "np.zeros((3,5))"
   ]
  },
  {
   "cell_type": "code",
   "execution_count": null,
   "id": "950efc9f",
   "metadata": {},
   "outputs": [],
   "source": [
    "#linspace# return evenlly spaced number by specific interval"
   ]
  },
  {
   "cell_type": "code",
   "execution_count": null,
   "id": "5d8b4f99",
   "metadata": {},
   "outputs": [],
   "source": [
    "np.linspace(0,10,3)"
   ]
  },
  {
   "cell_type": "code",
   "execution_count": null,
   "id": "2e8657bb",
   "metadata": {},
   "outputs": [],
   "source": [
    "np.linspace(0,10,50)"
   ]
  },
  {
   "cell_type": "code",
   "execution_count": null,
   "id": "7a6fe0bf",
   "metadata": {},
   "outputs": [],
   "source": [
    "# eyes is used for identity matrix"
   ]
  },
  {
   "cell_type": "code",
   "execution_count": null,
   "id": "8063c477",
   "metadata": {},
   "outputs": [],
   "source": [
    "import numpy as np\n",
    "np.eye(4)"
   ]
  },
  {
   "cell_type": "code",
   "execution_count": null,
   "id": "014acb50",
   "metadata": {},
   "outputs": [],
   "source": [
    "import numpy as np\n",
    "np.random.rand(20)"
   ]
  },
  {
   "cell_type": "code",
   "execution_count": null,
   "id": "9d0fd880",
   "metadata": {},
   "outputs": [],
   "source": [
    "arr = np.arange(25)\n",
    "ranarr = np.random.randint(0,50,10)\n",
    "arr\n"
   ]
  },
  {
   "cell_type": "code",
   "execution_count": null,
   "id": "ecb0a8d9",
   "metadata": {},
   "outputs": [],
   "source": [
    "ranarr"
   ]
  },
  {
   "cell_type": "code",
   "execution_count": null,
   "id": "d2ac5792",
   "metadata": {},
   "outputs": [],
   "source": [
    "#reshap is used for same datatype  25 bit size"
   ]
  },
  {
   "cell_type": "code",
   "execution_count": null,
   "id": "1cf398a2",
   "metadata": {},
   "outputs": [],
   "source": [
    "import numpy as np"
   ]
  },
  {
   "cell_type": "code",
   "execution_count": null,
   "id": "b1f67058",
   "metadata": {},
   "outputs": [],
   "source": [
    "arr.reshape(5,5)"
   ]
  },
  {
   "cell_type": "code",
   "execution_count": null,
   "id": "873b55e1",
   "metadata": {},
   "outputs": [],
   "source": [
    "arr.reshape(5,5)"
   ]
  },
  {
   "cell_type": "code",
   "execution_count": null,
   "id": "1d987d13",
   "metadata": {},
   "outputs": [],
   "source": [
    "ranarr"
   ]
  },
  {
   "cell_type": "code",
   "execution_count": null,
   "id": "e7278b4b",
   "metadata": {},
   "outputs": [],
   "source": [
    "ranarr.max()"
   ]
  },
  {
   "cell_type": "code",
   "execution_count": null,
   "id": "2c2a965b",
   "metadata": {},
   "outputs": [],
   "source": [
    "ranarr.min()"
   ]
  },
  {
   "cell_type": "code",
   "execution_count": null,
   "id": "df898a83",
   "metadata": {},
   "outputs": [],
   "source": [
    "import numpy as np\n",
    "ranarr=np.random.randint(0,20,5)\n",
    "ranarr"
   ]
  },
  {
   "cell_type": "code",
   "execution_count": null,
   "id": "e5dc55af",
   "metadata": {},
   "outputs": [],
   "source": [
    "ranarr.max()"
   ]
  },
  {
   "cell_type": "code",
   "execution_count": null,
   "id": "1c7b6b1d",
   "metadata": {},
   "outputs": [],
   "source": [
    "ranarr.min()"
   ]
  },
  {
   "cell_type": "code",
   "execution_count": null,
   "id": "633fc13d",
   "metadata": {},
   "outputs": [],
   "source": [
    "ranarr.argmax()"
   ]
  },
  {
   "cell_type": "code",
   "execution_count": null,
   "id": "5c451bb6",
   "metadata": {},
   "outputs": [],
   "source": [
    "ranarr.argmin()#show indx"
   ]
  },
  {
   "cell_type": "code",
   "execution_count": null,
   "id": "f2ebe141",
   "metadata": {},
   "outputs": [],
   "source": [
    "import numpy as np\n",
    "ranarr=np.random.randint(0,7,4)\n",
    "ranarr"
   ]
  },
  {
   "cell_type": "code",
   "execution_count": null,
   "id": "a04ced6f",
   "metadata": {},
   "outputs": [],
   "source": [
    "ranarr.max()"
   ]
  },
  {
   "cell_type": "code",
   "execution_count": null,
   "id": "996140d5",
   "metadata": {},
   "outputs": [],
   "source": [
    "ranarr.min()"
   ]
  },
  {
   "cell_type": "code",
   "execution_count": null,
   "id": "72f2e0cf",
   "metadata": {},
   "outputs": [],
   "source": [
    "ranarr.argmax()"
   ]
  },
  {
   "cell_type": "code",
   "execution_count": null,
   "id": "62404faa",
   "metadata": {},
   "outputs": [],
   "source": [
    "ranarr.argmin()"
   ]
  },
  {
   "cell_type": "code",
   "execution_count": null,
   "id": "91d0029a",
   "metadata": {},
   "outputs": [],
   "source": [
    "#numpy index and slection"
   ]
  },
  {
   "cell_type": "code",
   "execution_count": null,
   "id": "aa627391",
   "metadata": {},
   "outputs": [],
   "source": [
    "import numpy as np\n",
    "x=np.arange(1,10)\n",
    "x"
   ]
  },
  {
   "cell_type": "code",
   "execution_count": null,
   "id": "8505ca64",
   "metadata": {},
   "outputs": [],
   "source": [
    "x[3]#index"
   ]
  },
  {
   "cell_type": "code",
   "execution_count": null,
   "id": "5a80c7a4",
   "metadata": {},
   "outputs": [],
   "source": [
    "x[2:6]"
   ]
  },
  {
   "cell_type": "code",
   "execution_count": null,
   "id": "1bfd453c",
   "metadata": {},
   "outputs": [],
   "source": [
    "x[:2:4]"
   ]
  },
  {
   "cell_type": "code",
   "execution_count": null,
   "id": "1d2de2bf",
   "metadata": {},
   "outputs": [],
   "source": [
    "x[3:]"
   ]
  },
  {
   "cell_type": "code",
   "execution_count": null,
   "id": "3acb7f64",
   "metadata": {},
   "outputs": [],
   "source": [
    "x[0:7]"
   ]
  },
  {
   "cell_type": "markdown",
   "id": "c1e5f626",
   "metadata": {},
   "source": [
    "# broadcasting in numpy"
   ]
  },
  {
   "cell_type": "markdown",
   "id": "b35249d5",
   "metadata": {},
   "source": [
    "# #brodcasting in numpyWhat is broadcasting in NumPy?\n",
    "Image result for numpy broadcasting\n",
    "The term broadcasting describes how NumPy treats arrays with different shapes during arithmetic operations"
   ]
  },
  {
   "cell_type": "code",
   "execution_count": null,
   "id": "8cd6046b",
   "metadata": {},
   "outputs": [],
   "source": [
    "#Setting a value with index range (Broadcact\n",
    "import numpy as np\n",
    "arr=np.arange(1,40)\n",
    "arr"
   ]
  },
  {
   "cell_type": "code",
   "execution_count": null,
   "id": "83b22b20",
   "metadata": {},
   "outputs": [],
   "source": [
    "#Setting a value with index range (Broadcasting)\n",
    "arr[0:7]=100\n",
    "arr"
   ]
  },
  {
   "cell_type": "markdown",
   "id": "38e98960",
   "metadata": {},
   "source": [
    "# Slicing in python:\n",
    "means extracting data from one given index to anothe given index, however, NumPy slicing is slightly different. Slicing can be done with the help of (:) . A NumPy array slicing object is constructed by giving start , stop , and step parameters to the built-in slicing function"
   ]
  },
  {
   "cell_type": "code",
   "execution_count": null,
   "id": "0289bbf1",
   "metadata": {},
   "outputs": [],
   "source": [
    "#Important notes on Slices we use for 6 index#\n",
    "slice_of_arr[:][:]=6\n",
    "slice_of_arr"
   ]
  },
  {
   "cell_type": "markdown",
   "id": "4655a5b7",
   "metadata": {},
   "source": [
    "# Indexing a 2D array (matrices)\n",
    "The general format is arr_2d[row][col] or arr_2d[row,col]. I recommend usually using the comma notation for clarity."
   ]
  },
  {
   "cell_type": "code",
   "execution_count": null,
   "id": "0a029e7a",
   "metadata": {},
   "outputs": [],
   "source": [
    "import numpy as np\n",
    "arr_2d=np.array(([1,2,3,5],[5,6,7,8]))\n",
    "arr_2d"
   ]
  },
  {
   "cell_type": "code",
   "execution_count": null,
   "id": "c7a0ac60",
   "metadata": {},
   "outputs": [],
   "source": [
    "import numpy as np\n",
    "x=np.array(([1,2,3],[4,5,6],[7,8,9]))\n",
    "x"
   ]
  },
  {
   "cell_type": "code",
   "execution_count": null,
   "id": "b77b1cdc",
   "metadata": {},
   "outputs": [],
   "source": [
    "x[1]"
   ]
  },
  {
   "cell_type": "code",
   "execution_count": null,
   "id": "319c1b02",
   "metadata": {},
   "outputs": [],
   "source": [
    "# Format is arr_2d[row][col] or arr_2d[row,col]\n",
    "\n",
    "# Getting individual element value\n",
    "x[1][0]"
   ]
  },
  {
   "cell_type": "code",
   "execution_count": null,
   "id": "43315bee",
   "metadata": {},
   "outputs": [],
   "source": [
    "x[2][2]"
   ]
  },
  {
   "cell_type": "code",
   "execution_count": null,
   "id": "53537941",
   "metadata": {},
   "outputs": [],
   "source": [
    "# 2D array slicing\n",
    "\n",
    "#Shape (2,2) from top right corner\n",
    "arr_2d[:2,1:]"
   ]
  },
  {
   "cell_type": "code",
   "execution_count": null,
   "id": "e19109b0",
   "metadata": {},
   "outputs": [],
   "source": [
    "#Shape bottom row\n",
    "arr_2d[1]"
   ]
  },
  {
   "cell_type": "markdown",
   "id": "1f93c9b5",
   "metadata": {},
   "source": [
    "# Fancy Indexing\n",
    "\n",
    "Fancy indexing allows you to select entire rows or columns out of order,to show this, let's quickly build out a numpy array:"
   ]
  },
  {
   "cell_type": "code",
   "execution_count": null,
   "id": "4144b984",
   "metadata": {},
   "outputs": [],
   "source": [
    "import numpy as np\n",
    "x=np.zeros((2,7))\n",
    "x"
   ]
  },
  {
   "cell_type": "code",
   "execution_count": null,
   "id": "dc1bc225",
   "metadata": {},
   "outputs": [],
   "source": [
    "#Length of array\n",
    "arr_length = x.shape[1]\n",
    "arr_length"
   ]
  },
  {
   "cell_type": "code",
   "execution_count": null,
   "id": "a6e4c356",
   "metadata": {},
   "outputs": [],
   "source": [
    "#Set up array\n",
    "import numpy as np\n",
    "x=np.zeros((10,10))\n",
    "x\n",
    "for i in range(arr_length):\n",
    "    x[i] = i\n",
    "    \n",
    "x"
   ]
  },
  {
   "cell_type": "code",
   "execution_count": null,
   "id": "18f56574",
   "metadata": {},
   "outputs": [],
   "source": [
    "import numpy as np\n",
    "arr_2d=np.zeros((7,7))\n",
    "arr_2d"
   ]
  },
  {
   "cell_type": "code",
   "execution_count": null,
   "id": "0534fe59",
   "metadata": {},
   "outputs": [],
   "source": [
    "arr_2d=[[2,3,4],[5,6,7],[8,9]]\n",
    "arr_2d"
   ]
  },
  {
   "cell_type": "code",
   "execution_count": null,
   "id": "fd7e99d8",
   "metadata": {},
   "outputs": [],
   "source": [
    "arr_2d[1]"
   ]
  },
  {
   "cell_type": "code",
   "execution_count": null,
   "id": "fa263ec6",
   "metadata": {},
   "outputs": [],
   "source": [
    "type(arr_2d)"
   ]
  },
  {
   "cell_type": "markdown",
   "id": "2ce2e99a",
   "metadata": {},
   "source": [
    "# Selection\n",
    "Let's briefly go over how to use brackets for selection based off of comparison operators."
   ]
  },
  {
   "cell_type": "code",
   "execution_count": null,
   "id": "f10f763b",
   "metadata": {},
   "outputs": [],
   "source": [
    "import numpy as np\n",
    "array=np.arange(1,19)\n",
    "array"
   ]
  },
  {
   "cell_type": "code",
   "execution_count": null,
   "id": "69f6357a",
   "metadata": {},
   "outputs": [],
   "source": [
    "array >5"
   ]
  },
  {
   "cell_type": "code",
   "execution_count": null,
   "id": "b549837f",
   "metadata": {},
   "outputs": [],
   "source": [
    "bool_arr= array>5\n",
    "bool_arr"
   ]
  },
  {
   "cell_type": "code",
   "execution_count": null,
   "id": "3f73ed53",
   "metadata": {},
   "outputs": [],
   "source": [
    "array[bool_arr]"
   ]
  },
  {
   "cell_type": "code",
   "execution_count": null,
   "id": "040a88ba",
   "metadata": {},
   "outputs": [],
   "source": [
    "x=4\n",
    "array[array>x]"
   ]
  },
  {
   "cell_type": "markdown",
   "id": "8338615a",
   "metadata": {},
   "source": [
    "# # NumPy Operations\n",
    "##Arithmetic\n",
    "You can easily perform array with array arithmetic, or scalar with array arithmetic. Let's see some examples:\n",
    "\n",
    "import numpy as np\n",
    "arr = np.arange(0,10)"
   ]
  },
  {
   "cell_type": "code",
   "execution_count": null,
   "id": "42c50243",
   "metadata": {},
   "outputs": [],
   "source": [
    "import numpy as np\n",
    "arr=np.arange(1,6)\n",
    "arr"
   ]
  },
  {
   "cell_type": "code",
   "execution_count": null,
   "id": "53dec236",
   "metadata": {},
   "outputs": [],
   "source": [
    "arr+arr"
   ]
  },
  {
   "cell_type": "code",
   "execution_count": null,
   "id": "7c25b91f",
   "metadata": {},
   "outputs": [],
   "source": [
    "arr*arr"
   ]
  },
  {
   "cell_type": "code",
   "execution_count": null,
   "id": "2ddcfaac",
   "metadata": {},
   "outputs": [],
   "source": [
    "import numpy as np\n",
    "arr=np.arange(1,10)\n",
    "arr"
   ]
  },
  {
   "cell_type": "code",
   "execution_count": null,
   "id": "f77491b7",
   "metadata": {},
   "outputs": [],
   "source": [
    "arr/arr"
   ]
  },
  {
   "cell_type": "code",
   "execution_count": null,
   "id": "409fdddd",
   "metadata": {},
   "outputs": [],
   "source": [
    "1/arr"
   ]
  },
  {
   "cell_type": "code",
   "execution_count": null,
   "id": "d705e0a5",
   "metadata": {},
   "outputs": [],
   "source": [
    "arr**2"
   ]
  },
  {
   "cell_type": "markdown",
   "id": "f657a0c2",
   "metadata": {},
   "source": [
    "# Universal Array Functions\n",
    "Numpy comes with many universal array functions, which are essentially just mathematical operations you can use to perform the operation across the array. Let's show some common ones:"
   ]
  },
  {
   "cell_type": "code",
   "execution_count": null,
   "id": "38e588a0",
   "metadata": {},
   "outputs": [],
   "source": [
    "import numpy as np\n",
    "arr=np.arange(1,5)\n",
    "arr"
   ]
  },
  {
   "cell_type": "code",
   "execution_count": null,
   "id": "522b95d4",
   "metadata": {},
   "outputs": [],
   "source": [
    "np.sqrt(arr)"
   ]
  },
  {
   "cell_type": "code",
   "execution_count": null,
   "id": "8315f296",
   "metadata": {},
   "outputs": [],
   "source": [
    "np.exp(arr)"
   ]
  },
  {
   "cell_type": "code",
   "execution_count": null,
   "id": "3e3af0e9",
   "metadata": {},
   "outputs": [],
   "source": [
    "np.sin(arr)"
   ]
  },
  {
   "cell_type": "code",
   "execution_count": null,
   "id": "339206f4",
   "metadata": {},
   "outputs": [],
   "source": [
    "np.cos(arr)"
   ]
  },
  {
   "cell_type": "code",
   "execution_count": null,
   "id": "5da22373",
   "metadata": {},
   "outputs": [],
   "source": [
    "np.log(arr)"
   ]
  },
  {
   "cell_type": "markdown",
   "id": "43810652",
   "metadata": {},
   "source": [
    "# Great Job!\n",
    "That's all we need to know for now!\n",
    "\n"
   ]
  },
  {
   "cell_type": "markdown",
   "id": "c3dc0b47",
   "metadata": {},
   "source": [
    "# Introduction to Pandas\n",
    "In this section of the course we will learn how to use pandas for data analysis. You can think of pandas as an extremely powerful version of Excel, with a lot more features. In this section of the course, you should go through the notebooks in this order:\n",
    "\n",
    "Introduction to Pandas\n",
    "Series\n",
    "DataFrames\n",
    "Missing Data\n",
    "GroupBy\n",
    "Merging,Joining,and Concatenating\n",
    "Operations\n",
    "Data Input and Output\n",
    "Dropping\n",
    "Sort and rank"
   ]
  },
  {
   "cell_type": "markdown",
   "id": "6f03ee4f",
   "metadata": {},
   "source": [
    "# Introduction"
   ]
  },
  {
   "cell_type": "markdown",
   "id": "132501e4",
   "metadata": {},
   "source": [
    "###### Pandas is an open source library built on top of NumPy"
   ]
  },
  {
   "cell_type": "markdown",
   "id": "7e99936f",
   "metadata": {},
   "source": [
    "# It allows for fast analysis and data cleaning and preperation\n",
    "#It excels in performance and productivity.\n",
    "##It also has built-in visualization features.\n",
    "##It can work with data from a wide variety of sources."
   ]
  },
  {
   "cell_type": "markdown",
   "id": "4e3f4984",
   "metadata": {},
   "source": [
    "# Creating a Series"
   ]
  },
  {
   "cell_type": "code",
   "execution_count": null,
   "id": "ac7e4d70",
   "metadata": {},
   "outputs": [],
   "source": [
    "import numpy as np\n",
    "import pandas as pd\n",
    "labels = ['a','b','c']\n",
    "my_list = [10,20,30]\n",
    "arr = np.array([10,20,30])\n",
    "d = {'a':10,'b':20,'c':30}"
   ]
  },
  {
   "cell_type": "code",
   "execution_count": null,
   "id": "80e207c9",
   "metadata": {},
   "outputs": [],
   "source": [
    "ser=pd.Series(data=labels)\n",
    "ser"
   ]
  },
  {
   "cell_type": "code",
   "execution_count": null,
   "id": "1c910d74",
   "metadata": {},
   "outputs": [],
   "source": [
    "pd.Series(data=my_list,index=labels)\n",
    "\n"
   ]
  },
  {
   "cell_type": "code",
   "execution_count": null,
   "id": "b4956b42",
   "metadata": {},
   "outputs": [],
   "source": [
    "import numpy as np\n",
    "import pandas as pd\n",
    "x=['e','r','q']\n",
    "my_list=[30,20.10]\n",
    "arr = np.array([10,20,30])\n",
    "d={'a':10,'b':20,'c':30}\n",
    "ser=pd.Series(data=x)\n",
    "ser"
   ]
  },
  {
   "cell_type": "code",
   "execution_count": null,
   "id": "d56cdafe",
   "metadata": {},
   "outputs": [],
   "source": [
    "pd.Series(data=x)"
   ]
  },
  {
   "cell_type": "markdown",
   "id": "336d280d",
   "metadata": {},
   "source": [
    "# Data in a Series\n",
    "\n",
    "A pandas Series can hold a variety of object types:"
   ]
  },
  {
   "cell_type": "code",
   "execution_count": null,
   "id": "686032c9",
   "metadata": {},
   "outputs": [],
   "source": [
    "pd.Series(data=x)"
   ]
  },
  {
   "cell_type": "code",
   "execution_count": null,
   "id": "f5f13ccc",
   "metadata": {},
   "outputs": [],
   "source": [
    "# Even functions (although unlikely that you will use this)\n",
    "pd.Series([sum,print,len])"
   ]
  },
  {
   "cell_type": "markdown",
   "id": "cc1018fe",
   "metadata": {},
   "source": [
    "# using an Index\n",
    "The key to using a Series is understanding its index. Pandas makes use of these index names or numbers by allowing for fast look ups of information (works like a hash table or dictionary).\n",
    "\n",
    "Let's see some examples of how to grab information from a Series. Let us create two sereis, ser1 and ser2:"
   ]
  },
  {
   "cell_type": "code",
   "execution_count": null,
   "id": "f339bc0d",
   "metadata": {},
   "outputs": [],
   "source": [
    "x=pd.Series([1,2,3,4],[\"pak\",'ind','america','afg'])\n",
    "x\n",
    "y=pd.Series([6,7,8,9,2],[\"germani\",'italy','usa','bangladesh','china'])\n",
    "y\n",
    "x"
   ]
  },
  {
   "cell_type": "code",
   "execution_count": 31,
   "id": "6fcb21c4",
   "metadata": {},
   "outputs": [
    {
     "ename": "NameError",
     "evalue": "name 'x' is not defined",
     "output_type": "error",
     "traceback": [
      "\u001b[1;31m---------------------------------------------------------------------------\u001b[0m",
      "\u001b[1;31mNameError\u001b[0m                                 Traceback (most recent call last)",
      "\u001b[1;32m~\\AppData\\Local\\Temp/ipykernel_9012/438470725.py\u001b[0m in \u001b[0;36m<module>\u001b[1;34m\u001b[0m\n\u001b[1;32m----> 1\u001b[1;33m \u001b[0mx\u001b[0m\u001b[1;33m[\u001b[0m\u001b[1;34m'afg'\u001b[0m\u001b[1;33m]\u001b[0m\u001b[1;33m\u001b[0m\u001b[1;33m\u001b[0m\u001b[0m\n\u001b[0m",
      "\u001b[1;31mNameError\u001b[0m: name 'x' is not defined"
     ]
    }
   ],
   "source": [
    "x['afg']"
   ]
  },
  {
   "cell_type": "code",
   "execution_count": null,
   "id": "a559eff2",
   "metadata": {},
   "outputs": [],
   "source": [
    "x['pak']"
   ]
  },
  {
   "cell_type": "code",
   "execution_count": null,
   "id": "5811beeb",
   "metadata": {},
   "outputs": [],
   "source": [
    "z=x+y\n",
    "x,y"
   ]
  },
  {
   "cell_type": "code",
   "execution_count": null,
   "id": "c3c8722a",
   "metadata": {},
   "outputs": [],
   "source": [
    "z"
   ]
  },
  {
   "cell_type": "code",
   "execution_count": null,
   "id": "2895e532",
   "metadata": {},
   "outputs": [],
   "source": [
    "s_attr_methods = set(dir(pd.Series))\n",
    "len(s_attr_methods)"
   ]
  },
  {
   "cell_type": "markdown",
   "id": "926257b1",
   "metadata": {},
   "source": [
    "# Calling Series Methods¶"
   ]
  },
  {
   "cell_type": "code",
   "execution_count": null,
   "id": "fbb26fcb",
   "metadata": {},
   "outputs": [],
   "source": [
    "import numpy as np\n",
    "import pandas as pd"
   ]
  },
  {
   "cell_type": "code",
   "execution_count": null,
   "id": "4d4f47ef",
   "metadata": {},
   "outputs": [],
   "source": [
    "sal=pd.read_csv(\"NorwayMeteoDataCompleted.csv\")\n",
    "sal"
   ]
  },
  {
   "cell_type": "code",
   "execution_count": null,
   "id": "fb9f4c4c",
   "metadata": {},
   "outputs": [],
   "source": [
    "sal.head()"
   ]
  },
  {
   "cell_type": "markdown",
   "id": "b72f29e9",
   "metadata": {},
   "source": [
    "# Introduction to Pandas\n",
    "\n",
    "Create a Series from ndarray\n",
    "\n",
    "Example: Create a pandas series with indexes from 100 to 103 containing data\n",
    "[a,b,c,d] using pandas.Series()"
   ]
  },
  {
   "cell_type": "code",
   "execution_count": 36,
   "id": "03c53e62",
   "metadata": {},
   "outputs": [
    {
     "data": {
      "text/plain": [
       "100    a\n",
       "101    b\n",
       "102    c\n",
       "103    d\n",
       "dtype: object"
      ]
     },
     "execution_count": 36,
     "metadata": {},
     "output_type": "execute_result"
    }
   ],
   "source": [
    "import pandas as pd\n",
    "import numpy as np\n",
    "data=np.array(['a','b','c','d'])\n",
    "s=pd.Series(data,index=[100,101,102,103])\n",
    "s\n"
   ]
  },
  {
   "cell_type": "code",
   "execution_count": 37,
   "id": "04a38184",
   "metadata": {},
   "outputs": [
    {
     "data": {
      "text/plain": [
       "a    10\n",
       "b    20\n",
       "dtype: int64"
      ]
     },
     "execution_count": 37,
     "metadata": {},
     "output_type": "execute_result"
    }
   ],
   "source": [
    "import pandas as pd\n",
    "import numpy as np\n",
    "data={\"a\":10,\"b\":20}\n",
    "s=pd.Series(data)\n",
    "s"
   ]
  },
  {
   "cell_type": "markdown",
   "id": "a712fd95",
   "metadata": {},
   "source": [
    "# Introduction to Pandas\n",
    "\n",
    "Create a Series from scaler\n",
    "\n",
    "If data is a scalar value, an index must be provided. The value will be repeated to match the\n",
    "length of index"
   ]
  },
  {
   "cell_type": "code",
   "execution_count": 38,
   "id": "aa2e8ca4",
   "metadata": {},
   "outputs": [
    {
     "data": {
      "text/plain": [
       "1    5\n",
       "3    5\n",
       "4    5\n",
       "5    5\n",
       "dtype: int64"
      ]
     },
     "execution_count": 38,
     "metadata": {},
     "output_type": "execute_result"
    }
   ],
   "source": [
    "import pandas as pd\n",
    "import numpy as np\n",
    "data=pd.Series(5,index=[1,3,4,5])\n",
    "data"
   ]
  },
  {
   "cell_type": "code",
   "execution_count": 40,
   "id": "cdaad944",
   "metadata": {},
   "outputs": [
    {
     "data": {
      "text/plain": [
       "1    3\n",
       "2    3\n",
       "3    3\n",
       "4    3\n",
       "dtype: int64"
      ]
     },
     "execution_count": 40,
     "metadata": {},
     "output_type": "execute_result"
    }
   ],
   "source": [
    "import pandas as pd\n",
    "import numpy as np\n",
    "x=pd.Series(3,index=[1,2,3,4])\n",
    "x"
   ]
  },
  {
   "cell_type": "markdown",
   "id": "e42fc023",
   "metadata": {},
   "source": [
    "# Accessing Data from Series\n",
    "\n",
    "Example :Retrieve multiple elements using a list of index label values"
   ]
  },
  {
   "cell_type": "code",
   "execution_count": 49,
   "id": "93deb95d",
   "metadata": {},
   "outputs": [
    {
     "data": {
      "text/plain": [
       "a    1\n",
       "b    2\n",
       "dtype: int64"
      ]
     },
     "execution_count": 49,
     "metadata": {},
     "output_type": "execute_result"
    }
   ],
   "source": [
    "import pandas as pd\n",
    "import numpy as np\n",
    "x=pd.Series([1,2,3,4],index=['a','b','c','d'])\n",
    "x[[\"a\",'b']]"
   ]
  },
  {
   "cell_type": "markdown",
   "id": "523eb55c",
   "metadata": {},
   "source": [
    "# Python Data Frame\n",
    "\n",
    "A Data frame is a two-dimensional data structure, i.e., data is aligned in a tabular\n",
    "fashion in rows and columns\n",
    "\n",
    "Features of DataFrame\n",
    "\n",
    "Potentially columns are of different types\n",
    "\n",
    "Size – Mutable\n",
    "\n",
    "Labeled axes (rows and columns)\n",
    "\n",
    "Can Perform Arithmetic operations on rows and columns"
   ]
  },
  {
   "cell_type": "markdown",
   "id": "49dd79ac",
   "metadata": {},
   "source": [
    "# Creating DataFrame from Lists"
   ]
  },
  {
   "cell_type": "code",
   "execution_count": 62,
   "id": "aae0cf03",
   "metadata": {},
   "outputs": [
    {
     "data": {
      "text/html": [
       "<div>\n",
       "<style scoped>\n",
       "    .dataframe tbody tr th:only-of-type {\n",
       "        vertical-align: middle;\n",
       "    }\n",
       "\n",
       "    .dataframe tbody tr th {\n",
       "        vertical-align: top;\n",
       "    }\n",
       "\n",
       "    .dataframe thead th {\n",
       "        text-align: right;\n",
       "    }\n",
       "</style>\n",
       "<table border=\"1\" class=\"dataframe\">\n",
       "  <thead>\n",
       "    <tr style=\"text-align: right;\">\n",
       "      <th></th>\n",
       "      <th>name</th>\n",
       "      <th>age</th>\n",
       "      <th>pro</th>\n",
       "    </tr>\n",
       "  </thead>\n",
       "  <tbody>\n",
       "    <tr>\n",
       "      <th>0</th>\n",
       "      <td>ihsan</td>\n",
       "      <td>10</td>\n",
       "      <td>king</td>\n",
       "    </tr>\n",
       "    <tr>\n",
       "      <th>1</th>\n",
       "      <td>Sami</td>\n",
       "      <td>20</td>\n",
       "      <td>guwalma</td>\n",
       "    </tr>\n",
       "    <tr>\n",
       "      <th>2</th>\n",
       "      <td>hamza</td>\n",
       "      <td>40</td>\n",
       "      <td>commentking</td>\n",
       "    </tr>\n",
       "    <tr>\n",
       "      <th>3</th>\n",
       "      <td>amir</td>\n",
       "      <td>50</td>\n",
       "      <td>akbar hafizsahab</td>\n",
       "    </tr>\n",
       "    <tr>\n",
       "      <th>4</th>\n",
       "      <td>sufyan</td>\n",
       "      <td>15</td>\n",
       "      <td>yari</td>\n",
       "    </tr>\n",
       "  </tbody>\n",
       "</table>\n",
       "</div>"
      ],
      "text/plain": [
       "     name  age               pro\n",
       "0   ihsan   10              king\n",
       "1    Sami   20           guwalma\n",
       "2   hamza   40       commentking\n",
       "3    amir   50  akbar hafizsahab\n",
       "4  sufyan   15              yari"
      ]
     },
     "execution_count": 62,
     "metadata": {},
     "output_type": "execute_result"
    }
   ],
   "source": [
    "import pandas as pd\n",
    "import numpy as np\n",
    "data=[['ihsan',10,'king'],['Sami',20,'guwalma'],[\"hamza\",40,'commentking'],[\"amir\",50,'akbar hafizsahab'],['sufyan',15,'yari']]\n",
    "x=pd.DataFrame(data,columns=['name','age','pro'])\n",
    "x"
   ]
  },
  {
   "cell_type": "code",
   "execution_count": 81,
   "id": "a2358773",
   "metadata": {},
   "outputs": [
    {
     "data": {
      "text/html": [
       "<div>\n",
       "<style scoped>\n",
       "    .dataframe tbody tr th:only-of-type {\n",
       "        vertical-align: middle;\n",
       "    }\n",
       "\n",
       "    .dataframe tbody tr th {\n",
       "        vertical-align: top;\n",
       "    }\n",
       "\n",
       "    .dataframe thead th {\n",
       "        text-align: right;\n",
       "    }\n",
       "</style>\n",
       "<table border=\"1\" class=\"dataframe\">\n",
       "  <thead>\n",
       "    <tr style=\"text-align: right;\">\n",
       "      <th></th>\n",
       "      <th>name</th>\n",
       "      <th>age</th>\n",
       "      <th>hjk</th>\n",
       "    </tr>\n",
       "  </thead>\n",
       "  <tbody>\n",
       "    <tr>\n",
       "      <th>0</th>\n",
       "      <td>Uzair</td>\n",
       "      <td>13</td>\n",
       "      <td>chaska</td>\n",
       "    </tr>\n",
       "    <tr>\n",
       "      <th>1</th>\n",
       "      <td>Talha</td>\n",
       "      <td>26</td>\n",
       "      <td>bombari</td>\n",
       "    </tr>\n",
       "  </tbody>\n",
       "</table>\n",
       "</div>"
      ],
      "text/plain": [
       "    name  age      hjk\n",
       "0  Uzair   13   chaska\n",
       "1  Talha   26  bombari"
      ]
     },
     "execution_count": 81,
     "metadata": {},
     "output_type": "execute_result"
    }
   ],
   "source": [
    "import pandas as pd\n",
    "import numpy as np\n",
    "x=[['Uzair',13,'chaska'],['Talha',26,'bombari']]\n",
    "y=pd.DataFrame(x,columns=['name','age','hjk'])\n",
    "y"
   ]
  },
  {
   "cell_type": "markdown",
   "id": "6ef3914d",
   "metadata": {},
   "source": [
    "# Creating DataFrame from Dict of ndarrays / Lists\n",
    "\n",
    "All the ndarrays must be of same length.\n",
    "\n",
    "If index is passed, then the length of the index should equal to the length of the arrays\n",
    "\n",
    "If no index is passed, then by default, index will be range(n), where n is the array length"
   ]
  },
  {
   "cell_type": "code",
   "execution_count": 90,
   "id": "a38584ad",
   "metadata": {},
   "outputs": [
    {
     "data": {
      "text/html": [
       "<div>\n",
       "<style scoped>\n",
       "    .dataframe tbody tr th:only-of-type {\n",
       "        vertical-align: middle;\n",
       "    }\n",
       "\n",
       "    .dataframe tbody tr th {\n",
       "        vertical-align: top;\n",
       "    }\n",
       "\n",
       "    .dataframe thead th {\n",
       "        text-align: right;\n",
       "    }\n",
       "</style>\n",
       "<table border=\"1\" class=\"dataframe\">\n",
       "  <thead>\n",
       "    <tr style=\"text-align: right;\">\n",
       "      <th></th>\n",
       "      <th>Name</th>\n",
       "      <th>profession</th>\n",
       "    </tr>\n",
       "  </thead>\n",
       "  <tbody>\n",
       "    <tr>\n",
       "      <th>0</th>\n",
       "      <td>Monem</td>\n",
       "      <td>docter</td>\n",
       "    </tr>\n",
       "    <tr>\n",
       "      <th>1</th>\n",
       "      <td>Adnan</td>\n",
       "      <td>Taylor</td>\n",
       "    </tr>\n",
       "    <tr>\n",
       "      <th>2</th>\n",
       "      <td>Wahab</td>\n",
       "      <td>Commentator</td>\n",
       "    </tr>\n",
       "  </tbody>\n",
       "</table>\n",
       "</div>"
      ],
      "text/plain": [
       "    Name   profession\n",
       "0  Monem       docter\n",
       "1  Adnan       Taylor\n",
       "2  Wahab  Commentator"
      ]
     },
     "execution_count": 90,
     "metadata": {},
     "output_type": "execute_result"
    }
   ],
   "source": [
    "import pandas as pd\n",
    "import numpy as np\n",
    "x= {'Name':['Monem','Adnan','Wahab'],'profession':['docter','Taylor','Commentator']}\n",
    "df=pd.DataFrame(x,columns=[\"Name\",'profession'])\n",
    "df"
   ]
  },
  {
   "cell_type": "markdown",
   "id": "f104b37b",
   "metadata": {},
   "source": [
    "# Creating a DataFrame from List of Dicts"
   ]
  },
  {
   "cell_type": "code",
   "execution_count": 106,
   "id": "1b7d9931",
   "metadata": {},
   "outputs": [
    {
     "data": {
      "text/html": [
       "<div>\n",
       "<style scoped>\n",
       "    .dataframe tbody tr th:only-of-type {\n",
       "        vertical-align: middle;\n",
       "    }\n",
       "\n",
       "    .dataframe tbody tr th {\n",
       "        vertical-align: top;\n",
       "    }\n",
       "\n",
       "    .dataframe thead th {\n",
       "        text-align: right;\n",
       "    }\n",
       "</style>\n",
       "<table border=\"1\" class=\"dataframe\">\n",
       "  <thead>\n",
       "    <tr style=\"text-align: right;\">\n",
       "      <th></th>\n",
       "      <th>a</th>\n",
       "      <th>b</th>\n",
       "      <th>c</th>\n",
       "    </tr>\n",
       "  </thead>\n",
       "  <tbody>\n",
       "    <tr>\n",
       "      <th>Rank1</th>\n",
       "      <td>12</td>\n",
       "      <td>34</td>\n",
       "      <td>46.0</td>\n",
       "    </tr>\n",
       "    <tr>\n",
       "      <th>rank2</th>\n",
       "      <td>35</td>\n",
       "      <td>44</td>\n",
       "      <td>NaN</td>\n",
       "    </tr>\n",
       "  </tbody>\n",
       "</table>\n",
       "</div>"
      ],
      "text/plain": [
       "        a   b     c\n",
       "Rank1  12  34  46.0\n",
       "rank2  35  44   NaN"
      ]
     },
     "execution_count": 106,
     "metadata": {},
     "output_type": "execute_result"
    }
   ],
   "source": [
    "import pandas as pd\n",
    "import numpy as np\n",
    "x=[{'a':12,'b':34,'c':46},{'a':35,'b':44}]\n",
    "df=pd.DataFrame(x,index=['Rank1','rank2'],columns=['a', 'b','c'])\n",
    "df"
   ]
  },
  {
   "cell_type": "markdown",
   "id": "3f03ac07",
   "metadata": {},
   "source": [
    "# Addition of Rows\n",
    "\n",
    "Add new rows to a DataFrame using the append function\n",
    "\n",
    "This function will append the rows at the end"
   ]
  },
  {
   "cell_type": "code",
   "execution_count": 113,
   "id": "c0501a92",
   "metadata": {},
   "outputs": [
    {
     "data": {
      "text/html": [
       "<div>\n",
       "<style scoped>\n",
       "    .dataframe tbody tr th:only-of-type {\n",
       "        vertical-align: middle;\n",
       "    }\n",
       "\n",
       "    .dataframe tbody tr th {\n",
       "        vertical-align: top;\n",
       "    }\n",
       "\n",
       "    .dataframe thead th {\n",
       "        text-align: right;\n",
       "    }\n",
       "</style>\n",
       "<table border=\"1\" class=\"dataframe\">\n",
       "  <thead>\n",
       "    <tr style=\"text-align: right;\">\n",
       "      <th></th>\n",
       "      <th>a</th>\n",
       "      <th>c</th>\n",
       "    </tr>\n",
       "  </thead>\n",
       "  <tbody>\n",
       "    <tr>\n",
       "      <th>0</th>\n",
       "      <td>1</td>\n",
       "      <td>3</td>\n",
       "    </tr>\n",
       "    <tr>\n",
       "      <th>1</th>\n",
       "      <td>4</td>\n",
       "      <td>7</td>\n",
       "    </tr>\n",
       "    <tr>\n",
       "      <th>0</th>\n",
       "      <td>4</td>\n",
       "      <td>0</td>\n",
       "    </tr>\n",
       "    <tr>\n",
       "      <th>1</th>\n",
       "      <td>3</td>\n",
       "      <td>6</td>\n",
       "    </tr>\n",
       "  </tbody>\n",
       "</table>\n",
       "</div>"
      ],
      "text/plain": [
       "   a  c\n",
       "0  1  3\n",
       "1  4  7\n",
       "0  4  0\n",
       "1  3  6"
      ]
     },
     "execution_count": 113,
     "metadata": {},
     "output_type": "execute_result"
    }
   ],
   "source": [
    "import pandas as pd\n",
    "import numpy as np\n",
    "x=pd.DataFrame([[1,3],[4,7]],columns=['a','c'])\n",
    "y=pd.DataFrame([[4,0],[3,6]],columns=['a','c'])\n",
    "x=x.append(y)\n",
    "x"
   ]
  },
  {
   "cell_type": "code",
   "execution_count": 116,
   "id": "67c70c5d",
   "metadata": {},
   "outputs": [
    {
     "data": {
      "text/html": [
       "<div>\n",
       "<style scoped>\n",
       "    .dataframe tbody tr th:only-of-type {\n",
       "        vertical-align: middle;\n",
       "    }\n",
       "\n",
       "    .dataframe tbody tr th {\n",
       "        vertical-align: top;\n",
       "    }\n",
       "\n",
       "    .dataframe thead th {\n",
       "        text-align: right;\n",
       "    }\n",
       "</style>\n",
       "<table border=\"1\" class=\"dataframe\">\n",
       "  <thead>\n",
       "    <tr style=\"text-align: right;\">\n",
       "      <th></th>\n",
       "      <th>a</th>\n",
       "      <th>c</th>\n",
       "    </tr>\n",
       "  </thead>\n",
       "  <tbody>\n",
       "    <tr>\n",
       "      <th>0</th>\n",
       "      <td>1</td>\n",
       "      <td>3</td>\n",
       "    </tr>\n",
       "    <tr>\n",
       "      <th>0</th>\n",
       "      <td>4</td>\n",
       "      <td>0</td>\n",
       "    </tr>\n",
       "  </tbody>\n",
       "</table>\n",
       "</div>"
      ],
      "text/plain": [
       "   a  c\n",
       "0  1  3\n",
       "0  4  0"
      ]
     },
     "execution_count": 116,
     "metadata": {},
     "output_type": "execute_result"
    }
   ],
   "source": [
    "import pandas as pd\n",
    "import numpy as np\n",
    "x=pd.DataFrame([[1,3],[4,7]],columns=['a','c'])\n",
    "y=pd.DataFrame([[4,0],[3,6]],columns=['a','c'])\n",
    "x=x.append(y)\n",
    "x=x.drop(1)\n",
    "x"
   ]
  },
  {
   "cell_type": "markdown",
   "id": "9b426c2e",
   "metadata": {},
   "source": [
    "# Series Basic Functionality\n",
    "\n",
    "Sr.No.\n",
    "\n",
    "Attribute or Method & Description\n",
    "\n",
    "1\n",
    "\n",
    "axes\n",
    "\n",
    "Returns a list of the row axis labels\n",
    "\n",
    "2\n",
    "\n",
    "dtype\n",
    "\n",
    "Returns the dtype of the object.\n",
    "\n",
    "3\n",
    "\n",
    "empty\n",
    "\n",
    "Returns True if series is empty.\n",
    "\n",
    "4\n",
    "\n",
    "ndim\n",
    "\n",
    "Returns the number of dimensions of the underlying data, by definition 1.\n",
    "\n",
    "5\n",
    "\n",
    "size\n",
    "\n",
    "Returns the number of elements in the underlying data.\n",
    "\n",
    "6\n",
    "\n",
    "values\n",
    "\n",
    "Returns the Series as ndarray.\n",
    "\n",
    "7\n",
    "\n",
    "head()\n",
    "\n",
    "Returns the first n rows.\n",
    "\n",
    "8\n",
    "\n",
    "tail()\n",
    "\n",
    "Returns the last n rows."
   ]
  },
  {
   "cell_type": "markdown",
   "id": "576173c5",
   "metadata": {},
   "source": [
    "# Series Basic Functionality\n",
    "\n",
    "Create a Series and see all the attributes operation"
   ]
  },
  {
   "cell_type": "code",
   "execution_count": 123,
   "id": "7c9d158e",
   "metadata": {},
   "outputs": [
    {
     "data": {
      "text/plain": [
       "0    0.561461\n",
       "1   -0.626878\n",
       "2   -1.190826\n",
       "3   -0.218577\n",
       "dtype: float64"
      ]
     },
     "execution_count": 123,
     "metadata": {},
     "output_type": "execute_result"
    }
   ],
   "source": [
    "import pandas as pd\n",
    "x=pd.Series(np.random.randn(4))\n",
    "x"
   ]
  },
  {
   "cell_type": "markdown",
   "id": "fadb2163",
   "metadata": {},
   "source": [
    "# Axes\n",
    "\n",
    "Returns the list of the labels of the series"
   ]
  },
  {
   "cell_type": "code",
   "execution_count": 137,
   "id": "000a31c4",
   "metadata": {},
   "outputs": [
    {
     "name": "stdout",
     "output_type": "stream",
     "text": [
      "the axis are\n"
     ]
    },
    {
     "data": {
      "text/plain": [
       "[RangeIndex(start=0, stop=4, step=1)]"
      ]
     },
     "execution_count": 137,
     "metadata": {},
     "output_type": "execute_result"
    }
   ],
   "source": [
    "import pandas as pd\n",
    "x=pd.Series(np.random.randn(4))\n",
    "print(\"the axis are\")\n",
    "x.axes"
   ]
  },
  {
   "cell_type": "markdown",
   "id": "93525d05",
   "metadata": {},
   "source": [
    "# empty\n",
    "\n",
    "Returns the Boolean value saying whether the Object is empty or not\n",
    "\n",
    "True indicates that the object is empty"
   ]
  },
  {
   "cell_type": "code",
   "execution_count": 144,
   "id": "80ea7cf4",
   "metadata": {},
   "outputs": [
    {
     "name": "stdout",
     "output_type": "stream",
     "text": [
      "the \n"
     ]
    },
    {
     "data": {
      "text/plain": [
       "False"
      ]
     },
     "execution_count": 144,
     "metadata": {},
     "output_type": "execute_result"
    }
   ],
   "source": [
    "import pandas as pd\n",
    "x=pd.Series(np.random.randn(4))\n",
    "print(\"the \")\n",
    "x\n",
    "x.empty"
   ]
  },
  {
   "cell_type": "markdown",
   "id": "2a2164ee",
   "metadata": {},
   "source": [
    "# ndim\n",
    "\n",
    "Returns the number of dimensions of the object. By definition, a Series is a 1D data structure, so\n",
    "it returns"
   ]
  },
  {
   "cell_type": "code",
   "execution_count": 146,
   "id": "cedf6d16",
   "metadata": {},
   "outputs": [
    {
     "data": {
      "text/plain": [
       "0   -1.777107\n",
       "1   -0.279071\n",
       "2   -0.445605\n",
       "3   -0.084278\n",
       "4    0.445712\n",
       "5   -0.387663\n",
       "6   -1.655145\n",
       "7    0.158030\n",
       "8   -0.018395\n",
       "dtype: float64"
      ]
     },
     "execution_count": 146,
     "metadata": {},
     "output_type": "execute_result"
    }
   ],
   "source": [
    "import pandas as pd\n",
    "x=pd.Series(np.random.randn(9))\n",
    "x\n",
    "\n"
   ]
  },
  {
   "cell_type": "code",
   "execution_count": 147,
   "id": "a6f5bfb2",
   "metadata": {},
   "outputs": [
    {
     "name": "stdout",
     "output_type": "stream",
     "text": [
      "\n"
     ]
    },
    {
     "data": {
      "text/plain": [
       "1"
      ]
     },
     "execution_count": 147,
     "metadata": {},
     "output_type": "execute_result"
    }
   ],
   "source": [
    "print(\"\")\n",
    "x.ndim"
   ]
  },
  {
   "cell_type": "markdown",
   "id": "e2a34f75",
   "metadata": {},
   "source": [
    "# size\n",
    "\n",
    "Returns the size(length) of the series"
   ]
  },
  {
   "cell_type": "code",
   "execution_count": 2,
   "id": "2abaa5a3",
   "metadata": {},
   "outputs": [
    {
     "data": {
      "text/plain": [
       "0   -0.400681\n",
       "1   -0.859754\n",
       "2   -1.859419\n",
       "3   -0.413457\n",
       "4   -0.367043\n",
       "5    0.489807\n",
       "6    0.789731\n",
       "dtype: float64"
      ]
     },
     "execution_count": 2,
     "metadata": {},
     "output_type": "execute_result"
    }
   ],
   "source": [
    "import pandas as pd\n",
    "import numpy as np\n",
    "x=pd.Series(np.random.randn(7))\n",
    "x"
   ]
  },
  {
   "cell_type": "code",
   "execution_count": 3,
   "id": "3d21d039",
   "metadata": {},
   "outputs": [
    {
     "data": {
      "text/plain": [
       "7"
      ]
     },
     "execution_count": 3,
     "metadata": {},
     "output_type": "execute_result"
    }
   ],
   "source": [
    "x.size"
   ]
  },
  {
   "cell_type": "markdown",
   "id": "54b370d5",
   "metadata": {},
   "source": [
    "# values\n",
    "\n",
    "Returns the actual data in the series as an array"
   ]
  },
  {
   "cell_type": "code",
   "execution_count": 5,
   "id": "88ec9e59",
   "metadata": {},
   "outputs": [
    {
     "data": {
      "text/plain": [
       "0    0.261136\n",
       "1    0.462817\n",
       "2    1.774258\n",
       "3    2.369825\n",
       "4   -1.232624\n",
       "5    1.506217\n",
       "dtype: float64"
      ]
     },
     "execution_count": 5,
     "metadata": {},
     "output_type": "execute_result"
    }
   ],
   "source": [
    "import pandas as pd\n",
    "import numpy as np\n",
    "x=pd.Series(np.random.randn(6))\n",
    "x"
   ]
  },
  {
   "cell_type": "code",
   "execution_count": 7,
   "id": "cc3f4cad",
   "metadata": {},
   "outputs": [
    {
     "data": {
      "text/plain": [
       "array([ 0.26113644,  0.4628169 ,  1.77425786,  2.36982548, -1.2326243 ,\n",
       "        1.50621692])"
      ]
     },
     "execution_count": 7,
     "metadata": {},
     "output_type": "execute_result"
    }
   ],
   "source": [
    "x.values"
   ]
  },
  {
   "cell_type": "markdown",
   "id": "ac84752b",
   "metadata": {},
   "source": [
    "# head and tail\n",
    "\n",
    "To view a small sample of a Series or the DataFrame object, use the head() and the tail() methods.\n",
    "head() returns the first n rows(observe the index values). The default number of elements to display is five,\n",
    "but you may pass a custom number"
   ]
  },
  {
   "cell_type": "code",
   "execution_count": 8,
   "id": "2d11fbfd",
   "metadata": {},
   "outputs": [
    {
     "data": {
      "text/plain": [
       "0     0.085810\n",
       "1    -0.311131\n",
       "2     0.589893\n",
       "3     0.748455\n",
       "4     0.316962\n",
       "5     0.212915\n",
       "6    -1.900011\n",
       "7    -0.017164\n",
       "8     1.171147\n",
       "9    -0.485977\n",
       "10    0.046824\n",
       "11   -1.084310\n",
       "12    1.049132\n",
       "13    0.893605\n",
       "14   -0.190604\n",
       "15   -1.018718\n",
       "16    0.102972\n",
       "17    1.043360\n",
       "18   -0.642997\n",
       "19    1.038738\n",
       "20   -0.859660\n",
       "21   -0.629361\n",
       "22   -1.011824\n",
       "23    1.474254\n",
       "24   -0.062354\n",
       "25    0.946511\n",
       "26   -0.116273\n",
       "27    1.611611\n",
       "28   -0.755853\n",
       "29   -1.910822\n",
       "30   -1.233340\n",
       "31   -0.571142\n",
       "32    0.895361\n",
       "33   -0.726102\n",
       "34    0.453638\n",
       "35    0.052408\n",
       "36    0.653929\n",
       "37   -0.247942\n",
       "38    0.466636\n",
       "dtype: float64"
      ]
     },
     "execution_count": 8,
     "metadata": {},
     "output_type": "execute_result"
    }
   ],
   "source": [
    "import pandas as pd\n",
    "import numpy as np\n",
    "x=pd.Series(np.random.randn(39))\n",
    "x"
   ]
  },
  {
   "cell_type": "code",
   "execution_count": 10,
   "id": "37575b46",
   "metadata": {},
   "outputs": [
    {
     "data": {
      "text/plain": [
       "0    0.085810\n",
       "1   -0.311131\n",
       "2    0.589893\n",
       "3    0.748455\n",
       "4    0.316962\n",
       "dtype: float64"
      ]
     },
     "execution_count": 10,
     "metadata": {},
     "output_type": "execute_result"
    }
   ],
   "source": [
    "x.head()# first five"
   ]
  },
  {
   "cell_type": "code",
   "execution_count": 11,
   "id": "4781b6ac",
   "metadata": {},
   "outputs": [
    {
     "data": {
      "text/plain": [
       "0    0.085810\n",
       "1   -0.311131\n",
       "2    0.589893\n",
       "dtype: float64"
      ]
     },
     "execution_count": 11,
     "metadata": {},
     "output_type": "execute_result"
    }
   ],
   "source": [
    "x.head(3)"
   ]
  },
  {
   "cell_type": "code",
   "execution_count": 12,
   "id": "0fb7b124",
   "metadata": {},
   "outputs": [
    {
     "data": {
      "text/plain": [
       "34    0.453638\n",
       "35    0.052408\n",
       "36    0.653929\n",
       "37   -0.247942\n",
       "38    0.466636\n",
       "dtype: float64"
      ]
     },
     "execution_count": 12,
     "metadata": {},
     "output_type": "execute_result"
    }
   ],
   "source": [
    "x.tail()# last 5"
   ]
  },
  {
   "cell_type": "markdown",
   "id": "d53ad6fb",
   "metadata": {},
   "source": [
    "# Data Frame Basic Functionality\n",
    "\n",
    "Create a Series and see all the attributes operation"
   ]
  },
  {
   "cell_type": "code",
   "execution_count": 17,
   "id": "77229853",
   "metadata": {},
   "outputs": [
    {
     "data": {
      "text/html": [
       "<div>\n",
       "<style scoped>\n",
       "    .dataframe tbody tr th:only-of-type {\n",
       "        vertical-align: middle;\n",
       "    }\n",
       "\n",
       "    .dataframe tbody tr th {\n",
       "        vertical-align: top;\n",
       "    }\n",
       "\n",
       "    .dataframe thead th {\n",
       "        text-align: right;\n",
       "    }\n",
       "</style>\n",
       "<table border=\"1\" class=\"dataframe\">\n",
       "  <thead>\n",
       "    <tr style=\"text-align: right;\">\n",
       "      <th></th>\n",
       "      <th>Name</th>\n",
       "      <th>age</th>\n",
       "      <th>rating</th>\n",
       "    </tr>\n",
       "  </thead>\n",
       "  <tbody>\n",
       "    <tr>\n",
       "      <th>0</th>\n",
       "      <td>ihsan</td>\n",
       "      <td>20</td>\n",
       "      <td>4.00</td>\n",
       "    </tr>\n",
       "    <tr>\n",
       "      <th>1</th>\n",
       "      <td>Memory card</td>\n",
       "      <td>21</td>\n",
       "      <td>3.09</td>\n",
       "    </tr>\n",
       "    <tr>\n",
       "      <th>2</th>\n",
       "      <td>Amir</td>\n",
       "      <td>22</td>\n",
       "      <td>2.33</td>\n",
       "    </tr>\n",
       "    <tr>\n",
       "      <th>3</th>\n",
       "      <td>Zeeshan</td>\n",
       "      <td>23</td>\n",
       "      <td>3.00</td>\n",
       "    </tr>\n",
       "  </tbody>\n",
       "</table>\n",
       "</div>"
      ],
      "text/plain": [
       "          Name  age  rating\n",
       "0        ihsan   20    4.00\n",
       "1  Memory card   21    3.09\n",
       "2         Amir   22    2.33\n",
       "3      Zeeshan   23    3.00"
      ]
     },
     "execution_count": 17,
     "metadata": {},
     "output_type": "execute_result"
    }
   ],
   "source": [
    "import pandas as pd\n",
    "import numpy as np\n",
    "d={ 'Name':pd.Series(['ihsan','Memory card','Amir','Zeeshan']),'age':pd.Series([20,21,22,23]),\"rating\":pd.Series([4.0,3.09,2.33,3.00])}\n",
    "df=pd.DataFrame(d)\n",
    "df"
   ]
  },
  {
   "cell_type": "code",
   "execution_count": 2,
   "id": "ac3629fd",
   "metadata": {},
   "outputs": [
    {
     "ename": "ValueError",
     "evalue": "array length 1 does not match index length 2",
     "output_type": "error",
     "traceback": [
      "\u001b[1;31m---------------------------------------------------------------------------\u001b[0m",
      "\u001b[1;31mValueError\u001b[0m                                Traceback (most recent call last)",
      "\u001b[1;32m~\\AppData\\Local\\Temp/ipykernel_6940/3691662806.py\u001b[0m in \u001b[0;36m<module>\u001b[1;34m\u001b[0m\n\u001b[0;32m      2\u001b[0m \u001b[1;32mimport\u001b[0m \u001b[0mnumpy\u001b[0m \u001b[1;32mas\u001b[0m \u001b[0mnp\u001b[0m\u001b[1;33m\u001b[0m\u001b[1;33m\u001b[0m\u001b[0m\n\u001b[0;32m      3\u001b[0m \u001b[0mx\u001b[0m\u001b[1;33m=\u001b[0m\u001b[1;33m{\u001b[0m\u001b[1;34m'University'\u001b[0m\u001b[1;33m:\u001b[0m\u001b[0mpd\u001b[0m\u001b[1;33m.\u001b[0m\u001b[0mSeries\u001b[0m\u001b[1;33m(\u001b[0m\u001b[1;33m[\u001b[0m\u001b[1;34m\"ihsan\"\u001b[0m\u001b[1;33m,\u001b[0m\u001b[1;34m'memory card'\u001b[0m\u001b[1;33m]\u001b[0m\u001b[1;33m)\u001b[0m\u001b[1;33m,\u001b[0m\u001b[1;34m'section'\u001b[0m\u001b[1;33m:\u001b[0m\u001b[1;33m(\u001b[0m\u001b[1;33m[\u001b[0m\u001b[1;34m'Data science'\u001b[0m\u001b[1;33m]\u001b[0m\u001b[1;33m)\u001b[0m\u001b[1;33m}\u001b[0m\u001b[1;33m\u001b[0m\u001b[1;33m\u001b[0m\u001b[0m\n\u001b[1;32m----> 4\u001b[1;33m \u001b[0mdf\u001b[0m\u001b[1;33m=\u001b[0m\u001b[0mpd\u001b[0m\u001b[1;33m.\u001b[0m\u001b[0mDataFrame\u001b[0m\u001b[1;33m(\u001b[0m\u001b[0mx\u001b[0m\u001b[1;33m)\u001b[0m\u001b[1;33m\u001b[0m\u001b[1;33m\u001b[0m\u001b[0m\n\u001b[0m\u001b[0;32m      5\u001b[0m \u001b[0mdf\u001b[0m\u001b[1;33m\u001b[0m\u001b[1;33m\u001b[0m\u001b[0m\n",
      "\u001b[1;32m~\\anaconda3\\lib\\site-packages\\pandas\\core\\frame.py\u001b[0m in \u001b[0;36m__init__\u001b[1;34m(self, data, index, columns, dtype, copy)\u001b[0m\n\u001b[0;32m    612\u001b[0m         \u001b[1;32melif\u001b[0m \u001b[0misinstance\u001b[0m\u001b[1;33m(\u001b[0m\u001b[0mdata\u001b[0m\u001b[1;33m,\u001b[0m \u001b[0mdict\u001b[0m\u001b[1;33m)\u001b[0m\u001b[1;33m:\u001b[0m\u001b[1;33m\u001b[0m\u001b[1;33m\u001b[0m\u001b[0m\n\u001b[0;32m    613\u001b[0m             \u001b[1;31m# GH#38939 de facto copy defaults to False only in non-dict cases\u001b[0m\u001b[1;33m\u001b[0m\u001b[1;33m\u001b[0m\u001b[0m\n\u001b[1;32m--> 614\u001b[1;33m             \u001b[0mmgr\u001b[0m \u001b[1;33m=\u001b[0m \u001b[0mdict_to_mgr\u001b[0m\u001b[1;33m(\u001b[0m\u001b[0mdata\u001b[0m\u001b[1;33m,\u001b[0m \u001b[0mindex\u001b[0m\u001b[1;33m,\u001b[0m \u001b[0mcolumns\u001b[0m\u001b[1;33m,\u001b[0m \u001b[0mdtype\u001b[0m\u001b[1;33m=\u001b[0m\u001b[0mdtype\u001b[0m\u001b[1;33m,\u001b[0m \u001b[0mcopy\u001b[0m\u001b[1;33m=\u001b[0m\u001b[0mcopy\u001b[0m\u001b[1;33m,\u001b[0m \u001b[0mtyp\u001b[0m\u001b[1;33m=\u001b[0m\u001b[0mmanager\u001b[0m\u001b[1;33m)\u001b[0m\u001b[1;33m\u001b[0m\u001b[1;33m\u001b[0m\u001b[0m\n\u001b[0m\u001b[0;32m    615\u001b[0m         \u001b[1;32melif\u001b[0m \u001b[0misinstance\u001b[0m\u001b[1;33m(\u001b[0m\u001b[0mdata\u001b[0m\u001b[1;33m,\u001b[0m \u001b[0mma\u001b[0m\u001b[1;33m.\u001b[0m\u001b[0mMaskedArray\u001b[0m\u001b[1;33m)\u001b[0m\u001b[1;33m:\u001b[0m\u001b[1;33m\u001b[0m\u001b[1;33m\u001b[0m\u001b[0m\n\u001b[0;32m    616\u001b[0m             \u001b[1;32mimport\u001b[0m \u001b[0mnumpy\u001b[0m\u001b[1;33m.\u001b[0m\u001b[0mma\u001b[0m\u001b[1;33m.\u001b[0m\u001b[0mmrecords\u001b[0m \u001b[1;32mas\u001b[0m \u001b[0mmrecords\u001b[0m\u001b[1;33m\u001b[0m\u001b[1;33m\u001b[0m\u001b[0m\n",
      "\u001b[1;32m~\\anaconda3\\lib\\site-packages\\pandas\\core\\internals\\construction.py\u001b[0m in \u001b[0;36mdict_to_mgr\u001b[1;34m(data, index, columns, dtype, typ, copy)\u001b[0m\n\u001b[0;32m    462\u001b[0m         \u001b[1;31m# TODO: can we get rid of the dt64tz special case above?\u001b[0m\u001b[1;33m\u001b[0m\u001b[1;33m\u001b[0m\u001b[0m\n\u001b[0;32m    463\u001b[0m \u001b[1;33m\u001b[0m\u001b[0m\n\u001b[1;32m--> 464\u001b[1;33m     return arrays_to_mgr(\n\u001b[0m\u001b[0;32m    465\u001b[0m         \u001b[0marrays\u001b[0m\u001b[1;33m,\u001b[0m \u001b[0mdata_names\u001b[0m\u001b[1;33m,\u001b[0m \u001b[0mindex\u001b[0m\u001b[1;33m,\u001b[0m \u001b[0mcolumns\u001b[0m\u001b[1;33m,\u001b[0m \u001b[0mdtype\u001b[0m\u001b[1;33m=\u001b[0m\u001b[0mdtype\u001b[0m\u001b[1;33m,\u001b[0m \u001b[0mtyp\u001b[0m\u001b[1;33m=\u001b[0m\u001b[0mtyp\u001b[0m\u001b[1;33m,\u001b[0m \u001b[0mconsolidate\u001b[0m\u001b[1;33m=\u001b[0m\u001b[0mcopy\u001b[0m\u001b[1;33m\u001b[0m\u001b[1;33m\u001b[0m\u001b[0m\n\u001b[0;32m    466\u001b[0m     )\n",
      "\u001b[1;32m~\\anaconda3\\lib\\site-packages\\pandas\\core\\internals\\construction.py\u001b[0m in \u001b[0;36marrays_to_mgr\u001b[1;34m(arrays, arr_names, index, columns, dtype, verify_integrity, typ, consolidate)\u001b[0m\n\u001b[0;32m    117\u001b[0m         \u001b[1;31m# figure out the index, if necessary\u001b[0m\u001b[1;33m\u001b[0m\u001b[1;33m\u001b[0m\u001b[0m\n\u001b[0;32m    118\u001b[0m         \u001b[1;32mif\u001b[0m \u001b[0mindex\u001b[0m \u001b[1;32mis\u001b[0m \u001b[1;32mNone\u001b[0m\u001b[1;33m:\u001b[0m\u001b[1;33m\u001b[0m\u001b[1;33m\u001b[0m\u001b[0m\n\u001b[1;32m--> 119\u001b[1;33m             \u001b[0mindex\u001b[0m \u001b[1;33m=\u001b[0m \u001b[0m_extract_index\u001b[0m\u001b[1;33m(\u001b[0m\u001b[0marrays\u001b[0m\u001b[1;33m)\u001b[0m\u001b[1;33m\u001b[0m\u001b[1;33m\u001b[0m\u001b[0m\n\u001b[0m\u001b[0;32m    120\u001b[0m         \u001b[1;32melse\u001b[0m\u001b[1;33m:\u001b[0m\u001b[1;33m\u001b[0m\u001b[1;33m\u001b[0m\u001b[0m\n\u001b[0;32m    121\u001b[0m             \u001b[0mindex\u001b[0m \u001b[1;33m=\u001b[0m \u001b[0mensure_index\u001b[0m\u001b[1;33m(\u001b[0m\u001b[0mindex\u001b[0m\u001b[1;33m)\u001b[0m\u001b[1;33m\u001b[0m\u001b[1;33m\u001b[0m\u001b[0m\n",
      "\u001b[1;32m~\\anaconda3\\lib\\site-packages\\pandas\\core\\internals\\construction.py\u001b[0m in \u001b[0;36m_extract_index\u001b[1;34m(data)\u001b[0m\n\u001b[0;32m    647\u001b[0m                         \u001b[1;34mf\"length {len(index)}\"\u001b[0m\u001b[1;33m\u001b[0m\u001b[1;33m\u001b[0m\u001b[0m\n\u001b[0;32m    648\u001b[0m                     )\n\u001b[1;32m--> 649\u001b[1;33m                     \u001b[1;32mraise\u001b[0m \u001b[0mValueError\u001b[0m\u001b[1;33m(\u001b[0m\u001b[0mmsg\u001b[0m\u001b[1;33m)\u001b[0m\u001b[1;33m\u001b[0m\u001b[1;33m\u001b[0m\u001b[0m\n\u001b[0m\u001b[0;32m    650\u001b[0m             \u001b[1;32melse\u001b[0m\u001b[1;33m:\u001b[0m\u001b[1;33m\u001b[0m\u001b[1;33m\u001b[0m\u001b[0m\n\u001b[0;32m    651\u001b[0m                 \u001b[0mindex\u001b[0m \u001b[1;33m=\u001b[0m \u001b[0mibase\u001b[0m\u001b[1;33m.\u001b[0m\u001b[0mdefault_index\u001b[0m\u001b[1;33m(\u001b[0m\u001b[0mlengths\u001b[0m\u001b[1;33m[\u001b[0m\u001b[1;36m0\u001b[0m\u001b[1;33m]\u001b[0m\u001b[1;33m)\u001b[0m\u001b[1;33m\u001b[0m\u001b[1;33m\u001b[0m\u001b[0m\n",
      "\u001b[1;31mValueError\u001b[0m: array length 1 does not match index length 2"
     ]
    }
   ],
   "source": [
    "import pandas as pd\n",
    "import numpy as np\n",
    "x={'University':pd.Series([\"ihsan\",'memory card']),'section':(['Data science'])}\n",
    "df=pd.DataFrame(x)\n",
    "df"
   ]
  },
  {
   "cell_type": "code",
   "execution_count": null,
   "id": "e0232d9f",
   "metadata": {},
   "outputs": [],
   "source": []
  }
 ],
 "metadata": {
  "kernelspec": {
   "display_name": "Python 3 (ipykernel)",
   "language": "python",
   "name": "python3"
  },
  "language_info": {
   "codemirror_mode": {
    "name": "ipython",
    "version": 3
   },
   "file_extension": ".py",
   "mimetype": "text/x-python",
   "name": "python",
   "nbconvert_exporter": "python",
   "pygments_lexer": "ipython3",
   "version": "3.9.7"
  }
 },
 "nbformat": 4,
 "nbformat_minor": 5
}
