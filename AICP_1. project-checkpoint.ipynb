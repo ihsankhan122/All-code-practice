{
 "cells": [
  {
   "cell_type": "code",
   "execution_count": 2,
   "id": "59eb5bb0",
   "metadata": {},
   "outputs": [],
   "source": [
    "import pandas as pd"
   ]
  },
  {
   "cell_type": "code",
   "execution_count": 5,
   "id": "a0417779",
   "metadata": {},
   "outputs": [
    {
     "data": {
      "text/html": [
       "<div>\n",
       "<style scoped>\n",
       "    .dataframe tbody tr th:only-of-type {\n",
       "        vertical-align: middle;\n",
       "    }\n",
       "\n",
       "    .dataframe tbody tr th {\n",
       "        vertical-align: top;\n",
       "    }\n",
       "\n",
       "    .dataframe thead th {\n",
       "        text-align: right;\n",
       "    }\n",
       "</style>\n",
       "<table border=\"1\" class=\"dataframe\">\n",
       "  <thead>\n",
       "    <tr style=\"text-align: right;\">\n",
       "      <th></th>\n",
       "      <th>Date_received</th>\n",
       "      <th>Product</th>\n",
       "      <th>Sub-product</th>\n",
       "      <th>Issue</th>\n",
       "      <th>Sub-issue</th>\n",
       "      <th>Consumer_complaint_narrative</th>\n",
       "      <th>Company_public_response</th>\n",
       "      <th>Company</th>\n",
       "      <th>State</th>\n",
       "      <th>ZIP_code</th>\n",
       "      <th>...</th>\n",
       "      <th>Industry_Risk</th>\n",
       "      <th>Resolution_Type</th>\n",
       "      <th>Transaction_Method</th>\n",
       "      <th>Communication_Channel</th>\n",
       "      <th>Satisfaction_Level</th>\n",
       "      <th>Customer_Type</th>\n",
       "      <th>Payment_Method</th>\n",
       "      <th>Contact_Channel</th>\n",
       "      <th>Resolution_Status</th>\n",
       "      <th>Feedback_Type</th>\n",
       "    </tr>\n",
       "  </thead>\n",
       "  <tbody>\n",
       "    <tr>\n",
       "      <th>0</th>\n",
       "      <td>9/10/2013</td>\n",
       "      <td>Mortgage</td>\n",
       "      <td>Other mortgage</td>\n",
       "      <td>Loan modification,collection,foreclosure</td>\n",
       "      <td>NaN</td>\n",
       "      <td>NaN</td>\n",
       "      <td>NaN</td>\n",
       "      <td>Wells Fargo &amp; Company</td>\n",
       "      <td>NV</td>\n",
       "      <td>89148</td>\n",
       "      <td>...</td>\n",
       "      <td>High</td>\n",
       "      <td>Escalation</td>\n",
       "      <td>Bank Transfer</td>\n",
       "      <td>Chat</td>\n",
       "      <td>Satisfied</td>\n",
       "      <td>Government</td>\n",
       "      <td>Cheque</td>\n",
       "      <td>Website</td>\n",
       "      <td>Pending</td>\n",
       "      <td>Negative</td>\n",
       "    </tr>\n",
       "    <tr>\n",
       "      <th>1</th>\n",
       "      <td>11/13/2014</td>\n",
       "      <td>Credit card</td>\n",
       "      <td>NaN</td>\n",
       "      <td>Billing disputes</td>\n",
       "      <td>NaN</td>\n",
       "      <td>NaN</td>\n",
       "      <td>NaN</td>\n",
       "      <td>Wells Fargo &amp; Company</td>\n",
       "      <td>TX</td>\n",
       "      <td>77386</td>\n",
       "      <td>...</td>\n",
       "      <td>Medium</td>\n",
       "      <td>Refund</td>\n",
       "      <td>Bank Transfer</td>\n",
       "      <td>Chat</td>\n",
       "      <td>Dissatisfied</td>\n",
       "      <td>Business</td>\n",
       "      <td>Online Transfer</td>\n",
       "      <td>Mobile App</td>\n",
       "      <td>Closed</td>\n",
       "      <td>Positive</td>\n",
       "    </tr>\n",
       "    <tr>\n",
       "      <th>2</th>\n",
       "      <td>5/17/2012</td>\n",
       "      <td>Mortgage</td>\n",
       "      <td>Other mortgage</td>\n",
       "      <td>Loan modification,collection,foreclosure</td>\n",
       "      <td>NaN</td>\n",
       "      <td>NaN</td>\n",
       "      <td>NaN</td>\n",
       "      <td>Flagstar Bank</td>\n",
       "      <td>SC</td>\n",
       "      <td>29150</td>\n",
       "      <td>...</td>\n",
       "      <td>High</td>\n",
       "      <td>Escalation</td>\n",
       "      <td>PayPal</td>\n",
       "      <td>Chat</td>\n",
       "      <td>Neutral</td>\n",
       "      <td>Individual</td>\n",
       "      <td>Cash</td>\n",
       "      <td>Mobile App</td>\n",
       "      <td>Closed</td>\n",
       "      <td>Negative</td>\n",
       "    </tr>\n",
       "    <tr>\n",
       "      <th>3</th>\n",
       "      <td>12/5/2012</td>\n",
       "      <td>Bank account or service</td>\n",
       "      <td>Other bank product/service</td>\n",
       "      <td>Deposits and withdrawals</td>\n",
       "      <td>NaN</td>\n",
       "      <td>NaN</td>\n",
       "      <td>NaN</td>\n",
       "      <td>Wells Fargo &amp; Company</td>\n",
       "      <td>MD</td>\n",
       "      <td>20785</td>\n",
       "      <td>...</td>\n",
       "      <td>Medium</td>\n",
       "      <td>Apology</td>\n",
       "      <td>PayPal</td>\n",
       "      <td>Morse Code</td>\n",
       "      <td>Dissatisfied</td>\n",
       "      <td>Individual</td>\n",
       "      <td>Cash</td>\n",
       "      <td>In-Person</td>\n",
       "      <td>Open</td>\n",
       "      <td>Neutral</td>\n",
       "    </tr>\n",
       "    <tr>\n",
       "      <th>4</th>\n",
       "      <td>4/4/2016</td>\n",
       "      <td>Money transfers</td>\n",
       "      <td>Domestic (US) money transfer</td>\n",
       "      <td>Fraud or scam</td>\n",
       "      <td>NaN</td>\n",
       "      <td>NaN</td>\n",
       "      <td>NaN</td>\n",
       "      <td>Google Inc.</td>\n",
       "      <td>CO</td>\n",
       "      <td>80020</td>\n",
       "      <td>...</td>\n",
       "      <td>High</td>\n",
       "      <td>Apology</td>\n",
       "      <td>PayPal</td>\n",
       "      <td>Phone</td>\n",
       "      <td>Neutral</td>\n",
       "      <td>Business</td>\n",
       "      <td>Online Transfer</td>\n",
       "      <td>In-Person</td>\n",
       "      <td>Pending</td>\n",
       "      <td>Positive</td>\n",
       "    </tr>\n",
       "    <tr>\n",
       "      <th>...</th>\n",
       "      <td>...</td>\n",
       "      <td>...</td>\n",
       "      <td>...</td>\n",
       "      <td>...</td>\n",
       "      <td>...</td>\n",
       "      <td>...</td>\n",
       "      <td>...</td>\n",
       "      <td>...</td>\n",
       "      <td>...</td>\n",
       "      <td>...</td>\n",
       "      <td>...</td>\n",
       "      <td>...</td>\n",
       "      <td>...</td>\n",
       "      <td>...</td>\n",
       "      <td>...</td>\n",
       "      <td>...</td>\n",
       "      <td>...</td>\n",
       "      <td>...</td>\n",
       "      <td>...</td>\n",
       "      <td>...</td>\n",
       "      <td>...</td>\n",
       "    </tr>\n",
       "    <tr>\n",
       "      <th>536473</th>\n",
       "      <td>10/19/2016</td>\n",
       "      <td>Mortgage</td>\n",
       "      <td>Conventional fixed mortgage</td>\n",
       "      <td>Loan modification,collection,foreclosure</td>\n",
       "      <td>NaN</td>\n",
       "      <td>NaN</td>\n",
       "      <td>Company believes it acted appropriately as aut...</td>\n",
       "      <td>Pressler &amp; Pressler, LLP</td>\n",
       "      <td>NJ</td>\n",
       "      <td>7017</td>\n",
       "      <td>...</td>\n",
       "      <td>Medium</td>\n",
       "      <td>Escalation</td>\n",
       "      <td>Credit Card</td>\n",
       "      <td>Phone</td>\n",
       "      <td>Satisfied</td>\n",
       "      <td>Business</td>\n",
       "      <td>Cheque</td>\n",
       "      <td>Mobile App</td>\n",
       "      <td>Open</td>\n",
       "      <td>Neutral</td>\n",
       "    </tr>\n",
       "    <tr>\n",
       "      <th>536474</th>\n",
       "      <td>5/15/2012</td>\n",
       "      <td>Mortgage</td>\n",
       "      <td>Other mortgage</td>\n",
       "      <td>Loan modification,collection,foreclosure</td>\n",
       "      <td>NaN</td>\n",
       "      <td>NaN</td>\n",
       "      <td>NaN</td>\n",
       "      <td>Bank of America</td>\n",
       "      <td>OR</td>\n",
       "      <td>97004</td>\n",
       "      <td>...</td>\n",
       "      <td>High</td>\n",
       "      <td>Apology</td>\n",
       "      <td>Bank Transfer</td>\n",
       "      <td>Email</td>\n",
       "      <td>Satisfied</td>\n",
       "      <td>Individual</td>\n",
       "      <td>Cash</td>\n",
       "      <td>Mobile App</td>\n",
       "      <td>Pending</td>\n",
       "      <td>Negative</td>\n",
       "    </tr>\n",
       "    <tr>\n",
       "      <th>536475</th>\n",
       "      <td>11/10/2015</td>\n",
       "      <td>Credit card</td>\n",
       "      <td>NaN</td>\n",
       "      <td>Credit card protection / Debt protection</td>\n",
       "      <td>NaN</td>\n",
       "      <td>I signed up for the Care Credit account I 'm X...</td>\n",
       "      <td>NaN</td>\n",
       "      <td>Synchrony Financial</td>\n",
       "      <td>CA</td>\n",
       "      <td>913XX</td>\n",
       "      <td>...</td>\n",
       "      <td>High</td>\n",
       "      <td>Escalation</td>\n",
       "      <td>PayPal</td>\n",
       "      <td>Chat</td>\n",
       "      <td>Neutral</td>\n",
       "      <td>Government</td>\n",
       "      <td>Online Transfer</td>\n",
       "      <td>In-Person</td>\n",
       "      <td>Pending</td>\n",
       "      <td>Negative</td>\n",
       "    </tr>\n",
       "    <tr>\n",
       "      <th>536476</th>\n",
       "      <td>2/14/2013</td>\n",
       "      <td>Mortgage</td>\n",
       "      <td>Other mortgage</td>\n",
       "      <td>Loan modification,collection,foreclosure</td>\n",
       "      <td>NaN</td>\n",
       "      <td>NaN</td>\n",
       "      <td>NaN</td>\n",
       "      <td>Wells Fargo &amp; Company</td>\n",
       "      <td>CA</td>\n",
       "      <td>91335</td>\n",
       "      <td>...</td>\n",
       "      <td>Low</td>\n",
       "      <td>Refund</td>\n",
       "      <td>Credit Card</td>\n",
       "      <td>Email</td>\n",
       "      <td>Neutral</td>\n",
       "      <td>Government</td>\n",
       "      <td>Online Transfer</td>\n",
       "      <td>Mobile App</td>\n",
       "      <td>Closed</td>\n",
       "      <td>Negative</td>\n",
       "    </tr>\n",
       "    <tr>\n",
       "      <th>536477</th>\n",
       "      <td>6/24/2012</td>\n",
       "      <td>Mortgage</td>\n",
       "      <td>Conventional adjustable mortgage (ARM)</td>\n",
       "      <td>Application, originator, mortgage broker</td>\n",
       "      <td>NaN</td>\n",
       "      <td>NaN</td>\n",
       "      <td>NaN</td>\n",
       "      <td>Bank of America</td>\n",
       "      <td>CA</td>\n",
       "      <td>90305</td>\n",
       "      <td>...</td>\n",
       "      <td>Medium</td>\n",
       "      <td>Escalation</td>\n",
       "      <td>PayPal</td>\n",
       "      <td>Phone</td>\n",
       "      <td>Satisfied</td>\n",
       "      <td>Government</td>\n",
       "      <td>Cash</td>\n",
       "      <td>Website</td>\n",
       "      <td>Pending</td>\n",
       "      <td>Neutral</td>\n",
       "    </tr>\n",
       "  </tbody>\n",
       "</table>\n",
       "<p>536478 rows × 28 columns</p>\n",
       "</div>"
      ],
      "text/plain": [
       "       Date_received                  Product  \\\n",
       "0          9/10/2013                 Mortgage   \n",
       "1         11/13/2014              Credit card   \n",
       "2          5/17/2012                 Mortgage   \n",
       "3          12/5/2012  Bank account or service   \n",
       "4           4/4/2016          Money transfers   \n",
       "...              ...                      ...   \n",
       "536473    10/19/2016                 Mortgage   \n",
       "536474     5/15/2012                 Mortgage   \n",
       "536475    11/10/2015              Credit card   \n",
       "536476     2/14/2013                 Mortgage   \n",
       "536477     6/24/2012                 Mortgage   \n",
       "\n",
       "                                   Sub-product  \\\n",
       "0                               Other mortgage   \n",
       "1                                          NaN   \n",
       "2                               Other mortgage   \n",
       "3                   Other bank product/service   \n",
       "4                 Domestic (US) money transfer   \n",
       "...                                        ...   \n",
       "536473             Conventional fixed mortgage   \n",
       "536474                          Other mortgage   \n",
       "536475                                     NaN   \n",
       "536476                          Other mortgage   \n",
       "536477  Conventional adjustable mortgage (ARM)   \n",
       "\n",
       "                                           Issue Sub-issue  \\\n",
       "0       Loan modification,collection,foreclosure       NaN   \n",
       "1                               Billing disputes       NaN   \n",
       "2       Loan modification,collection,foreclosure       NaN   \n",
       "3                       Deposits and withdrawals       NaN   \n",
       "4                                  Fraud or scam       NaN   \n",
       "...                                          ...       ...   \n",
       "536473  Loan modification,collection,foreclosure       NaN   \n",
       "536474  Loan modification,collection,foreclosure       NaN   \n",
       "536475  Credit card protection / Debt protection       NaN   \n",
       "536476  Loan modification,collection,foreclosure       NaN   \n",
       "536477  Application, originator, mortgage broker       NaN   \n",
       "\n",
       "                             Consumer_complaint_narrative  \\\n",
       "0                                                     NaN   \n",
       "1                                                     NaN   \n",
       "2                                                     NaN   \n",
       "3                                                     NaN   \n",
       "4                                                     NaN   \n",
       "...                                                   ...   \n",
       "536473                                                NaN   \n",
       "536474                                                NaN   \n",
       "536475  I signed up for the Care Credit account I 'm X...   \n",
       "536476                                                NaN   \n",
       "536477                                                NaN   \n",
       "\n",
       "                                  Company_public_response  \\\n",
       "0                                                     NaN   \n",
       "1                                                     NaN   \n",
       "2                                                     NaN   \n",
       "3                                                     NaN   \n",
       "4                                                     NaN   \n",
       "...                                                   ...   \n",
       "536473  Company believes it acted appropriately as aut...   \n",
       "536474                                                NaN   \n",
       "536475                                                NaN   \n",
       "536476                                                NaN   \n",
       "536477                                                NaN   \n",
       "\n",
       "                         Company State ZIP_code  ... Industry_Risk  \\\n",
       "0          Wells Fargo & Company    NV    89148  ...          High   \n",
       "1          Wells Fargo & Company    TX    77386  ...        Medium   \n",
       "2                  Flagstar Bank    SC    29150  ...          High   \n",
       "3          Wells Fargo & Company    MD    20785  ...        Medium   \n",
       "4                    Google Inc.    CO    80020  ...          High   \n",
       "...                          ...   ...      ...  ...           ...   \n",
       "536473  Pressler & Pressler, LLP    NJ     7017  ...        Medium   \n",
       "536474           Bank of America    OR    97004  ...          High   \n",
       "536475       Synchrony Financial    CA    913XX  ...          High   \n",
       "536476     Wells Fargo & Company    CA    91335  ...           Low   \n",
       "536477           Bank of America    CA    90305  ...        Medium   \n",
       "\n",
       "       Resolution_Type Transaction_Method Communication_Channel  \\\n",
       "0           Escalation      Bank Transfer                  Chat   \n",
       "1               Refund      Bank Transfer                  Chat   \n",
       "2           Escalation             PayPal                  Chat   \n",
       "3              Apology             PayPal            Morse Code   \n",
       "4              Apology             PayPal                 Phone   \n",
       "...                ...                ...                   ...   \n",
       "536473      Escalation        Credit Card                 Phone   \n",
       "536474         Apology      Bank Transfer                 Email   \n",
       "536475      Escalation             PayPal                  Chat   \n",
       "536476          Refund        Credit Card                 Email   \n",
       "536477      Escalation             PayPal                 Phone   \n",
       "\n",
       "       Satisfaction_Level Customer_Type   Payment_Method  Contact_Channel  \\\n",
       "0               Satisfied    Government           Cheque          Website   \n",
       "1            Dissatisfied      Business  Online Transfer       Mobile App   \n",
       "2                 Neutral    Individual             Cash       Mobile App   \n",
       "3            Dissatisfied    Individual             Cash        In-Person   \n",
       "4                 Neutral      Business  Online Transfer        In-Person   \n",
       "...                   ...           ...              ...              ...   \n",
       "536473          Satisfied      Business           Cheque       Mobile App   \n",
       "536474          Satisfied    Individual             Cash       Mobile App   \n",
       "536475            Neutral    Government  Online Transfer        In-Person   \n",
       "536476            Neutral    Government  Online Transfer       Mobile App   \n",
       "536477          Satisfied    Government             Cash          Website   \n",
       "\n",
       "       Resolution_Status Feedback_Type  \n",
       "0                Pending      Negative  \n",
       "1                 Closed      Positive  \n",
       "2                 Closed      Negative  \n",
       "3                   Open       Neutral  \n",
       "4                Pending      Positive  \n",
       "...                  ...           ...  \n",
       "536473              Open       Neutral  \n",
       "536474           Pending      Negative  \n",
       "536475           Pending      Negative  \n",
       "536476            Closed      Negative  \n",
       "536477           Pending       Neutral  \n",
       "\n",
       "[536478 rows x 28 columns]"
      ]
     },
     "execution_count": 5,
     "metadata": {},
     "output_type": "execute_result"
    }
   ],
   "source": [
    "df = pd.read_csv('AICP_FinanceInsight_3.csv')\n",
    "df"
   ]
  },
  {
   "cell_type": "code",
   "execution_count": 64,
   "id": "cc77bca4",
   "metadata": {},
   "outputs": [
    {
     "data": {
      "text/plain": [
       "90241"
      ]
     },
     "execution_count": 64,
     "metadata": {},
     "output_type": "execute_result"
    }
   ],
   "source": [
    "df['Consumer_complaint_narrative'].nunique()"
   ]
  },
  {
   "cell_type": "code",
   "execution_count": 3,
   "id": "53b4eaef",
   "metadata": {},
   "outputs": [],
   "source": [
    " #(Debt collection, Consumer Loan, Mortgage, Credit card, Credit reporting, Student loan, Bank account or service, Payday loan, Money transfers, Other financial service, Prepaid card)"
   ]
  },
  {
   "cell_type": "code",
   "execution_count": 57,
   "id": "f0f70daa",
   "metadata": {},
   "outputs": [
    {
     "name": "stdout",
     "output_type": "stream",
     "text": [
      "True     536466\n",
      "False        12\n",
      "Name: Is_Category, dtype: int64\n"
     ]
    }
   ],
   "source": [
    "\n",
    "\n",
    "# Define the list of categories you want to search for\n",
    "categories_to_find = ['Debt collection', 'Consumer Loan', 'Mortgage', 'Credit card', 'Credit reporting',\n",
    "                      'Student loan', 'Bank account or service', 'Payday loan', 'Money transfers',\n",
    "                      'Other financial service', 'Prepaid card']\n",
    "\n",
    "# Create a new column indicating whether each row's 'Product' is in the specified categories\n",
    "df['Is_Category'] = df['Product'].isin(categories_to_find)\n",
    "\n",
    "# Count the occurrences of each category\n",
    "category_counts = df['Is_Category'].value_counts()\n",
    "\n",
    "# Print the results\n",
    "print(category_counts)\n",
    "            ,mmmmmmmmmmmmmmmmmmmmmmmm,"
   ]
  },
  {
   "cell_type": "code",
   "execution_count": 5,
   "id": "195f21f5",
   "metadata": {},
   "outputs": [
    {
     "name": "stdout",
     "output_type": "stream",
     "text": [
      "       Date_received           Product                   Sub-product  \\\n",
      "8138      10/22/2015  Virtual currency  Domestic (US) money transfer   \n",
      "13021     10/22/2015  Virtual currency  Domestic (US) money transfer   \n",
      "54883     08/15/2014  Virtual currency  Domestic (US) money transfer   \n",
      "98539     04/06/2015  Virtual currency  Domestic (US) money transfer   \n",
      "104773    10/21/2016  Virtual currency  Domestic (US) money transfer   \n",
      "146340    03/11/2016  Virtual currency  Domestic (US) money transfer   \n",
      "158973    09/17/2015  Virtual currency  Domestic (US) money transfer   \n",
      "253171    10/22/2015  Virtual currency  Domestic (US) money transfer   \n",
      "266769    10/26/2016  Virtual currency  Domestic (US) money transfer   \n",
      "311512    06/14/2016  Virtual currency  Domestic (US) money transfer   \n",
      "346165    10/22/2015  Virtual currency  Domestic (US) money transfer   \n",
      "404498    03/28/2016  Virtual currency  International money transfer   \n",
      "\n",
      "                                        Issue Sub-issue  \\\n",
      "8138                            Fraud or scam       NaN   \n",
      "13021                           Fraud or scam       NaN   \n",
      "54883                Other transaction issues       NaN   \n",
      "98539   Money was not available when promised       NaN   \n",
      "104773                   Other service issues       NaN   \n",
      "146340                   Other service issues       NaN   \n",
      "158973                   Other service issues       NaN   \n",
      "253171                          Fraud or scam       NaN   \n",
      "266769               Other transaction issues       NaN   \n",
      "311512               Other transaction issues       NaN   \n",
      "346165                   Other service issues       NaN   \n",
      "404498                          Fraud or scam       NaN   \n",
      "\n",
      "                             Consumer_complaint_narrative  \\\n",
      "8138    Signed up with Coinbase.com with a {$75.00} si...   \n",
      "13021   Signedup XXXX family members for referrals on ...   \n",
      "54883                                                 NaN   \n",
      "98539   Hi, I purchased bitcoins from a website coinba...   \n",
      "104773  I applied for an account on \" Circle '' and th...   \n",
      "146340  I received a random notice 3 days ago from a d...   \n",
      "158973  Coinbase account closed without reasonable exp...   \n",
      "253171  Signed up with Coinbase.com with a {$75.00} si...   \n",
      "266769                                                NaN   \n",
      "311512  Money was going to be transferred from XXXX to...   \n",
      "346165  Signed up with Coinbase.com with a {$75.00} si...   \n",
      "404498  Hi, on XXXX XXXX, I paid XXXX $ in XXXX to my ...   \n",
      "\n",
      "                                  Company_public_response  \\\n",
      "8138                                                  NaN   \n",
      "13021                                                 NaN   \n",
      "54883                                                 NaN   \n",
      "98539                                                 NaN   \n",
      "104773  Company believes it acted appropriately as aut...   \n",
      "146340  Company disputes the facts presented in the co...   \n",
      "158973                                                NaN   \n",
      "253171                                                NaN   \n",
      "266769  Company believes it acted appropriately as aut...   \n",
      "311512  Company disputes the facts presented in the co...   \n",
      "346165                                                NaN   \n",
      "404498                                                NaN   \n",
      "\n",
      "                          Company State ZIP_code  ... Resolution_Type  \\\n",
      "8138               Coinbase, Inc.    MN    553XX  ...      Escalation   \n",
      "13021              Coinbase, Inc.    MN    553XX  ...          Refund   \n",
      "54883              Coinbase, Inc.    NJ    07006  ...      Escalation   \n",
      "98539              Coinbase, Inc.    FL    344XX  ...         Apology   \n",
      "104773  Circle Internet Financial    MD    207XX  ...      Escalation   \n",
      "146340  Circle Internet Financial    PA    193XX  ...      Escalation   \n",
      "158973             Coinbase, Inc.    PA    193XX  ...         Apology   \n",
      "253171             Coinbase, Inc.    MN    553XX  ...      Escalation   \n",
      "266769  Circle Internet Financial    MN    55432  ...         Apology   \n",
      "311512             Coinbase, Inc.    WA    981XX  ...         Apology   \n",
      "346165             Coinbase, Inc.    MN    553XX  ...         Apology   \n",
      "404498             Coinbase, Inc.   NaN      NaN  ...          Refund   \n",
      "\n",
      "       Transaction_Method Communication_Channel Satisfaction_Level  \\\n",
      "8138          Credit Card                 Email            Neutral   \n",
      "13021              PayPal                 Email       Dissatisfied   \n",
      "54883       Bank Transfer                 Phone          Satisfied   \n",
      "98539              PayPal                  Chat       Dissatisfied   \n",
      "104773             PayPal                  Chat            Neutral   \n",
      "146340      Bank Transfer                 Email       Dissatisfied   \n",
      "158973      Bank Transfer                 Phone       Dissatisfied   \n",
      "253171      Bank Transfer                 Email            Neutral   \n",
      "266769        Credit Card                 Phone          Satisfied   \n",
      "311512        Credit Card                  Chat       Dissatisfied   \n",
      "346165             PayPal                 Email            Neutral   \n",
      "404498        Credit Card                 Phone       Dissatisfied   \n",
      "\n",
      "       Customer_Type   Payment_Method Contact_Channel  Resolution_Status  \\\n",
      "8138        Business             Cash         Website               Open   \n",
      "13021     Government  Online Transfer      Mobile App            Pending   \n",
      "54883     Government           Cheque         Website               Open   \n",
      "98539     Government           Cheque         Website            Pending   \n",
      "104773      Business           Cheque       In-Person               Open   \n",
      "146340      Business  Online Transfer       In-Person               Open   \n",
      "158973      Business  Online Transfer       In-Person            Pending   \n",
      "253171      Business             Cash         Website             Closed   \n",
      "266769      Business           Cheque         Website            Pending   \n",
      "311512    Individual             Cash         Website             Closed   \n",
      "346165    Government             Cash      Mobile App             Closed   \n",
      "404498    Government  Online Transfer       In-Person               Open   \n",
      "\n",
      "       Feedback_Type Is_Category  \n",
      "8138         Neutral       False  \n",
      "13021       Positive       False  \n",
      "54883       Negative       False  \n",
      "98539        Neutral       False  \n",
      "104773      Negative       False  \n",
      "146340       Neutral       False  \n",
      "158973      Negative       False  \n",
      "253171       Neutral       False  \n",
      "266769      Positive       False  \n",
      "311512      Positive       False  \n",
      "346165       Neutral       False  \n",
      "404498       Neutral       False  \n",
      "\n",
      "[12 rows x 29 columns]\n"
     ]
    }
   ],
   "source": [
    "\n",
    "\n",
    "# Define the list of categories you want to search for\n",
    "categories_to_find = ['Debt collection', 'Consumer Loan', 'Mortgage', 'Credit card', 'Credit reporting',\n",
    "                      'Student loan', 'Bank account or service', 'Payday loan', 'Money transfers',\n",
    "                      'Other financial service', 'Prepaid card']\n",
    "\n",
    "# Create a new column indicating whether each row's 'Product' is in the specified categories\n",
    "df['Is_Category'] = df['Product'].isin(categories_to_find)\n",
    "\n",
    "# Find rows where 'Is_Category' is False, indicating the categories you are looking for\n",
    "rows_not_in_categories = df[~df['Is_Category']]\n",
    "\n",
    "# Optionally, drop the 'Is_Category' column if you no longer need it\n",
    "df.drop('Is_Category', axis=1, inplace=True)\n",
    "\n",
    "# Print or inspect the rows that do not belong to the specified categories\n",
    "print(rows_not_in_categories)\n"
   ]
  },
  {
   "cell_type": "code",
   "execution_count": 6,
   "id": "230efa12",
   "metadata": {},
   "outputs": [
    {
     "data": {
      "text/plain": [
       "array(['Mortgage', 'Credit card', 'Bank account or service',\n",
       "       'Money transfers', 'Prepaid card', 'Credit reporting',\n",
       "       'Debt collection', 'Student loan', 'Consumer Loan', 'Payday loan',\n",
       "       'Other financial service', 'Virtual currency'], dtype=object)"
      ]
     },
     "execution_count": 6,
     "metadata": {},
     "output_type": "execute_result"
    }
   ],
   "source": [
    "df.Product.unique()"
   ]
  },
  {
   "cell_type": "code",
   "execution_count": 7,
   "id": "b616c8aa",
   "metadata": {},
   "outputs": [
    {
     "data": {
      "text/plain": [
       "array(['Other mortgage', nan, 'Other bank product/service',\n",
       "       'Domestic (US) money transfer', 'Payroll card', 'I do not know',\n",
       "       '(CD) Certificate of deposit', 'Conventional fixed mortgage',\n",
       "       'Checking account', 'Savings account',\n",
       "       'Home equity loan or line of credit',\n",
       "       'Federal student loan servicing', 'Credit card', 'Payday loan',\n",
       "       'Non-federal student loan', 'Vehicle loan',\n",
       "       'Other (i.e. phone, health club, etc.)',\n",
       "       'Conventional adjustable mortgage (ARM)', 'Reverse mortgage',\n",
       "       'Medical', 'VA mortgage', 'FHA mortgage', 'General purpose card',\n",
       "       'Mortgage', 'Federal student loan', 'Installment loan', 'Auto',\n",
       "       'Vehicle lease', 'Personal line of credit', 'Mobile wallet',\n",
       "       'Cashing a check without an account',\n",
       "       'International money transfer', 'Gift or merchant card',\n",
       "       'Second mortgage', 'Title loan', 'ID prepaid card',\n",
       "       'Government benefit payment card', 'Transit card', 'Money order',\n",
       "       'Electronic Benefit Transfer / EBT card', 'Debt settlement',\n",
       "       'Credit repair', 'Other special purpose card', 'Check cashing',\n",
       "       'Foreign currency exchange', 'Traveler’s/Cashier’s checks',\n",
       "       'Pawn loan', 'Refund anticipation check'], dtype=object)"
      ]
     },
     "execution_count": 7,
     "metadata": {},
     "output_type": "execute_result"
    }
   ],
   "source": [
    "df['Sub-product'].unique()"
   ]
  },
  {
   "cell_type": "code",
   "execution_count": 8,
   "id": "39d0c14d",
   "metadata": {},
   "outputs": [
    {
     "data": {
      "text/plain": [
       "Date_received                        0\n",
       "Product                              0\n",
       "Sub-product                     158508\n",
       "Issue                                0\n",
       "Sub-issue                       320467\n",
       "Consumer_complaint_narrative    444789\n",
       "Company_public_response         420455\n",
       "Company                              0\n",
       "State                             4263\n",
       "ZIP_code                          4280\n",
       "Tags                            459661\n",
       "Consumer_consent_provided?      368542\n",
       "Submitted_via                        0\n",
       "Date_sent_to_company                 0\n",
       "Company_response_to_consumer         0\n",
       "Timely_response?                     0\n",
       "Consumer_disputed?               33048\n",
       "Complaint_ID                         0\n",
       "Industry_Risk                        0\n",
       "Resolution_Type                      0\n",
       "Transaction_Method                   0\n",
       "Communication_Channel                0\n",
       "Satisfaction_Level                   0\n",
       "Customer_Type                        0\n",
       "Payment_Method                       0\n",
       "Contact_Channel                      0\n",
       "Resolution_Status                    0\n",
       "Feedback_Type                        0\n",
       "dtype: int64"
      ]
     },
     "execution_count": 8,
     "metadata": {},
     "output_type": "execute_result"
    }
   ],
   "source": [
    "df.isnull().sum()"
   ]
  },
  {
   "cell_type": "code",
   "execution_count": 9,
   "id": "0074572d",
   "metadata": {},
   "outputs": [],
   "source": [
    "import pandas as pd\n",
    "\n",
    "# List of columns to be selected for the final DataFrame\n",
    "selected_columns = [\n",
    "        'Issue','Product','Company_response_to_consumer',\n",
    "        'Satisfaction_Level', 'Industry_Risk', 'Resolution_Type',\n",
    "        'Resolution_Status', 'Payment_Method', 'Customer_Type','Complaint_ID','Consumer_disputed?',\n",
    "]\n",
    "\n",
    "\n",
    "# Creating the final DataFrame with selected columns\n",
    "df = df[selected_columns].copy()"
   ]
  },
  {
   "cell_type": "code",
   "execution_count": 10,
   "id": "46ad3e1a",
   "metadata": {},
   "outputs": [],
   "source": [
    "from sklearn.preprocessing import OrdinalEncoder\n",
    "# Create an instance of OrdinalEncoder\n",
    "encoder = OrdinalEncoder()\n",
    "\n",
    "# Fit and transform the 'Industry_Risk' column\n",
    "df['Industry_Risk'] = encoder.fit_transform(df[['Industry_Risk']])\n",
    "\n"
   ]
  },
  {
   "cell_type": "code",
   "execution_count": 11,
   "id": "80021cf1",
   "metadata": {},
   "outputs": [],
   "source": [
    "# Frequency encoding for 'Issue'\n",
    "issue_counts = df['Issue'].value_counts()\n",
    "df['Issue_Frequency_Encoded'] = df['Issue'].map(issue_counts)\n",
    "\n",
    "# Drop the original 'Issue' column\n",
    "df.drop('Issue', axis=1, inplace=True)"
   ]
  },
  {
   "cell_type": "code",
   "execution_count": 12,
   "id": "0090adc6",
   "metadata": {},
   "outputs": [],
   "source": [
    "# Frequency encoding for 'Issue'\n",
    "Stat_counts = df['Satisfaction_Level'].value_counts()\n",
    "df['Satisfaction_Level_Encoded'] = df['Satisfaction_Level'].map(Stat_counts)\n",
    "\n",
    "# Drop the original 'Issue' column\n",
    "df.drop('Satisfaction_Level', axis=1, inplace=True)"
   ]
  },
  {
   "cell_type": "code",
   "execution_count": 13,
   "id": "03cd9f9b",
   "metadata": {},
   "outputs": [],
   "source": [
    "# Frequency encoding for 'Issue'\n",
    "pay_counts = df['Payment_Method'].value_counts()\n",
    "df['Payment_Method_Encoded'] = df['Payment_Method'].map(pay_counts)\n",
    "\n",
    "# Drop the original 'Issue' column\n",
    "df.drop('Payment_Method', axis=1, inplace=True)"
   ]
  },
  {
   "cell_type": "code",
   "execution_count": 14,
   "id": "5aff1205",
   "metadata": {},
   "outputs": [],
   "source": [
    "# Frequency encoding for 'Issue'\n",
    "cust_counts = df['Customer_Type'].value_counts(normalize=True)\n",
    "df['Customer_Type_Encoded'] = df['Customer_Type'].map(cust_counts)\n",
    "\n",
    "# Drop the original 'Issue' column\n",
    "df.drop('Customer_Type', axis=1, inplace=True)"
   ]
  },
  {
   "cell_type": "code",
   "execution_count": 15,
   "id": "1ac48cb8",
   "metadata": {},
   "outputs": [],
   "source": [
    "# Frequency encoding for 'Issue'\n",
    "res_counts = df['Resolution_Status'].value_counts()\n",
    "df['Resolution_Status_Encoded'] = df['Resolution_Status'].map(res_counts)\n",
    "\n",
    "# Drop the original 'Issue' column\n",
    "df.drop('Resolution_Status', axis=1, inplace=True)"
   ]
  },
  {
   "cell_type": "code",
   "execution_count": 16,
   "id": "d9a14e77",
   "metadata": {},
   "outputs": [],
   "source": [
    "# Frequency encoding for 'Issue'\n",
    "type_counts = df['Resolution_Type'].value_counts()\n",
    "df['Resolution_Type_Encoded'] = df['Resolution_Type'].map(type_counts)\n",
    "\n",
    "# Drop the original 'Issue' column\n",
    "df.drop('Resolution_Type', axis=1, inplace=True)"
   ]
  },
  {
   "cell_type": "code",
   "execution_count": 17,
   "id": "c1930d39",
   "metadata": {},
   "outputs": [],
   "source": [
    "# Frequency encoding for 'Issue'\n",
    "comp_counts = df['Company_response_to_consumer'].value_counts()\n",
    "df['Company_response_to_consumer_Encoded'] = df['Company_response_to_consumer'].map(comp_counts)\n",
    "\n",
    "# Drop the original 'Issue' column\n",
    "df.drop('Company_response_to_consumer', axis=1, inplace=True)"
   ]
  },
  {
   "cell_type": "code",
   "execution_count": 18,
   "id": "dfb7f5f9",
   "metadata": {},
   "outputs": [],
   "source": [
    "# Frequency encoding for 'Issue'\n",
    "product_counts = df['Product'].value_counts()\n",
    "df['Product_Encoded'] = df['Product'].map(product_counts)\n",
    "\n",
    "# Drop the original 'Issue' column\n",
    "df.drop('Product', axis=1, inplace=True)"
   ]
  },
  {
   "cell_type": "code",
   "execution_count": 19,
   "id": "ae111798",
   "metadata": {},
   "outputs": [
    {
     "name": "stdout",
     "output_type": "stream",
     "text": [
      "['No' 'Yes' nan]\n"
     ]
    }
   ],
   "source": [
    "print(df['Consumer_disputed?'].unique())\n"
   ]
  },
  {
   "cell_type": "code",
   "execution_count": 20,
   "id": "a01bc0e0",
   "metadata": {},
   "outputs": [],
   "source": [
    "# Identify and handle missing values\n",
    "df['Consumer_disputed?'].fillna(df['Consumer_disputed?'].mode()[0], inplace=True)\n"
   ]
  },
  {
   "cell_type": "code",
   "execution_count": 21,
   "id": "79281c50",
   "metadata": {},
   "outputs": [
    {
     "data": {
      "text/plain": [
       "Industry_Risk                                6\n",
       "Complaint_ID                            536478\n",
       "Consumer_disputed?                           2\n",
       "Issue_Frequency_Encoded                     92\n",
       "Satisfaction_Level_Encoded                   7\n",
       "Payment_Method_Encoded                       7\n",
       "Customer_Type_Encoded                        7\n",
       "Resolution_Status_Encoded                    7\n",
       "Resolution_Type_Encoded                      7\n",
       "Company_response_to_consumer_Encoded        12\n",
       "Product_Encoded                             12\n",
       "dtype: int64"
      ]
     },
     "execution_count": 21,
     "metadata": {},
     "output_type": "execute_result"
    }
   ],
   "source": [
    "df.nunique()"
   ]
  },
  {
   "cell_type": "code",
   "execution_count": 22,
   "id": "5ebea175",
   "metadata": {},
   "outputs": [
    {
     "data": {
      "text/plain": [
       "Industry_Risk                                6\n",
       "Complaint_ID                            536478\n",
       "Consumer_disputed?                           2\n",
       "Issue_Frequency_Encoded                     92\n",
       "Satisfaction_Level_Encoded                   7\n",
       "Payment_Method_Encoded                       7\n",
       "Customer_Type_Encoded                        7\n",
       "Resolution_Status_Encoded                    7\n",
       "Resolution_Type_Encoded                      7\n",
       "Company_response_to_consumer_Encoded        12\n",
       "Product_Encoded                             12\n",
       "dtype: int64"
      ]
     },
     "execution_count": 22,
     "metadata": {},
     "output_type": "execute_result"
    }
   ],
   "source": [
    "from sklearn.preprocessing import LabelEncoder\n",
    "\n",
    "# Create a label encoder instance\n",
    "label_encoder = LabelEncoder()\n",
    "\n",
    "# Fit and transform the 'Consumer_disputed?' column\n",
    "df['Consumer_disputed?'] = label_encoder.fit_transform(df['Consumer_disputed?'])\n",
    "df.nunique()"
   ]
  },
  {
   "cell_type": "code",
   "execution_count": 23,
   "id": "5d47de37",
   "metadata": {},
   "outputs": [
    {
     "name": "stdout",
     "output_type": "stream",
     "text": [
      "<class 'pandas.core.frame.DataFrame'>\n",
      "RangeIndex: 536478 entries, 0 to 536477\n",
      "Data columns (total 11 columns):\n",
      " #   Column                                Non-Null Count   Dtype  \n",
      "---  ------                                --------------   -----  \n",
      " 0   Industry_Risk                         536478 non-null  float64\n",
      " 1   Complaint_ID                          536478 non-null  int64  \n",
      " 2   Consumer_disputed?                    536478 non-null  int32  \n",
      " 3   Issue_Frequency_Encoded               536478 non-null  int64  \n",
      " 4   Satisfaction_Level_Encoded            536478 non-null  int64  \n",
      " 5   Payment_Method_Encoded                536478 non-null  int64  \n",
      " 6   Customer_Type_Encoded                 536478 non-null  float64\n",
      " 7   Resolution_Status_Encoded             536478 non-null  int64  \n",
      " 8   Resolution_Type_Encoded               536478 non-null  int64  \n",
      " 9   Company_response_to_consumer_Encoded  536478 non-null  int64  \n",
      " 10  Product_Encoded                       536478 non-null  int64  \n",
      "dtypes: float64(2), int32(1), int64(8)\n",
      "memory usage: 43.0 MB\n"
     ]
    }
   ],
   "source": [
    "df.info()"
   ]
  },
  {
   "cell_type": "markdown",
   "id": "2320c873",
   "metadata": {},
   "source": [
    "## Train Using Support Vector Machine (SVM)"
   ]
  },
  {
   "cell_type": "code",
   "execution_count": 24,
   "id": "83eb17fe",
   "metadata": {},
   "outputs": [],
   "source": [
    "from sklearn.model_selection import train_test_split"
   ]
  },
  {
   "cell_type": "code",
   "execution_count": 25,
   "id": "c67bb5ac",
   "metadata": {},
   "outputs": [],
   "source": [
    "X = df.drop('Consumer_disputed?', axis=1)\n",
    "y = df['Consumer_disputed?']\n"
   ]
  },
  {
   "cell_type": "code",
   "execution_count": 26,
   "id": "fe841dc7",
   "metadata": {},
   "outputs": [],
   "source": [
    "X_train, X_test, y_train, y_test = train_test_split(X, y, test_size=0.27)"
   ]
  },
  {
   "cell_type": "code",
   "execution_count": 27,
   "id": "50cfa0af",
   "metadata": {},
   "outputs": [],
   "source": [
    "# y = y.round().astype(int)\n"
   ]
  },
  {
   "cell_type": "code",
   "execution_count": 28,
   "id": "8e9bf951",
   "metadata": {},
   "outputs": [],
   "source": [
    "\n",
    "# # Make predictions on the test set\n",
    "# y_pred = svm_model.predict(X_test)\n",
    "\n",
    "# # Evaluate the model\n",
    "# accuracy = accuracy_score(y_test, y_pred)\n",
    "# classification_rep = classification_report(y_test, y_pred)\n",
    "\n",
    "# # Print the results\n",
    "# print(f\"Accuracy: {accuracy:.2f}\")\n",
    "# print(\"Classification Report:\\n\", classification_rep)\n"
   ]
  },
  {
   "cell_type": "code",
   "execution_count": 29,
   "id": "de469d18",
   "metadata": {},
   "outputs": [
    {
     "name": "stdout",
     "output_type": "stream",
     "text": [
      "Accuracy: 0.76\n",
      "Classification Report:\n",
      "              precision    recall  f1-score   support\n",
      "\n",
      "           0       0.80      0.92      0.86    116123\n",
      "           1       0.23      0.09      0.13     28727\n",
      "\n",
      "    accuracy                           0.76    144850\n",
      "   macro avg       0.52      0.51      0.49    144850\n",
      "weighted avg       0.69      0.76      0.72    144850\n",
      "\n"
     ]
    }
   ],
   "source": [
    "from sklearn.ensemble import RandomForestClassifier\n",
    "from sklearn.model_selection import train_test_split\n",
    "from sklearn.metrics import accuracy_score, classification_report\n",
    "\n",
    "\n",
    "# Initialize Random Forest Classifier\n",
    "random_forest = RandomForestClassifier(n_estimators=100, random_state=42)  \n",
    "# Train the model on the training data\n",
    "random_forest.fit(X_train, y_train)\n",
    "\n",
    "# Predict on the test set\n",
    "y_pred = random_forest.predict(X_test)\n",
    "\n",
    "# Evaluate the model\n",
    "accuracy = accuracy_score(y_test, y_pred)\n",
    "print(f\"Accuracy: {accuracy:.2f}\")\n",
    "\n",
    "# Generate a classification report\n",
    "print(\"Classification Report:\")\n",
    "print(classification_report(y_test, y_pred))"
   ]
  },
  {
   "cell_type": "markdown",
   "id": "bb1029ea",
   "metadata": {},
   "source": [
    "## Tune model"
   ]
  },
  {
   "cell_type": "code",
   "execution_count": 30,
   "id": "8fcbad5a",
   "metadata": {},
   "outputs": [],
   "source": [
    "from sklearn.model_selection import GridSearchCV, train_test_split\n",
    "\n",
    "\n",
    "# Create the Random Forest classifier\n",
    "rf_classifier = RandomForestClassifier(random_state=42)\n",
    "\n",
    "# Define the parameter grid for grid search\n",
    "param_grid = {\n",
    "    'n_estimators': [50,70],\n",
    "    'max_depth': [20,10],\n",
    "    'min_samples_split': [2,4],\n",
    "    'min_samples_leaf': [ 2,5],\n",
    "    'max_features': ['auto','log2']\n",
    "}\n"
   ]
  },
  {
   "cell_type": "code",
   "execution_count": 31,
   "id": "34d1c794",
   "metadata": {},
   "outputs": [
    {
     "name": "stderr",
     "output_type": "stream",
     "text": [
      "C:\\Users\\IMAD\\AppData\\Roaming\\Python\\Python39\\site-packages\\sklearn\\model_selection\\_validation.py:425: FitFailedWarning: \n",
      "48 fits failed out of a total of 96.\n",
      "The score on these train-test partitions for these parameters will be set to nan.\n",
      "If these failures are not expected, you can try to debug them by setting error_score='raise'.\n",
      "\n",
      "Below are more details about the failures:\n",
      "--------------------------------------------------------------------------------\n",
      "48 fits failed with the following error:\n",
      "Traceback (most recent call last):\n",
      "  File \"C:\\Users\\IMAD\\AppData\\Roaming\\Python\\Python39\\site-packages\\sklearn\\model_selection\\_validation.py\", line 732, in _fit_and_score\n",
      "    estimator.fit(X_train, y_train, **fit_params)\n",
      "  File \"C:\\Users\\IMAD\\AppData\\Roaming\\Python\\Python39\\site-packages\\sklearn\\base.py\", line 1144, in wrapper\n",
      "    estimator._validate_params()\n",
      "  File \"C:\\Users\\IMAD\\AppData\\Roaming\\Python\\Python39\\site-packages\\sklearn\\base.py\", line 637, in _validate_params\n",
      "    validate_parameter_constraints(\n",
      "  File \"C:\\Users\\IMAD\\AppData\\Roaming\\Python\\Python39\\site-packages\\sklearn\\utils\\_param_validation.py\", line 95, in validate_parameter_constraints\n",
      "    raise InvalidParameterError(\n",
      "sklearn.utils._param_validation.InvalidParameterError: The 'max_features' parameter of RandomForestClassifier must be an int in the range [1, inf), a float in the range (0.0, 1.0], a str among {'log2', 'sqrt'} or None. Got 'auto' instead.\n",
      "\n",
      "  warnings.warn(some_fits_failed_message, FitFailedWarning)\n",
      "C:\\Users\\IMAD\\AppData\\Roaming\\Python\\Python39\\site-packages\\sklearn\\model_selection\\_search.py:976: UserWarning: One or more of the test scores are non-finite: [       nan        nan        nan        nan        nan        nan\n",
      "        nan        nan 0.80207237 0.80210046 0.80207237 0.80210046\n",
      " 0.80228176 0.80230474 0.80228176 0.80230474        nan        nan\n",
      "        nan        nan        nan        nan        nan        nan\n",
      " 0.802389   0.802389   0.802389   0.802389   0.802389   0.802389\n",
      " 0.802389   0.802389  ]\n",
      "  warnings.warn(\n"
     ]
    },
    {
     "name": "stdout",
     "output_type": "stream",
     "text": [
      "Best Hyperparameters: {'max_depth': 10, 'max_features': 'log2', 'min_samples_leaf': 2, 'min_samples_split': 2, 'n_estimators': 50}\n"
     ]
    }
   ],
   "source": [
    "\n",
    "# Use GridSearchCV to find the best hyperparameters\n",
    "grid_search = GridSearchCV(estimator=rf_classifier, param_grid=param_grid, cv=3, scoring='accuracy')\n",
    "grid_search.fit(X_train, y_train)\n",
    "\n",
    "# Print the best hyperparameters\n",
    "print(\"Best Hyperparameters:\", grid_search.best_params_)\n",
    "\n",
    "# Train the model with the best hyperparameters\n",
    "best_rf_model = grid_search.best_estimator_\n",
    "\n"
   ]
  },
  {
   "cell_type": "code",
   "execution_count": 32,
   "id": "d92834b0",
   "metadata": {},
   "outputs": [
    {
     "name": "stdout",
     "output_type": "stream",
     "text": [
      "Accuracy on Test Set: 0.8016775975146704\n"
     ]
    }
   ],
   "source": [
    "best_rf_model.fit(X_train, y_train)\n",
    "\n",
    "# Evaluate on the test set\n",
    "accuracy = best_rf_model.score(X_test, y_test)\n",
    "print(\"Accuracy on Test Set:\", accuracy)\n"
   ]
  },
  {
   "cell_type": "markdown",
   "id": "98555980",
   "metadata": {},
   "source": [
    "## Testing"
   ]
  },
  {
   "cell_type": "code",
   "execution_count": 33,
   "id": "c296f343",
   "metadata": {},
   "outputs": [
    {
     "data": {
      "text/plain": [
       "Date_received                     1818\n",
       "Sub-product                         47\n",
       "Issue                               93\n",
       "Sub-issue                           67\n",
       "Consumer_complaint_narrative     22856\n",
       "Company_public_response             10\n",
       "Company                           2540\n",
       "State                               62\n",
       "ZIP_code                         18301\n",
       "Tags                                 6\n",
       "Consumer_consent_provided?           4\n",
       "Submitted_via                       10\n",
       "Date_sent_to_company              1729\n",
       "Company_response_to_consumer         8\n",
       "Timely_response?                     2\n",
       "Consumer_disputed?                   2\n",
       "Complaint_ID                    134120\n",
       "Transaction_Category                 6\n",
       "Communication_Mode                   3\n",
       "Service_Fee_Type                     3\n",
       "Customer_Segment                     7\n",
       "Support_Level                        3\n",
       "dtype: int64"
      ]
     },
     "execution_count": 33,
     "metadata": {},
     "output_type": "execute_result"
    }
   ],
   "source": [
    "test_data = pd.read_csv('AICP_testing.csv')\n",
    "test_data.nunique()"
   ]
  },
  {
   "cell_type": "code",
   "execution_count": 34,
   "id": "19a3fa01",
   "metadata": {},
   "outputs": [],
   "source": [
    "selected_columns = ['Complaint_ID', 'Consumer_disputed?']"
   ]
  },
  {
   "cell_type": "code",
   "execution_count": 35,
   "id": "e4731bae",
   "metadata": {},
   "outputs": [],
   "source": [
    "# Create a DataFrame with only the required columns\n",
    "test_df = test_data[selected_columns].copy()\n"
   ]
  },
  {
   "cell_type": "code",
   "execution_count": 50,
   "id": "38f5d4f9",
   "metadata": {},
   "outputs": [],
   "source": [
    "# Maan lo X_test aapka testing DataFrame hai\n",
    "# X_test.reset_index(drop=True, inplace=True)\n",
    "\n",
    "# Ab aap is X_test ko use kar sakte hain apne model ko test karne ke liye\n",
    "predictions = best_rf_model.predict(X_test.iloc[:134120])\n",
    "\n"
   ]
  },
  {
   "cell_type": "code",
   "execution_count": 42,
   "id": "de8629e1",
   "metadata": {},
   "outputs": [],
   "source": [
    "# Here is an example of how to make the predictions array the same length as the test_data DataFrame:\n",
    "# for Google coolab \n",
    "# import numpy as np\n",
    "# predictions = np.pad(predictions, (0, len(test_data) - len(predictions)), 'constant')"
   ]
  },
  {
   "cell_type": "code",
   "execution_count": 51,
   "id": "2624cc05",
   "metadata": {},
   "outputs": [
    {
     "name": "stdout",
     "output_type": "stream",
     "text": [
      "Your submission was successfully saved!\n"
     ]
    }
   ],
   "source": [
    "output = pd.DataFrame({'Complaint_ID': test_df['Complaint_ID'], 'Consumer_disputed': predictions})\n",
    "\n",
    "output.to_csv('submission.csv', index=False)\n",
    "print(\"Your submission was successfully saved!\")\n",
    "\n"
   ]
  },
  {
   "cell_type": "code",
   "execution_count": null,
   "id": "855d393e",
   "metadata": {},
   "outputs": [],
   "source": []
  },
  {
   "cell_type": "code",
   "execution_count": null,
   "id": "3c0da806",
   "metadata": {},
   "outputs": [],
   "source": []
  },
  {
   "cell_type": "code",
   "execution_count": null,
   "id": "e481f8ec",
   "metadata": {},
   "outputs": [],
   "source": []
  }
 ],
 "metadata": {
  "kernelspec": {
   "display_name": "Python 3 (ipykernel)",
   "language": "python",
   "name": "python3"
  },
  "language_info": {
   "codemirror_mode": {
    "name": "ipython",
    "version": 3
   },
   "file_extension": ".py",
   "mimetype": "text/x-python",
   "name": "python",
   "nbconvert_exporter": "python",
   "pygments_lexer": "ipython3",
   "version": "3.9.7"
  }
 },
 "nbformat": 4,
 "nbformat_minor": 5
}
