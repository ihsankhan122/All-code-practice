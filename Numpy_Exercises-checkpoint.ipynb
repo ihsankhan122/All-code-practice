{
 "cells": [
  {
   "cell_type": "markdown",
   "id": "4ddaab68-7c0e-4327-a391-e7055712cee8",
   "metadata": {},
   "source": [
    "1.Write a NumPy program to get the numpy version and show numpy build configuration. "
   ]
  },
  {
   "cell_type": "code",
   "execution_count": 4,
   "id": "50180a6c-9799-43db-93e7-596bbafcc1bf",
   "metadata": {},
   "outputs": [],
   "source": [
    "import numpy as np"
   ]
  },
  {
   "cell_type": "code",
   "execution_count": 5,
   "id": "c2981521-c4e9-40a8-b8a4-af34124985f1",
   "metadata": {},
   "outputs": [
    {
     "data": {
      "text/plain": [
       "'1.21.2'"
      ]
     },
     "execution_count": 5,
     "metadata": {},
     "output_type": "execute_result"
    }
   ],
   "source": [
    "np.__version__"
   ]
  },
  {
   "cell_type": "markdown",
   "id": "eee03517-e3ed-4567-ae76-869672cd17c6",
   "metadata": {},
   "source": [
    "2. Write a NumPy program to  get help on the add function."
   ]
  },
  {
   "cell_type": "code",
   "execution_count": 7,
   "id": "4c4ae2cd-bcb3-469a-a540-180f4eb54df6",
   "metadata": {
    "collapsed": true,
    "jupyter": {
     "outputs_hidden": true
    },
    "tags": []
   },
   "outputs": [
    {
     "name": "stdout",
     "output_type": "stream",
     "text": [
      "Help on function sum in module numpy:\n",
      "\n",
      "sum(a, axis=None, dtype=None, out=None, keepdims=<no value>, initial=<no value>, where=<no value>)\n",
      "    Sum of array elements over a given axis.\n",
      "    \n",
      "    Parameters\n",
      "    ----------\n",
      "    a : array_like\n",
      "        Elements to sum.\n",
      "    axis : None or int or tuple of ints, optional\n",
      "        Axis or axes along which a sum is performed.  The default,\n",
      "        axis=None, will sum all of the elements of the input array.  If\n",
      "        axis is negative it counts from the last to the first axis.\n",
      "    \n",
      "        .. versionadded:: 1.7.0\n",
      "    \n",
      "        If axis is a tuple of ints, a sum is performed on all of the axes\n",
      "        specified in the tuple instead of a single axis or all the axes as\n",
      "        before.\n",
      "    dtype : dtype, optional\n",
      "        The type of the returned array and of the accumulator in which the\n",
      "        elements are summed.  The dtype of `a` is used by default unless `a`\n",
      "        has an integer dtype of less precision than the default platform\n",
      "        integer.  In that case, if `a` is signed then the platform integer\n",
      "        is used while if `a` is unsigned then an unsigned integer of the\n",
      "        same precision as the platform integer is used.\n",
      "    out : ndarray, optional\n",
      "        Alternative output array in which to place the result. It must have\n",
      "        the same shape as the expected output, but the type of the output\n",
      "        values will be cast if necessary.\n",
      "    keepdims : bool, optional\n",
      "        If this is set to True, the axes which are reduced are left\n",
      "        in the result as dimensions with size one. With this option,\n",
      "        the result will broadcast correctly against the input array.\n",
      "    \n",
      "        If the default value is passed, then `keepdims` will not be\n",
      "        passed through to the `sum` method of sub-classes of\n",
      "        `ndarray`, however any non-default value will be.  If the\n",
      "        sub-class' method does not implement `keepdims` any\n",
      "        exceptions will be raised.\n",
      "    initial : scalar, optional\n",
      "        Starting value for the sum. See `~numpy.ufunc.reduce` for details.\n",
      "    \n",
      "        .. versionadded:: 1.15.0\n",
      "    \n",
      "    where : array_like of bool, optional\n",
      "        Elements to include in the sum. See `~numpy.ufunc.reduce` for details.\n",
      "    \n",
      "        .. versionadded:: 1.17.0\n",
      "    \n",
      "    Returns\n",
      "    -------\n",
      "    sum_along_axis : ndarray\n",
      "        An array with the same shape as `a`, with the specified\n",
      "        axis removed.   If `a` is a 0-d array, or if `axis` is None, a scalar\n",
      "        is returned.  If an output array is specified, a reference to\n",
      "        `out` is returned.\n",
      "    \n",
      "    See Also\n",
      "    --------\n",
      "    ndarray.sum : Equivalent method.\n",
      "    \n",
      "    add.reduce : Equivalent functionality of `add`.\n",
      "    \n",
      "    cumsum : Cumulative sum of array elements.\n",
      "    \n",
      "    trapz : Integration of array values using the composite trapezoidal rule.\n",
      "    \n",
      "    mean, average\n",
      "    \n",
      "    Notes\n",
      "    -----\n",
      "    Arithmetic is modular when using integer types, and no error is\n",
      "    raised on overflow.\n",
      "    \n",
      "    The sum of an empty array is the neutral element 0:\n",
      "    \n",
      "    >>> np.sum([])\n",
      "    0.0\n",
      "    \n",
      "    For floating point numbers the numerical precision of sum (and\n",
      "    ``np.add.reduce``) is in general limited by directly adding each number\n",
      "    individually to the result causing rounding errors in every step.\n",
      "    However, often numpy will use a  numerically better approach (partial\n",
      "    pairwise summation) leading to improved precision in many use-cases.\n",
      "    This improved precision is always provided when no ``axis`` is given.\n",
      "    When ``axis`` is given, it will depend on which axis is summed.\n",
      "    Technically, to provide the best speed possible, the improved precision\n",
      "    is only used when the summation is along the fast axis in memory.\n",
      "    Note that the exact precision may vary depending on other parameters.\n",
      "    In contrast to NumPy, Python's ``math.fsum`` function uses a slower but\n",
      "    more precise approach to summation.\n",
      "    Especially when summing a large number of lower precision floating point\n",
      "    numbers, such as ``float32``, numerical errors can become significant.\n",
      "    In such cases it can be advisable to use `dtype=\"float64\"` to use a higher\n",
      "    precision for the output.\n",
      "    \n",
      "    Examples\n",
      "    --------\n",
      "    >>> np.sum([0.5, 1.5])\n",
      "    2.0\n",
      "    >>> np.sum([0.5, 0.7, 0.2, 1.5], dtype=np.int32)\n",
      "    1\n",
      "    >>> np.sum([[0, 1], [0, 5]])\n",
      "    6\n",
      "    >>> np.sum([[0, 1], [0, 5]], axis=0)\n",
      "    array([0, 6])\n",
      "    >>> np.sum([[0, 1], [0, 5]], axis=1)\n",
      "    array([1, 5])\n",
      "    >>> np.sum([[0, 1], [np.nan, 5]], where=[False, True], axis=1)\n",
      "    array([1., 5.])\n",
      "    \n",
      "    If the accumulator is too small, overflow occurs:\n",
      "    \n",
      "    >>> np.ones(128, dtype=np.int8).sum(dtype=np.int8)\n",
      "    -128\n",
      "    \n",
      "    You can also start the sum with a value other than zero:\n",
      "    \n",
      "    >>> np.sum([10], initial=5)\n",
      "    15\n",
      "\n"
     ]
    }
   ],
   "source": [
    "help(np.sum)"
   ]
  },
  {
   "cell_type": "markdown",
   "id": "adf0a8f8-53c3-4aee-97c7-241abbdf05af",
   "metadata": {},
   "source": [
    "3-Write a NumPy program to test whether none of the elements of a given array is zero."
   ]
  },
  {
   "cell_type": "code",
   "execution_count": 25,
   "id": "1433ec42-b617-4cd3-a5b7-689c37331220",
   "metadata": {},
   "outputs": [
    {
     "data": {
      "text/plain": [
       "array([False,  True])"
      ]
     },
     "execution_count": 25,
     "metadata": {},
     "output_type": "execute_result"
    }
   ],
   "source": [
    "arr = np.array(([1,0,1,1,1],[1,1,1,1,1]))\n",
    "np.all(arr,axis=1)"
   ]
  },
  {
   "cell_type": "markdown",
   "id": "89794add-1379-4768-9668-f5beced78832",
   "metadata": {},
   "source": [
    "4. Write a NumPy program to test whether any of the elements of a given array is non-zero."
   ]
  },
  {
   "cell_type": "code",
   "execution_count": 26,
   "id": "1ff7dddf-6636-4510-969e-d5ed399622a4",
   "metadata": {},
   "outputs": [
    {
     "data": {
      "text/plain": [
       "True"
      ]
     },
     "execution_count": 26,
     "metadata": {},
     "output_type": "execute_result"
    }
   ],
   "source": [
    "np.any(arr)"
   ]
  },
  {
   "cell_type": "markdown",
   "id": "47c096d6-75f4-4b33-a209-0111d4b220af",
   "metadata": {},
   "source": [
    "5. Write a NumPy program to test a given array element-wise for finiteness (not infinity or not a Number). "
   ]
  },
  {
   "cell_type": "code",
   "execution_count": 27,
   "id": "f5f8c29e-c67e-46ea-9aed-cec5ac5492b0",
   "metadata": {},
   "outputs": [
    {
     "data": {
      "text/plain": [
       "array([[ True,  True,  True,  True,  True],\n",
       "       [ True,  True,  True,  True,  True]])"
      ]
     },
     "execution_count": 27,
     "metadata": {},
     "output_type": "execute_result"
    }
   ],
   "source": [
    "np.isfinite(arr)"
   ]
  },
  {
   "cell_type": "markdown",
   "id": "b3b127bd-1bc0-4908-9686-6e568828d605",
   "metadata": {},
   "source": [
    "6. Write a NumPy program to test element-wise for positive or negative infinity."
   ]
  },
  {
   "cell_type": "code",
   "execution_count": 36,
   "id": "63ca336b-b559-4ed1-8c30-07694d3a48dc",
   "metadata": {},
   "outputs": [],
   "source": [
    "arr1 = np.array([[1, 0, 1, 1, 1],\n",
    "       [1, 1, 1, 1, np.inf]])"
   ]
  },
  {
   "cell_type": "code",
   "execution_count": 38,
   "id": "3fd43341-99db-4113-9879-a2bff15bde62",
   "metadata": {},
   "outputs": [
    {
     "data": {
      "text/plain": [
       "array([[False, False, False, False, False],\n",
       "       [False, False, False, False,  True]])"
      ]
     },
     "execution_count": 38,
     "metadata": {},
     "output_type": "execute_result"
    }
   ],
   "source": [
    "np.isinf(arr1)"
   ]
  },
  {
   "cell_type": "markdown",
   "id": "baefa479-ccb4-4d6f-9aa6-ab19b1c8ac25",
   "metadata": {},
   "source": [
    "7. Write a NumPy program to test element-wise for NaN of a given array. "
   ]
  },
  {
   "cell_type": "code",
   "execution_count": 39,
   "id": "11e6551f-8c28-4c93-8123-bcda30c1a8ab",
   "metadata": {},
   "outputs": [],
   "source": [
    "arr1 = np.array([[1, np.NaN, 1, 1, 1],\n",
    "       [1, 1, 1, 1, np.inf]])"
   ]
  },
  {
   "cell_type": "code",
   "execution_count": 40,
   "id": "7c41e99c-2ab4-41b8-a88e-d0457d027b19",
   "metadata": {},
   "outputs": [
    {
     "data": {
      "text/plain": [
       "array([[False,  True, False, False, False],\n",
       "       [False, False, False, False, False]])"
      ]
     },
     "execution_count": 40,
     "metadata": {},
     "output_type": "execute_result"
    }
   ],
   "source": [
    "np.isnan(arr1)"
   ]
  },
  {
   "cell_type": "markdown",
   "id": "fa4c9f4b-4784-482c-a8a7-0c3e87e38d62",
   "metadata": {},
   "source": [
    "8. Write a NumPy program to test element-wise for complex number, real number of a given array. Also test whether a given number is a scalar type or not."
   ]
  },
  {
   "cell_type": "code",
   "execution_count": 44,
   "id": "b717bf3e-fb9d-4834-aa1c-3ee0fe5d8586",
   "metadata": {},
   "outputs": [],
   "source": [
    "arr1 = np.array([[1, np.NaN, 1, 1+3j, 1],\n",
    "       [1, 1, 1, 1, np.inf]])"
   ]
  },
  {
   "cell_type": "code",
   "execution_count": 45,
   "id": "49b14967-ab8d-45ed-bd1e-62896c55dc0a",
   "metadata": {},
   "outputs": [
    {
     "data": {
      "text/plain": [
       "array([[False, False, False,  True, False],\n",
       "       [False, False, False, False, False]])"
      ]
     },
     "execution_count": 45,
     "metadata": {},
     "output_type": "execute_result"
    }
   ],
   "source": [
    "np.iscomplex(arr1)"
   ]
  },
  {
   "cell_type": "code",
   "execution_count": 46,
   "id": "9daafdbb-bff1-4c48-96a1-575e85f46c77",
   "metadata": {},
   "outputs": [
    {
     "data": {
      "text/plain": [
       "array([[ True,  True,  True, False,  True],\n",
       "       [ True,  True,  True,  True,  True]])"
      ]
     },
     "execution_count": 46,
     "metadata": {},
     "output_type": "execute_result"
    }
   ],
   "source": [
    "np.isreal(arr1)"
   ]
  },
  {
   "cell_type": "code",
   "execution_count": 48,
   "id": "a5ab95b7-49f4-4fe0-a52f-8a2d6a2e882c",
   "metadata": {},
   "outputs": [
    {
     "data": {
      "text/plain": [
       "(False, True)"
      ]
     },
     "execution_count": 48,
     "metadata": {},
     "output_type": "execute_result"
    }
   ],
   "source": [
    "np.isscalar(arr1),np.isscalar(3)"
   ]
  },
  {
   "cell_type": "markdown",
   "id": "09280a9f-b411-4b17-9277-13d9b036a056",
   "metadata": {},
   "source": [
    "9. Write a NumPy program to test whether two arrays are element-wise equal within a tolerance."
   ]
  },
  {
   "cell_type": "code",
   "execution_count": null,
   "id": "f35500ca-752a-4791-925c-bebc4fe55a92",
   "metadata": {},
   "outputs": [],
   "source": [
    "np.allclose()"
   ]
  },
  {
   "cell_type": "code",
   "execution_count": 49,
   "id": "0f86531b-2a51-49e4-b757-df91574e09f8",
   "metadata": {},
   "outputs": [
    {
     "data": {
      "text/plain": [
       "False"
      ]
     },
     "execution_count": 49,
     "metadata": {},
     "output_type": "execute_result"
    }
   ],
   "source": [
    "np.allclose([1e10,1e-7], [1.00001e10,1e-8])"
   ]
  },
  {
   "cell_type": "markdown",
   "id": "1d655b4c-eb7d-4422-b247-18ef1bc0b803",
   "metadata": {},
   "source": [
    "10. Write a NumPy program to create an element-wise comparison (greater, greater_equal, less and less_equal) of two given arrays."
   ]
  },
  {
   "cell_type": "code",
   "execution_count": 51,
   "id": "01aaa98e-aec0-4a30-a383-ca73401e80d5",
   "metadata": {},
   "outputs": [],
   "source": [
    "arr1=np.array([1,2,3,4,5])\n",
    "arr2=np.array([6,7,8,9,10])"
   ]
  },
  {
   "cell_type": "code",
   "execution_count": 53,
   "id": "784af94f-0e04-4a97-8996-56b76d59b8ea",
   "metadata": {},
   "outputs": [
    {
     "data": {
      "text/plain": [
       "(array([False, False, False, False, False]),\n",
       " array([False, False, False, False, False]),\n",
       " array([ True,  True,  True,  True,  True]),\n",
       " array([ True,  True,  True,  True,  True]))"
      ]
     },
     "execution_count": 53,
     "metadata": {},
     "output_type": "execute_result"
    }
   ],
   "source": [
    "arr1 > arr2,arr1 >= arr2,arr1 < arr2,arr1 <= arr2"
   ]
  },
  {
   "cell_type": "markdown",
   "id": "54942b7c-2f68-494d-a53b-760ee2e9c075",
   "metadata": {},
   "source": [
    "11. Write a NumPy program to create an element-wise comparison (equal, equal within a tolerance) of two given arrays. "
   ]
  },
  {
   "cell_type": "code",
   "execution_count": null,
   "id": "2faf3296-6f7f-474b-8ce3-dbd8a1d56854",
   "metadata": {},
   "outputs": [],
   "source": [
    "np.isclose"
   ]
  },
  {
   "cell_type": "markdown",
   "id": "e9b4da0f-41a6-467c-9e64-b631c35a339b",
   "metadata": {},
   "source": [
    "12. Write a NumPy program to create an array with the values 1, 7, 13, 105 and determine the size of the memory occupied by the array. "
   ]
  },
  {
   "cell_type": "code",
   "execution_count": 79,
   "id": "e78cc488-a271-4951-bd7c-595ffa09937f",
   "metadata": {},
   "outputs": [
    {
     "data": {
      "text/plain": [
       "124"
      ]
     },
     "execution_count": 79,
     "metadata": {},
     "output_type": "execute_result"
    }
   ],
   "source": [
    "arr3 =np.array(([1,7,13,105,1.00]),dtype='float32')\n",
    "import sys\n",
    "sys.getsizeof(arr3)"
   ]
  },
  {
   "cell_type": "markdown",
   "id": "ee80749f-39e0-4834-83b4-458f0163f3cf",
   "metadata": {},
   "source": [
    "13. Write a NumPy program to create an array of 10 zeros,10 ones, 10 fives. "
   ]
  },
  {
   "cell_type": "code",
   "execution_count": 83,
   "id": "4fce7f33-f201-4a13-a011-82eae3f58a0b",
   "metadata": {},
   "outputs": [
    {
     "data": {
      "text/plain": [
       "array([[0., 0., 0., 0., 0., 0., 0., 0., 0., 0.],\n",
       "       [1., 1., 1., 1., 1., 1., 1., 1., 1., 1.],\n",
       "       [5., 5., 5., 5., 5., 5., 5., 5., 5., 5.]])"
      ]
     },
     "execution_count": 83,
     "metadata": {},
     "output_type": "execute_result"
    }
   ],
   "source": [
    "np.array((np.zeros(10),np.ones(10),np.ones(10)*5))"
   ]
  },
  {
   "cell_type": "markdown",
   "id": "9d221c96-3a45-451a-97c9-388742bbade1",
   "metadata": {},
   "source": [
    "14. Write a NumPy program to create an array of the integers from 30 to70."
   ]
  },
  {
   "cell_type": "code",
   "execution_count": 85,
   "id": "3f5f04fe-0649-4e86-87b4-9c17e38d30a5",
   "metadata": {},
   "outputs": [
    {
     "data": {
      "text/plain": [
       "array([30, 31, 32, 33, 34, 35, 36, 37, 38, 39, 40, 41, 42, 43, 44, 45, 46,\n",
       "       47, 48, 49, 50, 51, 52, 53, 54, 55, 56, 57, 58, 59, 60, 61, 62, 63,\n",
       "       64, 65, 66, 67, 68, 69])"
      ]
     },
     "execution_count": 85,
     "metadata": {},
     "output_type": "execute_result"
    }
   ],
   "source": [
    "np.arange(30,70)"
   ]
  },
  {
   "cell_type": "markdown",
   "id": "6c9be62b-4a99-41d7-8318-6108af9f158d",
   "metadata": {},
   "source": [
    "15. Write a NumPy program to create an array of all the even integers from 30 to 70."
   ]
  },
  {
   "cell_type": "code",
   "execution_count": 87,
   "id": "43886f20-3791-49ac-add2-e99d6a845cfa",
   "metadata": {},
   "outputs": [
    {
     "data": {
      "text/plain": [
       "array([30, 32, 34, 36, 38, 40, 42, 44, 46, 48, 50, 52, 54, 56, 58, 60, 62,\n",
       "       64, 66, 68, 70])"
      ]
     },
     "execution_count": 87,
     "metadata": {},
     "output_type": "execute_result"
    }
   ],
   "source": [
    "np.arange(30,71,2)"
   ]
  },
  {
   "cell_type": "code",
   "execution_count": null,
   "id": "3298f8fc-0860-4d23-acff-4a773013e81a",
   "metadata": {},
   "outputs": [],
   "source": [
    "16. Write a NumPy program to create a 3x3 identity matrix."
   ]
  },
  {
   "cell_type": "code",
   "execution_count": 90,
   "id": "9b5d860e-b0c8-4036-b5c9-287401db5edb",
   "metadata": {},
   "outputs": [
    {
     "data": {
      "text/plain": [
       "array([[1., 0., 0.],\n",
       "       [0., 1., 0.],\n",
       "       [0., 0., 1.]])"
      ]
     },
     "execution_count": 90,
     "metadata": {},
     "output_type": "execute_result"
    }
   ],
   "source": [
    "np.eye(3)"
   ]
  },
  {
   "cell_type": "markdown",
   "id": "e3be8c15-de86-4ffe-ba20-b4bae6bc0781",
   "metadata": {},
   "source": [
    "17. Write a NumPy program to generate a random number between 0 and 1."
   ]
  },
  {
   "cell_type": "code",
   "execution_count": 94,
   "id": "6611cda1-f97f-433a-b622-10509ffc79e9",
   "metadata": {},
   "outputs": [
    {
     "data": {
      "text/plain": [
       "0.2189029576234468"
      ]
     },
     "execution_count": 94,
     "metadata": {},
     "output_type": "execute_result"
    }
   ],
   "source": [
    "np.random.rand()"
   ]
  },
  {
   "cell_type": "markdown",
   "id": "ef40f44a-66be-45a7-b378-96143278071e",
   "metadata": {},
   "source": [
    "\n",
    "18. Write a NumPy program to generate an array of 15 random numbers from a standard normal distribution."
   ]
  },
  {
   "cell_type": "code",
   "execution_count": 95,
   "id": "c7874655-0ad0-48fa-8545-50fbd562f0e9",
   "metadata": {},
   "outputs": [
    {
     "data": {
      "text/plain": [
       "array([-0.49407399, -0.9365287 ,  2.6034045 ,  1.83667655,  1.41472566,\n",
       "        0.13789146,  0.76192352,  0.95591048, -0.23524144,  0.46823741,\n",
       "       -1.06937887,  0.14481121, -0.02932285,  0.72003702, -0.74397699])"
      ]
     },
     "execution_count": 95,
     "metadata": {},
     "output_type": "execute_result"
    }
   ],
   "source": [
    "np.random.randn(15)"
   ]
  },
  {
   "cell_type": "markdown",
   "id": "e725c4d1-b98e-4908-84e2-9eaf168f1e7f",
   "metadata": {},
   "source": [
    "19. Write a NumPy program to create a vector with values ranging from 15 to 55 and print all values except the first and last."
   ]
  },
  {
   "cell_type": "code",
   "execution_count": 97,
   "id": "1acb48ae-0e63-48ca-99e1-0deb5e647d6d",
   "metadata": {
    "collapsed": true,
    "jupyter": {
     "outputs_hidden": true
    },
    "tags": []
   },
   "outputs": [
    {
     "name": "stdout",
     "output_type": "stream",
     "text": [
      "16\n",
      "17\n",
      "18\n",
      "19\n",
      "20\n",
      "21\n",
      "22\n",
      "23\n",
      "24\n",
      "25\n",
      "26\n",
      "27\n",
      "28\n",
      "29\n",
      "30\n",
      "31\n",
      "32\n",
      "33\n",
      "34\n",
      "35\n",
      "36\n",
      "37\n",
      "38\n",
      "39\n",
      "40\n",
      "41\n",
      "42\n",
      "43\n",
      "44\n",
      "45\n",
      "46\n",
      "47\n",
      "48\n",
      "49\n",
      "50\n",
      "51\n",
      "52\n",
      "53\n",
      "54\n"
     ]
    }
   ],
   "source": [
    "ar=np.arange(15,56)\n",
    "for ele in ar[1:-1]:\n",
    "    print(ele)"
   ]
  },
  {
   "cell_type": "markdown",
   "id": "d7ef7aa6-216b-4dea-a6ef-79e45d77637d",
   "metadata": {},
   "source": [
    "20. Write a NumPy program to create a 3X4 array using and iterate over it. \n"
   ]
  },
  {
   "cell_type": "code",
   "execution_count": 100,
   "id": "1cfedd37-deaf-4243-b405-ca0cbf36f868",
   "metadata": {},
   "outputs": [],
   "source": [
    "ar = np.arange(1,13).reshape(3,4)"
   ]
  },
  {
   "cell_type": "markdown",
   "id": "472e671b-8576-43d1-93b4-45d53ccc2b08",
   "metadata": {},
   "source": [
    "21. Write a NumPy program to create a vector of length 10 with values evenly distributed between 5 and 50. \n"
   ]
  },
  {
   "cell_type": "code",
   "execution_count": 101,
   "id": "8c8d7fb4-7efe-4784-9093-eb16ad650575",
   "metadata": {},
   "outputs": [
    {
     "data": {
      "text/plain": [
       "array([ 5., 10., 15., 20., 25., 30., 35., 40., 45., 50.])"
      ]
     },
     "execution_count": 101,
     "metadata": {},
     "output_type": "execute_result"
    }
   ],
   "source": [
    "np.linspace(5,50,10)"
   ]
  },
  {
   "cell_type": "markdown",
   "id": "5d0d3c32-3ed6-4fbb-a574-d70b7456cadb",
   "metadata": {},
   "source": [
    "22. Write a NumPy program to create a vector with values from 0 to 20 and change the sign of the numbers in the range from 9 to 15. \n"
   ]
  },
  {
   "cell_type": "code",
   "execution_count": 105,
   "id": "58a59af1-b784-4596-8199-6c61eaf485dc",
   "metadata": {},
   "outputs": [
    {
     "data": {
      "text/plain": [
       "array([  0,   1,   2,   3,   4,   5,   6,   7,   8,  -9, -10, -11, -12,\n",
       "       -13, -14, -15,  16,  17,  18,  19])"
      ]
     },
     "execution_count": 105,
     "metadata": {},
     "output_type": "execute_result"
    }
   ],
   "source": [
    "ar =np.concatenate((np.arange(0,9),np.arange(9,16)*-1,np.arange(16,20)),axis=0)\n",
    "ar"
   ]
  },
  {
   "cell_type": "markdown",
   "id": "7c44e6e6-e6eb-4d0c-9f97-acf89aa4b256",
   "metadata": {},
   "source": [
    "23. Write a NumPy program to create a vector of length 5 filled with arbitrary integers from 0 to 10. \n"
   ]
  },
  {
   "cell_type": "code",
   "execution_count": 106,
   "id": "8d209402-7054-4d93-865a-b2cd69823982",
   "metadata": {},
   "outputs": [
    {
     "data": {
      "text/plain": [
       "array([7, 2, 8, 7, 1])"
      ]
     },
     "execution_count": 106,
     "metadata": {},
     "output_type": "execute_result"
    }
   ],
   "source": [
    "np.random.randint(0,10,5)"
   ]
  },
  {
   "cell_type": "markdown",
   "id": "3944ddf6-1227-4a3e-a4d8-19e11b056c70",
   "metadata": {},
   "source": [
    "24. Write a NumPy program to multiply the values of two given vectors. \n"
   ]
  },
  {
   "cell_type": "code",
   "execution_count": 107,
   "id": "c7c7996c-bf6d-47f1-8d00-ff930dc1d280",
   "metadata": {},
   "outputs": [
    {
     "data": {
      "text/plain": [
       "array([ 1,  4,  9, 16])"
      ]
     },
     "execution_count": 107,
     "metadata": {},
     "output_type": "execute_result"
    }
   ],
   "source": [
    "a=np.arange(1,5)\n",
    "b=np.arange(1,5)\n",
    "a*b"
   ]
  },
  {
   "cell_type": "markdown",
   "id": "2191c0dc-9172-4481-8197-7c6752161ec1",
   "metadata": {},
   "source": [
    "25. Write a NumPy program to create a 3x4 matrix filled with values from 10 to 21. \n"
   ]
  },
  {
   "cell_type": "code",
   "execution_count": 109,
   "id": "eb4b9728-bf9e-4631-a5e1-c5c6c9785914",
   "metadata": {},
   "outputs": [],
   "source": [
    "ar=np.arange(10,22).reshape(3,4)"
   ]
  },
  {
   "cell_type": "markdown",
   "id": "88e2b87f-f96f-4222-98aa-7c9cca5cd88e",
   "metadata": {},
   "source": [
    "26. Write a NumPy program to find the number of rows and columns of a given matrix. \n"
   ]
  },
  {
   "cell_type": "code",
   "execution_count": 116,
   "id": "c1ea022c-82c6-401f-a83c-a2118740fb4d",
   "metadata": {},
   "outputs": [
    {
     "name": "stdout",
     "output_type": "stream",
     "text": [
      "Origional array :\n",
      "[[10 11 12 13]\n",
      " [14 15 16 17]\n",
      " [18 19 20 21]]\t\n",
      "Rows =3\n",
      " Columns=4\n"
     ]
    }
   ],
   "source": [
    "rows =ar.shape[0]\n",
    "cols =ar.shape[1]\n",
    "print(f'Origional array :\\n{ar}\\t\\nRows ={rows}\\n Columns={cols}')"
   ]
  },
  {
   "cell_type": "markdown",
   "id": "a1ca68dc-04ee-4449-b641-24c4fd85d16c",
   "metadata": {},
   "source": [
    "27. Write a NumPy program to create a 3x3 identity matrix, i.e. diagonal elements are 1, the rest are 0. \n"
   ]
  },
  {
   "cell_type": "code",
   "execution_count": 118,
   "id": "36bb769d-ba71-4017-acc1-a7978b679696",
   "metadata": {},
   "outputs": [
    {
     "data": {
      "text/plain": [
       "array([[1., 0., 0.],\n",
       "       [0., 1., 0.],\n",
       "       [0., 0., 1.]])"
      ]
     },
     "execution_count": 118,
     "metadata": {},
     "output_type": "execute_result"
    }
   ],
   "source": [
    "np.eye(3)"
   ]
  },
  {
   "cell_type": "markdown",
   "id": "a8d56f34-6da7-4d0a-af54-39d94d79490e",
   "metadata": {},
   "source": [
    "28. Write a NumPy program to create a 10x10 matrix, in which the elements on the borders will be equal to 1, and inside 0. \n"
   ]
  },
  {
   "cell_type": "code",
   "execution_count": 145,
   "id": "67103db9-6275-4ffb-94aa-d5a787322a73",
   "metadata": {},
   "outputs": [
    {
     "data": {
      "text/plain": [
       "array([[1., 1., 1., 1., 1., 1., 1., 1., 1., 1.],\n",
       "       [1., 0., 0., 0., 0., 0., 0., 0., 0., 1.],\n",
       "       [1., 0., 0., 0., 0., 0., 0., 0., 0., 1.],\n",
       "       [1., 0., 0., 0., 0., 0., 0., 0., 0., 1.],\n",
       "       [1., 0., 0., 0., 0., 0., 0., 0., 0., 1.],\n",
       "       [1., 0., 0., 0., 0., 0., 0., 0., 0., 1.],\n",
       "       [1., 0., 0., 0., 0., 0., 0., 0., 0., 1.],\n",
       "       [1., 0., 0., 0., 0., 0., 0., 0., 0., 1.],\n",
       "       [1., 0., 0., 0., 0., 0., 0., 0., 0., 1.],\n",
       "       [1., 1., 1., 1., 1., 1., 1., 1., 1., 1.]])"
      ]
     },
     "execution_count": 145,
     "metadata": {},
     "output_type": "execute_result"
    }
   ],
   "source": [
    "c= np.zeros((8,8))\n",
    "np.pad(c,(1,1),'constant',constant_values=1)"
   ]
  },
  {
   "cell_type": "code",
   "execution_count": 131,
   "id": "078bec56-006c-42fe-a5fb-a76aad49c01a",
   "metadata": {},
   "outputs": [
    {
     "data": {
      "text/plain": [
       "array([[1., 1., 1., 1., 1., 1., 1., 1., 1., 1.],\n",
       "       [1., 0., 0., 0., 0., 0., 0., 0., 0., 1.],\n",
       "       [1., 0., 0., 0., 0., 0., 0., 0., 0., 1.],\n",
       "       [1., 0., 0., 0., 0., 0., 0., 0., 0., 1.],\n",
       "       [1., 0., 0., 0., 0., 0., 0., 0., 0., 1.],\n",
       "       [1., 0., 0., 0., 0., 0., 0., 0., 0., 1.],\n",
       "       [1., 0., 0., 0., 0., 0., 0., 0., 0., 1.],\n",
       "       [1., 0., 0., 0., 0., 0., 0., 0., 0., 1.],\n",
       "       [1., 0., 0., 0., 0., 0., 0., 0., 0., 1.],\n",
       "       [1., 1., 1., 1., 1., 1., 1., 1., 1., 1.]])"
      ]
     },
     "execution_count": 131,
     "metadata": {},
     "output_type": "execute_result"
    }
   ],
   "source": [
    "c= np.zeros((10,10))\n",
    "c[0,:]=c[-1,:]=c[:,0]=c[:,-1]=1\n",
    "c"
   ]
  },
  {
   "cell_type": "markdown",
   "id": "022cd0fa-6446-4e16-a630-e5b04304e2ea",
   "metadata": {},
   "source": [
    "29. Write a NumPy program to create a 5x5 zero matrix with elements on the main diagonal equal to 1, 2, 3, 4, 5. \n"
   ]
  },
  {
   "cell_type": "code",
   "execution_count": 139,
   "id": "e83c324d-da77-48ba-b648-8e8110fb5b2f",
   "metadata": {},
   "outputs": [
    {
     "data": {
      "text/plain": [
       "array([[1, 0, 0, 0, 0],\n",
       "       [0, 2, 0, 0, 0],\n",
       "       [0, 0, 3, 0, 0],\n",
       "       [0, 0, 0, 4, 0],\n",
       "       [0, 0, 0, 0, 5]])"
      ]
     },
     "execution_count": 139,
     "metadata": {},
     "output_type": "execute_result"
    }
   ],
   "source": [
    "np.diagflat(np.arange(1,6))"
   ]
  },
  {
   "cell_type": "code",
   "execution_count": 149,
   "id": "e602163f-34c1-43f4-bf7e-408e622f9648",
   "metadata": {},
   "outputs": [
    {
     "data": {
      "text/plain": [
       "array([[1., 0., 0., 0., 0.],\n",
       "       [0., 2., 0., 0., 0.],\n",
       "       [0., 0., 3., 0., 0.],\n",
       "       [0., 0., 0., 4., 0.],\n",
       "       [0., 0., 0., 0., 5.]])"
      ]
     },
     "execution_count": 149,
     "metadata": {},
     "output_type": "execute_result"
    }
   ],
   "source": [
    "b =np.zeros((5,5))\n",
    "np.fill_diagonal(b,np.arange(1,6))\n",
    "b"
   ]
  },
  {
   "cell_type": "markdown",
   "id": "6e034fec-201f-4f13-9405-f31a966908e6",
   "metadata": {},
   "source": [
    "30. Write a NumPy program to create a 4x4 matrix in which 0 and 1 are staggered, with zeros on the main diagonal. "
   ]
  },
  {
   "cell_type": "code",
   "execution_count": 152,
   "id": "23162a24-903a-44d0-9d6b-9287fb080c78",
   "metadata": {},
   "outputs": [
    {
     "data": {
      "text/plain": [
       "array([[0., 0., 0., 0.],\n",
       "       [0., 0., 0., 0.],\n",
       "       [0., 0., 0., 0.],\n",
       "       [0., 0., 0., 0.]])"
      ]
     },
     "execution_count": 152,
     "metadata": {},
     "output_type": "execute_result"
    }
   ],
   "source": [
    "c = np.zeros((4,4))\n",
    "c."
   ]
  },
  {
   "cell_type": "markdown",
   "id": "5f1db6cb-c753-4bc1-b8c7-dd23e57ad321",
   "metadata": {},
   "source": [
    "31. Write a NumPy program to create a 3x3x3 array filled with arbitrary values. \n"
   ]
  },
  {
   "cell_type": "code",
   "execution_count": 155,
   "id": "81aea4d5-5dc9-4174-86a7-b45065cfc612",
   "metadata": {},
   "outputs": [
    {
     "data": {
      "text/plain": [
       "array([[[ 0,  1,  2],\n",
       "        [ 3,  4,  5],\n",
       "        [ 6,  7,  8]],\n",
       "\n",
       "       [[ 9, 10, 11],\n",
       "        [12, 13, 14],\n",
       "        [15, 16, 17]],\n",
       "\n",
       "       [[18, 19, 20],\n",
       "        [21, 22, 23],\n",
       "        [24, 25, 26]]])"
      ]
     },
     "execution_count": 155,
     "metadata": {},
     "output_type": "execute_result"
    }
   ],
   "source": [
    "np.arange(27).reshape(3,3,3)"
   ]
  },
  {
   "cell_type": "markdown",
   "id": "f4b8c323-f876-46d3-bbd1-e56d6727235d",
   "metadata": {},
   "source": [
    "32. Write a NumPy program to compute sum of all elements, sum of each column and sum of each row of a given array. \n"
   ]
  },
  {
   "cell_type": "code",
   "execution_count": 161,
   "id": "bcbe0e50-d827-4910-b5d9-28f43ce028bd",
   "metadata": {},
   "outputs": [
    {
     "name": "stdout",
     "output_type": "stream",
     "text": [
      "[[ 0  1  2  3]\n",
      " [ 4  5  6  7]\n",
      " [ 8  9 10 11]\n",
      " [12 13 14 15]]\n"
     ]
    },
    {
     "data": {
      "text/plain": [
       "(array([24, 28, 32, 36]), array([ 6, 22, 38, 54]))"
      ]
     },
     "execution_count": 161,
     "metadata": {},
     "output_type": "execute_result"
    }
   ],
   "source": [
    "d = np.arange(16).reshape(4,4)\n",
    "print(d)\n",
    "d.sum(axis=0),d.sum(axis=1)"
   ]
  },
  {
   "cell_type": "markdown",
   "id": "1731ef07-7817-4deb-8a27-19f4037d803a",
   "metadata": {},
   "source": [
    "33. Write a NumPy program to compute the inner product of two given vectors. \n"
   ]
  },
  {
   "cell_type": "code",
   "execution_count": 167,
   "id": "2ce9935d-ee1b-4b36-bc42-41810a8e35f8",
   "metadata": {},
   "outputs": [
    {
     "name": "stdout",
     "output_type": "stream",
     "text": [
      "[[2. 2. 2. 2. 2.]\n",
      " [2. 2. 2. 2. 2.]\n",
      " [2. 2. 2. 2. 2.]\n",
      " [2. 2. 2. 2. 2.]\n",
      " [2. 2. 2. 2. 2.]] \n",
      " [[ 0  1  2  3  4]\n",
      " [ 5  6  7  8  9]\n",
      " [10 11 12 13 14]\n",
      " [15 16 17 18 19]\n",
      " [20 21 22 23 24]]\n"
     ]
    },
    {
     "data": {
      "text/plain": [
       "array([[100., 110., 120., 130., 140.],\n",
       "       [100., 110., 120., 130., 140.],\n",
       "       [100., 110., 120., 130., 140.],\n",
       "       [100., 110., 120., 130., 140.],\n",
       "       [100., 110., 120., 130., 140.]])"
      ]
     },
     "execution_count": 167,
     "metadata": {},
     "output_type": "execute_result"
    }
   ],
   "source": [
    "a=np.ones((5,5))*2\n",
    "b = np.arange(25).reshape(5,5)\n",
    "print(a,'\\n',b)\n",
    "np.dot(a,b)"
   ]
  },
  {
   "cell_type": "markdown",
   "id": "743a744a-6e15-4c22-994d-6f7b8b130cf9",
   "metadata": {},
   "source": [
    "34. Write a NumPy program to add a vector to each row of a given matrix. \n"
   ]
  },
  {
   "cell_type": "code",
   "execution_count": 172,
   "id": "5675ff0d-b894-4804-b16e-f8863c1f2624",
   "metadata": {},
   "outputs": [
    {
     "name": "stdout",
     "output_type": "stream",
     "text": [
      "[[1. 0. 0. 0. 0.]\n",
      " [0. 1. 0. 0. 0.]\n",
      " [0. 0. 1. 0. 0.]\n",
      " [0. 0. 0. 1. 0.]\n",
      " [0. 0. 0. 0. 1.]] \n",
      " [0 1 2 3 4]\n"
     ]
    },
    {
     "data": {
      "text/plain": [
       "array([[1., 1., 2., 3., 4.],\n",
       "       [0., 2., 2., 3., 4.],\n",
       "       [0., 1., 3., 3., 4.],\n",
       "       [0., 1., 2., 4., 4.],\n",
       "       [0., 1., 2., 3., 5.]])"
      ]
     },
     "execution_count": 172,
     "metadata": {},
     "output_type": "execute_result"
    }
   ],
   "source": [
    "a = np.eye(5,5)\n",
    "b=np.arange(5)\n",
    "print(a,'\\n',b)\n",
    "a+b"
   ]
  },
  {
   "cell_type": "markdown",
   "id": "a4851136-21bd-4f17-ac62-0a6842623c9f",
   "metadata": {},
   "source": [
    "35. Write a NumPy program to save a given array to a binary file . \n"
   ]
  },
  {
   "cell_type": "code",
   "execution_count": 192,
   "id": "7867cdc9-0564-4eff-9f81-a57e181091a4",
   "metadata": {},
   "outputs": [
    {
     "name": "stdout",
     "output_type": "stream",
     "text": [
      "[[ 0  1  2  3  4]\n",
      " [ 5  6  7  8  9]\n",
      " [10 11 12 13 14]\n",
      " [15 16 17 18 19]\n",
      " [20 21 22 23 24]]\n"
     ]
    }
   ],
   "source": [
    "x =np.arange(25).reshape(5,5)\n",
    "print(x)\n",
    "np.save('array',x)"
   ]
  },
  {
   "cell_type": "code",
   "execution_count": 196,
   "id": "79b28457-6ca1-4349-b706-d091b3c42746",
   "metadata": {},
   "outputs": [
    {
     "name": "stdout",
     "output_type": "stream",
     "text": [
      "[[ 0  1  2  3  4]\n",
      " [ 5  6  7  8  9]\n",
      " [10 11 12 13 14]\n",
      " [15 16 17 18 19]\n",
      " [20 21 22 23 24]]\n"
     ]
    }
   ],
   "source": [
    "z= np.load('array.npy')\n",
    "print(z)\n"
   ]
  },
  {
   "cell_type": "markdown",
   "id": "a3f276eb-5389-4bdf-a36b-243bcd9fbb90",
   "metadata": {},
   "source": [
    "36. Write a NumPy program to save two given arrays into a single file in compressed format (.npz format) and load it. \n"
   ]
  },
  {
   "cell_type": "code",
   "execution_count": 205,
   "id": "5b6db9f1-1f0b-4380-b559-b408e7a2b8b7",
   "metadata": {},
   "outputs": [],
   "source": [
    "X=np.arange(25)\n",
    "Y=np.arange(25,50)\n",
    "np.savez_compressed('combined_array.npz',A=X,B=Y)"
   ]
  },
  {
   "cell_type": "code",
   "execution_count": 221,
   "id": "c5e5ec61-6c9b-4d38-a981-dafcdf8cc439",
   "metadata": {},
   "outputs": [
    {
     "name": "stdout",
     "output_type": "stream",
     "text": [
      "[ 0  1  2  3  4  5  6  7  8  9 10 11 12 13 14 15 16 17 18 19 20 21 22 23\n",
      " 24] \n",
      " [25 26 27 28 29 30 31 32 33 34 35 36 37 38 39 40 41 42 43 44 45 46 47 48\n",
      " 49]\n"
     ]
    }
   ],
   "source": [
    "Arr=np.load('combined_array.npz')\n",
    "print(Arr['A'],'\\n',Arr['B'])"
   ]
  },
  {
   "cell_type": "markdown",
   "id": "94218fd2-e053-4110-97e7-1280cd8c5ec0",
   "metadata": {},
   "source": [
    "37. Write a NumPy program to save a given array to a text file and load it. \n"
   ]
  },
  {
   "cell_type": "code",
   "execution_count": 222,
   "id": "bc8bcc7a-17d0-47cd-a39a-5f4dab660625",
   "metadata": {},
   "outputs": [],
   "source": [
    "np.savetxt('array.txt',X)"
   ]
  },
  {
   "cell_type": "markdown",
   "id": "cf2c6227-760e-4fb2-b98e-aaad99ef0625",
   "metadata": {},
   "source": [
    "38. Write a NumPy program to convert a given array into bytes, and load it as array. \n"
   ]
  },
  {
   "cell_type": "code",
   "execution_count": 225,
   "id": "d774a027-7473-4b04-a506-2c9243c90e1c",
   "metadata": {},
   "outputs": [
    {
     "data": {
      "text/plain": [
       "b'\\x00\\x00\\x00\\x00\\x01\\x00\\x00\\x00\\x02\\x00\\x00\\x00\\x03\\x00\\x00\\x00\\x04\\x00\\x00\\x00\\x05\\x00\\x00\\x00\\x06\\x00\\x00\\x00\\x07\\x00\\x00\\x00\\x08\\x00\\x00\\x00\\t\\x00\\x00\\x00\\n\\x00\\x00\\x00\\x0b\\x00\\x00\\x00\\x0c\\x00\\x00\\x00\\r\\x00\\x00\\x00\\x0e\\x00\\x00\\x00\\x0f\\x00\\x00\\x00\\x10\\x00\\x00\\x00\\x11\\x00\\x00\\x00\\x12\\x00\\x00\\x00\\x13\\x00\\x00\\x00\\x14\\x00\\x00\\x00\\x15\\x00\\x00\\x00\\x16\\x00\\x00\\x00\\x17\\x00\\x00\\x00\\x18\\x00\\x00\\x00'"
      ]
     },
     "execution_count": 225,
     "metadata": {},
     "output_type": "execute_result"
    }
   ],
   "source": [
    "V= X.tobytes()\n"
   ]
  },
  {
   "cell_type": "markdown",
   "id": "3e068bc1-76e0-448c-9d80-3ecec61eabe1",
   "metadata": {},
   "source": [
    "39. Write a NumPy program to convert a given list into an array, then again convert it into a list. "
   ]
  },
  {
   "cell_type": "code",
   "execution_count": 228,
   "id": "87e913a4-12ca-4edc-a918-2be14ea2859b",
   "metadata": {},
   "outputs": [
    {
     "name": "stdout",
     "output_type": "stream",
     "text": [
      "[0 1 2 3 4]\n",
      "[0, 1, 2, 3, 4]\n"
     ]
    }
   ],
   "source": [
    "X = np.array(np.arange((5)))\n",
    "print(X)\n",
    "X_tolist = X.tolist()\n",
    "print(X_tolist)"
   ]
  },
  {
   "cell_type": "markdown",
   "id": "4921b7d7-33b6-4a91-91d4-6ae3e1fa3268",
   "metadata": {},
   "source": [
    "40. Write a NumPy program to compute the x and y coordinates for points on a sine curve and plot the points using matplotlib. \n"
   ]
  },
  {
   "cell_type": "code",
   "execution_count": 242,
   "id": "2c721142-8c00-4b5c-adf6-41c0a8918f6c",
   "metadata": {},
   "outputs": [],
   "source": [
    "x=np.linspace(0,2*np.pi,10000)\n",
    "y=np.sin(x)\n"
   ]
  },
  {
   "cell_type": "code",
   "execution_count": 245,
   "id": "b7b39a7f-43cf-452d-8baf-12b82b0f99d3",
   "metadata": {},
   "outputs": [
    {
     "data": {
      "image/png": "[encoded data removed]",
      "text/plain": [
       "<Figure size 432x288 with 1 Axes>"
      ]
     },
     "metadata": {
      "needs_background": "light"
     },
     "output_type": "display_data"
    }
   ],
   "source": [
    "import matplotlib.pyplot as plt\n",
    "fig=plt.figure()\n",
    "plt.plot(x,y,'r--',);"
   ]
  },
  {
   "cell_type": "markdown",
   "id": "b96ed618-9fd7-468c-a557-a3bee9581efe",
   "metadata": {},
   "source": [
    "41. Write a NumPy program to convert numpy dtypes to native python types. "
   ]
  },
  {
   "cell_type": "code",
   "execution_count": 260,
   "id": "0c306a06-f5c0-401d-b56b-ac4acee74e97",
   "metadata": {},
   "outputs": [
    {
     "name": "stdout",
     "output_type": "stream",
     "text": [
      "<class 'numpy.ndarray'>\n",
      "<class 'int'>\n"
     ]
    }
   ],
   "source": [
    "I = np.array([1],dtype='int')\n",
    "print(type(I))\n",
    "i = int(I)\n",
    "print(type(i))"
   ]
  },
  {
   "cell_type": "markdown",
   "id": "9ceaa24f-f0dc-418d-ab4a-f83d64653021",
   "metadata": {},
   "source": [
    "42. Write a NumPy program to add elements in a matrix. If an element in the matrix is 0, we will not add the element below this element. "
   ]
  },
  {
   "cell_type": "code",
   "execution_count": 279,
   "id": "a6407f4c-003a-4601-a149-33804d0f5483",
   "metadata": {},
   "outputs": [],
   "source": [
    "def add_zero(m):\n",
    "    n_row,n_colums=m.shape\n",
    "    print(f'Number of rows: {n_row} \\n Number of columns: {n_colums}')\n",
    "    sum_mat=0\n",
    "    n=m\n",
    "    for p in range(n_row):\n",
    "        for q in range(n_colums):\n",
    "            if m[p][q]==0 and (p<n_row-1):\n",
    "                print(f'Zero at index{p}:{q}')\n",
    "                n[p+1][q]=0\n",
    "            sum_mat+=n[p][q]\n",
    "    return sum_mat\n",
    "            "
   ]
  },
  {
   "cell_type": "code",
   "execution_count": 281,
   "id": "ab47918f-6e3b-48e4-9318-e31a27bbf306",
   "metadata": {},
   "outputs": [
    {
     "name": "stdout",
     "output_type": "stream",
     "text": [
      "Number of rows: 3 \n",
      " Number of columns: 4\n",
      "Zero at index0:2\n",
      "Zero at index1:2\n",
      "Zero at index1:3\n",
      "13\n"
     ]
    }
   ],
   "source": [
    "m=np.array(([1,2,0,4],[1,1,1,0],[2,2,0,2]))\n",
    "sum_mat=add_zero(m)\n",
    "print(sum_mat)"
   ]
  },
  {
   "cell_type": "markdown",
   "id": "79ab63a2-f01b-49b2-8204-37d397940e89",
   "metadata": {},
   "source": [
    "43. Write a NumPy program to find the missing data in a given array. \n"
   ]
  },
  {
   "cell_type": "code",
   "execution_count": 262,
   "id": "c36c5261-4d64-46cf-8ef3-0bb53471501f",
   "metadata": {},
   "outputs": [
    {
     "data": {
      "text/plain": [
       "array([[False, False, False],\n",
       "       [ True, False, False],\n",
       "       [ True, False, False]])"
      ]
     },
     "execution_count": 262,
     "metadata": {},
     "output_type": "execute_result"
    }
   ],
   "source": [
    "G= np.array(([1,2,3],[np.nan,5,6],[np.nan,8,9]))\n",
    "np.isnan(G)"
   ]
  },
  {
   "cell_type": "markdown",
   "id": "3c605c27-8824-4dcc-a0ea-9564db8f7322",
   "metadata": {},
   "source": [
    "44. Write a NumPy program to check whether two arrays are equal (element wise) or not. "
   ]
  },
  {
   "cell_type": "code",
   "execution_count": 263,
   "id": "4b305fb0-81a1-4a8d-96ac-dfaf4e8003b9",
   "metadata": {},
   "outputs": [
    {
     "data": {
      "text/plain": [
       "array([[ True,  True,  True],\n",
       "       [False,  True,  True],\n",
       "       [False,  True,  True]])"
      ]
     },
     "execution_count": 263,
     "metadata": {},
     "output_type": "execute_result"
    }
   ],
   "source": [
    "G==G"
   ]
  },
  {
   "cell_type": "markdown",
   "id": "c6aa4212-7307-41a5-b1ff-67ee0fc50c1b",
   "metadata": {},
   "source": [
    "45. Write a NumPy program to create one-dimensional array of single, two and three digit numbers. \n"
   ]
  },
  {
   "cell_type": "markdown",
   "id": "51ef58d9-71c3-4ce2-939a-098fcb949929",
   "metadata": {},
   "source": [
    "46. Write a NumPy program to create a two-dimensional array of specified format. \n"
   ]
  },
  {
   "cell_type": "code",
   "execution_count": 282,
   "id": "e8514e9e-e675-4332-a1c3-f62990afe73f",
   "metadata": {},
   "outputs": [
    {
     "data": {
      "text/plain": [
       "array([[ 0.,  1.,  2.,  3.,  4.],\n",
       "       [ 5.,  6.,  7.,  8.,  9.],\n",
       "       [10., 11., 12., 13., 14.],\n",
       "       [15., 16., 17., 18., 19.],\n",
       "       [20., 21., 22., 23., 24.]], dtype=float32)"
      ]
     },
     "execution_count": 282,
     "metadata": {},
     "output_type": "execute_result"
    }
   ],
   "source": [
    "np.arange(25,dtype='float32').reshape(5,5)"
   ]
  },
  {
   "cell_type": "markdown",
   "id": "9fca6d7d-0593-4738-aa30-385f4f621d0b",
   "metadata": {},
   "source": [
    "47. Write a NumPy program to create a one dimensional array of forty pseudo-randomly generated values. Select random numbers from a uniform distribution between 0 and 1. \n"
   ]
  },
  {
   "cell_type": "code",
   "execution_count": 283,
   "id": "4e4e52c7-0faf-4c11-8b5d-6e1f90cfe47a",
   "metadata": {},
   "outputs": [
    {
     "data": {
      "text/plain": [
       "array([0.93430781, 0.63059773, 0.34846145, 0.25719875, 0.0989618 ,\n",
       "       0.3913531 , 0.89088135, 0.94012208, 0.53723145, 0.81304324,\n",
       "       0.424826  , 0.30414918, 0.94634567, 0.95746813, 0.3409809 ,\n",
       "       0.26545423, 0.11539098, 0.17169194, 0.81158202, 0.03482971,\n",
       "       0.2022045 , 0.53398872, 0.23437946, 0.19648808, 0.84538361,\n",
       "       0.32893141, 0.35932651, 0.69688827, 0.95599688, 0.55598709,\n",
       "       0.8002802 , 0.68241645, 0.84153841, 0.07093813, 0.65331214,\n",
       "       0.24815029, 0.38496631, 0.24267533, 0.87173495, 0.35648188])"
      ]
     },
     "execution_count": 283,
     "metadata": {},
     "output_type": "execute_result"
    }
   ],
   "source": [
    "np.random.random(40)"
   ]
  },
  {
   "cell_type": "markdown",
   "id": "98c66092-7e04-4fae-92d5-11da0ca0b391",
   "metadata": {},
   "source": [
    "48. Write a NumPy program to create a two-dimensional array with shape (8,5) of random numbers. Select random numbers from a normal distribution (200,7). \n"
   ]
  },
  {
   "cell_type": "code",
   "execution_count": 284,
   "id": "4a218a41-7bd0-4f12-81e5-33bb9c77ccad",
   "metadata": {},
   "outputs": [
    {
     "data": {
      "text/plain": [
       "array([[202.27829106, 196.81894875, 197.6262438 , 206.4492745 ,\n",
       "        198.02965907],\n",
       "       [209.69859566, 190.33297482, 199.29320557, 195.92620753,\n",
       "        198.70811907],\n",
       "       [205.39740434, 203.00577056, 204.58463041, 205.12513865,\n",
       "        197.84254304],\n",
       "       [205.47689559, 195.40459193, 209.75257653, 202.17876149,\n",
       "        210.66434808],\n",
       "       [202.42374258, 208.9845347 , 212.49912762, 210.68763024,\n",
       "        194.56220026],\n",
       "       [203.52515807, 209.52195192, 198.22788955, 209.98008606,\n",
       "        198.25623446],\n",
       "       [202.5924424 , 198.43986865, 210.63650413, 184.38678322,\n",
       "        193.82371987],\n",
       "       [190.29253481, 207.60180681, 196.58747034, 200.1482518 ,\n",
       "        208.88476608]])"
      ]
     },
     "execution_count": 284,
     "metadata": {},
     "output_type": "execute_result"
    }
   ],
   "source": [
    "7*np.random.randn(8,5)+200"
   ]
  },
  {
   "cell_type": "markdown",
   "id": "4b6e9910-68e4-4920-9243-0266bfa90c2a",
   "metadata": {},
   "source": [
    "49. Write a NumPy program to generate a uniform, non-uniform random sample from a given 1-D array with and without replacement. \n"
   ]
  },
  {
   "cell_type": "code",
   "execution_count": 287,
   "id": "1dc71f72-deea-498e-b4d6-667db27a9391",
   "metadata": {},
   "outputs": [
    {
     "data": {
      "text/plain": [
       "array([[ 3, 24, 12],\n",
       "       [ 5, 17, 14]])"
      ]
     },
     "execution_count": 287,
     "metadata": {},
     "output_type": "execute_result"
    }
   ],
   "source": [
    "a = np.arange(25)\n",
    "b = np.random.choice(a, size=(2,3), replace=True, p=None)"
   ]
  },
  {
   "cell_type": "markdown",
   "id": "e8739087-19d3-495d-8cd5-58672e0e0876",
   "metadata": {},
   "source": [
    "50. Write a NumPy program to create a 4x4 array with random values, now create a new array from the said array swapping first and last rows. \n"
   ]
  },
  {
   "cell_type": "code",
   "execution_count": 293,
   "id": "bf04ba6f-75be-4098-aa84-5e4eff1f6eb7",
   "metadata": {},
   "outputs": [
    {
     "name": "stdout",
     "output_type": "stream",
     "text": [
      "[[ 0  1  2  3]\n",
      " [ 4  5  6  7]\n",
      " [ 8  9 10 11]\n",
      " [12 13 14 15]] \n",
      "\n",
      " [[12 13 14 15]\n",
      " [ 4  5  6  7]\n",
      " [ 8  9 10 11]\n",
      " [ 0  1  2  3]]\n"
     ]
    }
   ],
   "source": [
    "x=np.arange(16).reshape(4,4)\n",
    "y[-1,:]=x[0,:]\n",
    "y[1:-1,:]=x[1:-1,:]\n",
    "y[0,:]=x[-1,:]\n",
    "print(x,'\\n\\n',y)"
   ]
  },
  {
   "cell_type": "markdown",
   "id": "512a33b0-2194-48f0-9702-983540886012",
   "metadata": {},
   "source": [
    "51. Write a NumPy program to create a new array of given shape (5,6) and type, filled with zeros. \n"
   ]
  },
  {
   "cell_type": "code",
   "execution_count": 303,
   "id": "f1aa42ba-8119-41af-9b97-a56973fdfe30",
   "metadata": {},
   "outputs": [
    {
     "name": "stdout",
     "output_type": "stream",
     "text": [
      "[[0. 0. 0. 0. 0. 0.]\n",
      " [0. 0. 0. 0. 0. 0.]\n",
      " [0. 0. 0. 0. 0. 0.]\n",
      " [0. 0. 0. 0. 0. 0.]\n",
      " [0. 0. 0. 0. 0. 0.]]\n"
     ]
    }
   ],
   "source": [
    "zer = np.ones((5,6))\n",
    "zer.fill(0)\n",
    "print(zer)"
   ]
  },
  {
   "cell_type": "markdown",
   "id": "348c704d-15e5-4dc6-b5c7-f4946a32d5b6",
   "metadata": {},
   "source": [
    "52. Write a NumPy program to sort a given array by row and column in ascending order. \n"
   ]
  },
  {
   "cell_type": "code",
   "execution_count": 328,
   "id": "7afd773c-3ff4-40d2-b229-7dd0373012f6",
   "metadata": {},
   "outputs": [
    {
     "name": "stdout",
     "output_type": "stream",
     "text": [
      "[[ 0 15 20 10  5]\n",
      " [ 1 16 21 11  6]\n",
      " [ 2 17 22 12  7]\n",
      " [ 3 18 23 13  8]\n",
      " [ 4 19 24 14  9]]\n",
      "After sorting\n",
      "[[ 0  1  2  3  4]\n",
      " [ 5  6  7  8  9]\n",
      " [10 11 12 13 14]\n",
      " [15 16 17 18 19]\n",
      " [20 21 22 23 24]]\n"
     ]
    }
   ],
   "source": [
    "n = np.arange(25).reshape(5,5)\n",
    "np.random.shuffle(n)\n",
    "print(n.transpose())\n",
    "print('After sorting')\n",
    "print(np.sort(n,axis=0))"
   ]
  },
  {
   "cell_type": "markdown",
   "id": "a3d3b03c-84db-4353-8bdb-3014358ec8b5",
   "metadata": {},
   "source": [
    "53. Write a NumPy program to extract all numbers from a given array which are less and greater than a specified number. \n"
   ]
  },
  {
   "cell_type": "code",
   "execution_count": 335,
   "id": "90bb5b8f-0cec-4057-a739-b592be4b6620",
   "metadata": {},
   "outputs": [
    {
     "data": {
      "text/plain": [
       "array([15, 16, 17, 18, 19, 20, 21, 22, 23, 24, 10, 11, 12, 13, 14])"
      ]
     },
     "execution_count": 335,
     "metadata": {},
     "output_type": "execute_result"
    }
   ],
   "source": [
    "n[n>9]"
   ]
  },
  {
   "cell_type": "markdown",
   "id": "0b0c710c-02db-4035-8450-e3b994e48e16",
   "metadata": {},
   "source": [
    "54. Write a NumPy program to replace all numbers in a given array which is equal, less and greater to a given number. \n"
   ]
  },
  {
   "cell_type": "code",
   "execution_count": 343,
   "id": "4bc2453c-1f48-4868-8be2-bf8ce2e07a0e",
   "metadata": {},
   "outputs": [
    {
     "data": {
      "text/plain": [
       "array([[  0,   1,   2,   3,   4],\n",
       "       [101, 101, 101, 101, 101],\n",
       "       [101, 101, 101, 101, 101],\n",
       "       [ 10, 101, 101, 101, 101],\n",
       "       [  5,   6,   7,   8, 101]])"
      ]
     },
     "execution_count": 343,
     "metadata": {},
     "output_type": "execute_result"
    }
   ],
   "source": [
    "n[n==9]=100\n",
    "n[n>10]=101\n",
    "n"
   ]
  },
  {
   "cell_type": "markdown",
   "id": "1319867b-08f5-4acf-9470-ee1e32ec1722",
   "metadata": {},
   "source": [
    "55. Write a NumPy program to create an array of equal shape and data type of a given array. \n"
   ]
  },
  {
   "cell_type": "code",
   "execution_count": null,
   "id": "df250a63-1346-4f1d-aec7-1c7c99b7f5e4",
   "metadata": {},
   "outputs": [],
   "source": []
  },
  {
   "cell_type": "markdown",
   "id": "e5b17763-e573-4057-a0b2-af152e43b33e",
   "metadata": {},
   "source": [
    "\n",
    "\n",
    "56. Write a NumPy program to create a three-dimension array with shape (3,5,4) and set to a variable. \n",
    "\n",
    "\n",
    "57. Write a NumPy program to create a 4x4 array, now create a new array from the said array swapping first and last, second and third columns. \n",
    "\n",
    "\n",
    "58. Write a NumPy program to swap rows and columns of a given array in reverse order. \n",
    "\n",
    "\n",
    "59. Write a NumPy program to multiply two given arrays of same size element-by-element. \n"
   ]
  },
  {
   "cell_type": "markdown",
   "id": "9d56ea88-6bab-4837-bab8-14a3a036862b",
   "metadata": {},
   "source": [
    "Write a NumPy program to reverse an array (first element becomes last)."
   ]
  },
  {
   "cell_type": "code",
   "execution_count": 345,
   "id": "07a800ee-2cf2-470f-aab8-b4e00030be27",
   "metadata": {},
   "outputs": [],
   "source": [
    "o = np.arange(11)\n",
    "y = o[::-1]"
   ]
  },
  {
   "cell_type": "markdown",
   "id": "889c970a-1baa-4664-a2d5-f48f8a81f808",
   "metadata": {},
   "source": [
    " Write a NumPy program to add a border (filled with 0's) around an existing array."
   ]
  },
  {
   "cell_type": "code",
   "execution_count": 360,
   "id": "cdae660f-c050-4ab3-9a5f-791baef8bf77",
   "metadata": {},
   "outputs": [
    {
     "data": {
      "text/plain": [
       "array([[ 0,  0,  0,  0,  0,  0,  0],\n",
       "       [ 0,  0,  1,  2,  3,  4,  0],\n",
       "       [ 0,  5,  6,  7,  8,  9,  0],\n",
       "       [ 0, 10, 11, 12, 13, 14,  0],\n",
       "       [ 0, 15, 16, 17, 18, 19,  0],\n",
       "       [ 0, 20, 21, 22, 23, 24,  0],\n",
       "       [ 0,  0,  0,  0,  0,  0,  0]])"
      ]
     },
     "execution_count": 360,
     "metadata": {},
     "output_type": "execute_result"
    }
   ],
   "source": [
    "c= np.arange(25).reshape(5,5)\n",
    "np.pad(c,(1,1),'constant',constant_values=0)\n"
   ]
  },
  {
   "cell_type": "markdown",
   "id": "bf4b6e52-5ea4-40b3-ae67-b48bb701308b",
   "metadata": {},
   "source": [
    "Write a NumPy program to create a 8x8 matrix and fill it with a checkerboard pattern. "
   ]
  },
  {
   "cell_type": "code",
   "execution_count": 377,
   "id": "b1760e21-812c-4f26-81fe-12c070e9b1b5",
   "metadata": {},
   "outputs": [
    {
     "data": {
      "text/plain": [
       "array([[0., 1., 0., 1., 0., 1., 0., 1.],\n",
       "       [1., 0., 1., 0., 1., 0., 1., 0.],\n",
       "       [0., 1., 0., 1., 0., 1., 0., 1.],\n",
       "       [1., 0., 1., 0., 1., 0., 1., 0.],\n",
       "       [0., 1., 0., 1., 0., 1., 0., 1.],\n",
       "       [1., 0., 1., 0., 1., 0., 1., 0.],\n",
       "       [0., 1., 0., 1., 0., 1., 0., 1.],\n",
       "       [1., 0., 1., 0., 1., 0., 1., 0.]])"
      ]
     },
     "execution_count": 377,
     "metadata": {},
     "output_type": "execute_result"
    }
   ],
   "source": [
    "a=np.zeros((8,8))\n",
    "a[::2,1::2]=1\n",
    "a[1::2,::2]=1\n",
    "a"
   ]
  },
  {
   "cell_type": "markdown",
   "id": "732eb926-c6a2-4a6b-9b2c-4f942ba079c0",
   "metadata": {},
   "source": [
    "Write a NumPy program to append values to the end of an array. "
   ]
  },
  {
   "cell_type": "code",
   "execution_count": 380,
   "id": "3ead03a7-08f7-491f-bce1-53370f7f46e1",
   "metadata": {},
   "outputs": [
    {
     "name": "stdout",
     "output_type": "stream",
     "text": [
      "[0 1 2 3 4 5 6 7 8 9] \n",
      "\n",
      " [10 11 12 13 14 15 16 17 18 19] \n",
      "\n",
      " [ 0  1  2  3  4  5  6  7  8  9 10 11 12 13 14 15 16 17 18 19]\n"
     ]
    }
   ],
   "source": [
    "n = np.arange(10)\n",
    "m=np.arange(10,20)\n",
    "l=np.append(n,m)\n",
    "print(n,'\\n\\n',m,'\\n\\n',l)"
   ]
  },
  {
   "cell_type": "markdown",
   "id": "fe0fc446-90f1-45e1-9d99-344939a404d9",
   "metadata": {},
   "source": [
    "Write a NumPy program to convert the values of Centigrade degrees into Fahrenheit degrees. Centigrade values are stored into a NumPy array. "
   ]
  },
  {
   "cell_type": "code",
   "execution_count": 383,
   "id": "a4fa03cc-94c0-4190-a608-4452b5862442",
   "metadata": {},
   "outputs": [
    {
     "name": "stdout",
     "output_type": "stream",
     "text": [
      "[37.         37.06122449 37.12244898 37.18367347 37.24489796 37.30612245\n",
      " 37.36734694 37.42857143 37.48979592 37.55102041 37.6122449  37.67346939\n",
      " 37.73469388 37.79591837 37.85714286 37.91836735 37.97959184 38.04081633\n",
      " 38.10204082 38.16326531 38.2244898  38.28571429 38.34693878 38.40816327\n",
      " 38.46938776 38.53061224 38.59183673 38.65306122 38.71428571 38.7755102\n",
      " 38.83673469 38.89795918 38.95918367 39.02040816 39.08163265 39.14285714\n",
      " 39.20408163 39.26530612 39.32653061 39.3877551  39.44897959 39.51020408\n",
      " 39.57142857 39.63265306 39.69387755 39.75510204 39.81632653 39.87755102\n",
      " 39.93877551 40.        ] \n",
      " [ 98.6         98.71020408  98.82040816  98.93061224  99.04081633\n",
      "  99.15102041  99.26122449  99.37142857  99.48163265  99.59183673\n",
      "  99.70204082  99.8122449   99.92244898 100.03265306 100.14285714\n",
      " 100.25306122 100.36326531 100.47346939 100.58367347 100.69387755\n",
      " 100.80408163 100.91428571 101.0244898  101.13469388 101.24489796\n",
      " 101.35510204 101.46530612 101.5755102  101.68571429 101.79591837\n",
      " 101.90612245 102.01632653 102.12653061 102.23673469 102.34693878\n",
      " 102.45714286 102.56734694 102.67755102 102.7877551  102.89795918\n",
      " 103.00816327 103.11836735 103.22857143 103.33877551 103.44897959\n",
      " 103.55918367 103.66938776 103.77959184 103.88979592 104.        ]\n"
     ]
    }
   ],
   "source": [
    "c=np.linspace(37,40,50)\n",
    "F = (9/5)*c+32\n",
    "print(c,'\\n',F)"
   ]
  },
  {
   "cell_type": "markdown",
   "id": "283e64f8-baec-4266-b425-1fae40e4d721",
   "metadata": {},
   "source": [
    "Write a NumPy program to find the number of elements of an array, length of one array element in bytes and total bytes consumed by the elements."
   ]
  },
  {
   "cell_type": "code",
   "execution_count": 386,
   "id": "977ee8ed-11ec-4006-99a4-76c9973de897",
   "metadata": {},
   "outputs": [
    {
     "name": "stdout",
     "output_type": "stream",
     "text": [
      "Size of the array : 50\n",
      "Length of one array element in bytes: 8\n",
      "Total bytes consumed by the elements of the array: 400\n"
     ]
    }
   ],
   "source": [
    "\n",
    "print(f'Size of the array : {c.size}')\n",
    "print(f'Length of one array element in bytes: {c.itemsize}')\n",
    "print(f'Total bytes consumed by the elements of the array: {c.nbytes}')"
   ]
  },
  {
   "cell_type": "markdown",
   "id": "fd882528-29cc-48b5-8e70-a0587c780234",
   "metadata": {},
   "source": [
    "17. Write a NumPy program to test whether each element of a 1-D array is also present in a second array."
   ]
  },
  {
   "cell_type": "code",
   "execution_count": 387,
   "id": "c62c7ed1-a0aa-4b7a-9d1f-663eaa336b4c",
   "metadata": {},
   "outputs": [
    {
     "data": {
      "text/plain": [
       "array([ True,  True])"
      ]
     },
     "execution_count": 387,
     "metadata": {},
     "output_type": "execute_result"
    }
   ],
   "source": [
    "np.isin(np.arange(2),np.arange(3))"
   ]
  },
  {
   "cell_type": "markdown",
   "id": "11e2a03a-943e-4547-ae31-719383be8b0d",
   "metadata": {},
   "source": [
    "Write a NumPy program to find common values between two arrays"
   ]
  },
  {
   "cell_type": "code",
   "execution_count": 390,
   "id": "0173d8d5-a501-4d2b-ad67-1ded13dd22e5",
   "metadata": {},
   "outputs": [
    {
     "data": {
      "text/plain": [
       "array([1, 2])"
      ]
     },
     "execution_count": 390,
     "metadata": {},
     "output_type": "execute_result"
    }
   ],
   "source": [
    "a=[1,2,3,4]\n",
    "b=[1,2]\n",
    "np.intersect1d(a,b)"
   ]
  },
  {
   "cell_type": "markdown",
   "id": "a13b739d-bd07-49b4-897e-f57a01719cf5",
   "metadata": {},
   "source": [
    "Write a NumPy program to get the unique elements of an array."
   ]
  },
  {
   "cell_type": "code",
   "execution_count": 391,
   "id": "0e0cc9a6-a06a-4aa0-980a-513cbb533770",
   "metadata": {},
   "outputs": [
    {
     "data": {
      "text/plain": [
       "array([1, 2, 3])"
      ]
     },
     "execution_count": 391,
     "metadata": {},
     "output_type": "execute_result"
    }
   ],
   "source": [
    "a=[1,2,3,1,3]\n",
    "np.unique(a)"
   ]
  },
  {
   "cell_type": "markdown",
   "id": "649a325f-5189-43e4-b2f1-e39465b48443",
   "metadata": {},
   "source": [
    "Write a NumPy program to find the set difference of two arrays. The set difference will return the sorted, unique values in array1 that are not in array2."
   ]
  },
  {
   "cell_type": "code",
   "execution_count": 393,
   "id": "b868b557-e4ef-4921-8040-73f00001acfe",
   "metadata": {},
   "outputs": [
    {
     "data": {
      "text/plain": [
       "array([ 0, 20, 60, 80])"
      ]
     },
     "execution_count": 393,
     "metadata": {},
     "output_type": "execute_result"
    }
   ],
   "source": [
    "Array1 =[ 0,10, 20, 40, 60, 80]\n",
    "Array2 =[10, 30, 40, 50, 70, 90]\n",
    "np.lib.setdiff1d(Array1,Array2)"
   ]
  },
  {
   "cell_type": "markdown",
   "id": "3d1c3193-2cf7-4df8-b5a4-adc173d660c7",
   "metadata": {},
   "source": [
    "21. Write a NumPy program to find the set exclusive-or of two arrays. Set exclusive-or will return the sorted, unique values that are in only one (not both) of the input arrays. \n",
    "Array1: [ 0 10 20 40 60 80]\n",
    "Array2: [10, 30, 40, 50, 70]\n",
    "Unique values that are in only one (not both) of the input arrays:\n",
    "[ 0 20 30 50 60 70 80]"
   ]
  },
  {
   "cell_type": "code",
   "execution_count": 396,
   "id": "206bc9c3-2f87-4ecd-992f-cd2613808f43",
   "metadata": {},
   "outputs": [
    {
     "data": {
      "text/plain": [
       "array([ 0, 20, 30, 50, 60, 70, 80])"
      ]
     },
     "execution_count": 396,
     "metadata": {},
     "output_type": "execute_result"
    }
   ],
   "source": [
    "Array1=np.array([ 0,10,20,40,60, 80])\n",
    "Array2=np.array([10, 30, 40, 50, 70])\n",
    "np.setxor1d(Array1,Array2)"
   ]
  },
  {
   "cell_type": "markdown",
   "id": "c658e59d-93df-4cc1-a68e-00e4cab23272",
   "metadata": {},
   "source": [
    "22. Write a NumPy program to find the union of two arrays. Union will return the unique, sorted array of values that are in either of the two input arrays. \n",
    "Array1: [ 0 10 20 40 60 80]\n",
    "Array2: [10, 30, 40, 50, 70]\n",
    "Unique sorted array of values that are in either of the two input arrays:\n",
    "[ 0 10 20 30 40 50 60 70 80]"
   ]
  },
  {
   "cell_type": "code",
   "execution_count": 397,
   "id": "344b52d9-4cc9-4b9c-a854-f99318574f2c",
   "metadata": {},
   "outputs": [
    {
     "data": {
      "text/plain": [
       "array([ 0, 10, 20, 30, 40, 50, 60, 70, 80])"
      ]
     },
     "execution_count": 397,
     "metadata": {},
     "output_type": "execute_result"
    }
   ],
   "source": [
    "Array1=np.array([ 0,10,20,40,60, 80])\n",
    "Array2=np.array([10, 30, 40, 50, 70])\n",
    "np.union1d(Array1,Array2)"
   ]
  },
  {
   "cell_type": "markdown",
   "id": "729bd21a-10df-489d-9d3f-17978870839e",
   "metadata": {},
   "source": [
    "\n",
    "23. Write a NumPy program to test whether all elements in an array evaluate to True. \n",
    "Note: 0 evaluates to False in NumPy."
   ]
  },
  {
   "cell_type": "code",
   "execution_count": 400,
   "id": "3c0fb86a-99e8-405c-9946-ce0fad3ae4af",
   "metadata": {},
   "outputs": [
    {
     "data": {
      "text/plain": [
       "True"
      ]
     },
     "execution_count": 400,
     "metadata": {},
     "output_type": "execute_result"
    }
   ],
   "source": [
    "np.all([1,1,1,1,1,1,1,1])"
   ]
  },
  {
   "cell_type": "markdown",
   "id": "a6fa185a-33d2-420e-a1cf-27ce0e727016",
   "metadata": {},
   "source": [
    "24. Write a NumPy program to test whether any array element along a given axis evaluates to True. \n",
    "Note: 0 evaluates to False in NumPy."
   ]
  },
  {
   "cell_type": "code",
   "execution_count": 401,
   "id": "bd042887-55fa-4fdb-be62-222c3ebf136b",
   "metadata": {},
   "outputs": [
    {
     "data": {
      "text/plain": [
       "True"
      ]
     },
     "execution_count": 401,
     "metadata": {},
     "output_type": "execute_result"
    }
   ],
   "source": [
    "np.any([1,1,1,1,1,1,1,1])"
   ]
  },
  {
   "cell_type": "markdown",
   "id": "5fd936f4-65c4-4b6b-b36e-9c1837183abf",
   "metadata": {},
   "source": [
    "25. Write a NumPy program to construct an array by repeating. \n",
    "\n",
    "Sample array: [1, 2, 3, 4]\n",
    "Expected Output:\n",
    "Original array\n",
    "[1, 2, 3, 4]\n",
    "Repeating 2 times\n",
    "[1 2 3 4 1 2 3 4]\n",
    "Repeating 3 times\n",
    "[1 2 3 4 1 2 3 4 1 2 3 4]"
   ]
  },
  {
   "cell_type": "code",
   "execution_count": 407,
   "id": "759c18df-cb7c-4391-9c7c-09ca086a64f4",
   "metadata": {},
   "outputs": [
    {
     "data": {
      "text/plain": [
       "array([1, 2, 3, 4, 1, 2, 3, 4])"
      ]
     },
     "execution_count": 407,
     "metadata": {},
     "output_type": "execute_result"
    }
   ],
   "source": [
    "r=[1, 2, 3, 4]\n",
    "np.tile(r,2)"
   ]
  },
  {
   "cell_type": "markdown",
   "id": "c03307c1-fd14-4407-af30-96b827ffda51",
   "metadata": {},
   "source": [
    "26. Write a NumPy program to repeat elements of an array. \n",
    "Expected Output:\n",
    "[3 3 3 3]\n",
    "[1 1 2 2 3 3 4 4]"
   ]
  },
  {
   "cell_type": "code",
   "execution_count": 408,
   "id": "abf98e3d-a324-41e7-89d9-3087c3594e9f",
   "metadata": {},
   "outputs": [
    {
     "data": {
      "text/plain": [
       "array([1, 1, 2, 2, 3, 3])"
      ]
     },
     "execution_count": 408,
     "metadata": {},
     "output_type": "execute_result"
    }
   ],
   "source": [
    "a=np.array([1,2,3])\n",
    "a.repeat(2)"
   ]
  },
  {
   "cell_type": "markdown",
   "id": "98facaa5-e96a-4a08-99a8-da729e2ff392",
   "metadata": {},
   "source": [
    "27. Write a NumPy program to find the indices of the maximum and minimum values along the given axis of an array. \n",
    "Original array: [1 2 3 4 5 6]\n",
    "Maximum Values: 5\n",
    "Minimum Values: 0"
   ]
  },
  {
   "cell_type": "code",
   "execution_count": 415,
   "id": "06d100b4-35f9-4a33-a626-1335a775682a",
   "metadata": {},
   "outputs": [
    {
     "name": "stdout",
     "output_type": "stream",
     "text": [
      "Maximum Value: 5\n",
      "Minimum Value : 0\n"
     ]
    }
   ],
   "source": [
    "a= [1,2, 3, 4, 5, 6]\n",
    "print('Maximum Value:',a.index(np.max(a),))\n",
    "print('Minimum Value :',a.index(np.min(a)))\n"
   ]
  },
  {
   "cell_type": "markdown",
   "id": "cbf8d368-83c1-4e03-9bf7-3b65a2c73f44",
   "metadata": {},
   "source": [
    "\n",
    "28. Write a NumPy program compare two given arrays. \n",
    "Array a: [1 2]\n",
    "Array b: [4 5]\n",
    "a > b\n",
    "[False False]\n",
    "a >= b\n",
    "[False False]\n",
    "a < b\n",
    "[ True True]\n",
    "a <= b\n",
    "[ True True]"
   ]
  },
  {
   "cell_type": "markdown",
   "id": "532af1f1-1abf-4984-8c30-9decc6ffc961",
   "metadata": {},
   "source": [
    "29. Write a NumPy program to sort an along the first, last axis of an array. \n",
    "Sample array: [[2,5],[4,4]]\n",
    "Expected Output:\n",
    "Original array:\n",
    "[[4 6]\n",
    "[2 1]]\n",
    "Sort along the first axis:\n",
    "[[2 1]\n",
    "[4 6]]\n",
    "Sort along the last axis:\n",
    "[[1 2]\n",
    "[4 6]]"
   ]
  },
  {
   "cell_type": "code",
   "execution_count": 418,
   "id": "b517e36d-5197-4d54-9a95-448efecb3d0d",
   "metadata": {},
   "outputs": [
    {
     "data": {
      "text/plain": [
       "array([[2, 4],\n",
       "       [4, 5]])"
      ]
     },
     "execution_count": 418,
     "metadata": {},
     "output_type": "execute_result"
    }
   ],
   "source": [
    "a=np.array([[2,5],[4,4]])\n",
    "np.sort(a,axis=0)"
   ]
  },
  {
   "cell_type": "markdown",
   "id": "5c16825a-64c9-4f0d-a727-c9398a28b83e",
   "metadata": {},
   "source": [
    "30. Write a NumPy program to sort pairs of first name and last name return their indices. (first by last name, then by first name). \n",
    "first_names = (Betsey, Shelley, Lanell, Genesis, Margery)\n",
    "last_names = (Battle, Brien, Plotner, Stahl, Woolum)\n",
    "Expected Output:\n",
    "[1 3 2 4 0]"
   ]
  },
  {
   "cell_type": "code",
   "execution_count": 428,
   "id": "5d104269-5644-42ee-a829-a5eee85c517f",
   "metadata": {},
   "outputs": [
    {
     "name": "stdout",
     "output_type": "stream",
     "text": [
      "[['Betsey' 'Battle']\n",
      " ['Shelley' 'Brien']\n",
      " ['Lanell' 'Plotner']\n",
      " ['Genesis' 'Stahl']\n",
      " ['Margery' 'Woolum']]\n"
     ]
    }
   ],
   "source": [
    "first_names = ['Betsey', 'Shelley', 'Lanell', 'Genesis', 'Margery']\n",
    "last_names = ['Battle', 'Brien', 'Plotner', 'Stahl', 'Woolum']\n",
    "c=[[a,b] for a,b in zip(first_names,last_names)]\n",
    "b =np.array(c)\n",
    "print(b)"
   ]
  },
  {
   "cell_type": "markdown",
   "id": "3e752238-ff09-4c2f-bfea-c61708b6f51c",
   "metadata": {},
   "source": [
    "\n",
    "31. Write a NumPy program to get the values and indices of the elements that are bigger than 10 in a given array. \n",
    "Original array:\n",
    "[[ 0 10 20]\n",
    "[20 30 40]]\n",
    "Values bigger than 10 = [20 20 30 40]\n",
    "Their indices are (array([0, 1, 1, 1]), array([2, 0, 1, 2]))"
   ]
  },
  {
   "cell_type": "code",
   "execution_count": 436,
   "id": "952823d8-61be-4fff-accc-84bb70942840",
   "metadata": {},
   "outputs": [
    {
     "data": {
      "text/plain": [
       "array([[0, 2],\n",
       "       [1, 0],\n",
       "       [1, 1],\n",
       "       [1, 2]], dtype=int64)"
      ]
     },
     "execution_count": 436,
     "metadata": {},
     "output_type": "execute_result"
    }
   ],
   "source": [
    "d=np.array(([[0,10,20],[20,30,40]]))\n",
    "np.argwhere(d>10)"
   ]
  },
  {
   "cell_type": "code",
   "execution_count": null,
   "id": "c8deecad-11be-471a-ad6c-4b78493789cd",
   "metadata": {},
   "outputs": [],
   "source": [
    "\n",
    "\n",
    "\n",
    "32. Write a NumPy program to save a NumPy array to a text file. \n",
    "\n",
    "\n",
    "33. Write a NumPy program to find the memory size of a NumPy array. \n",
    "Expected Output:\n",
    "128 bytes\n",
    "\n",
    "\n",
    "34. Write a NumPy program to create an array of ones and an array of zeros. \n",
    "Expected Output:\n",
    "Create an array of zeros\n",
    "Default type is float\n",
    "[[ 0. 0.]]\n",
    "Type changes to int\n",
    "[[0 0]]\n",
    "Create an array of ones\n",
    "Default type is float\n",
    "[[ 1. 1.]]\n",
    "Type changes to int\n",
    "[[1 1]]\n",
    "\n",
    "\n",
    "35. Write a NumPy program to change the dimension of an array. \n",
    "Expected Output:\n",
    "6 rows and 0 columns\n",
    "(6,)\n",
    "(3, 3) -> 3 rows and 3 columns\n",
    "[[1 2 3]\n",
    "[4 5 6]\n",
    "[7 8 9]]\n",
    "Change array shape to (3, 3) -> 3 rows and 3 columns\n",
    "[[1 2 3]\n",
    "[4 5 6]\n",
    "[7 8 9]]\n",
    "\n",
    "\n",
    "36. Write a NumPy program to create a contiguous flattened array. \n",
    "Original array:\n",
    "[[10 20 30]\n",
    "[20 40 50]]\n",
    "New flattened array:\n",
    "[10 20 30 20 40 50]\n",
    "\n",
    "\n",
    "37. Write a NumPy program to create a 2-dimensional array of size 2 x 3 (composed of 4-byte integer elements), also print the shape, type and data type of the array. \n",
    "Expected Output:\n",
    "\n",
    "(2, 3)\n",
    "int32\n",
    "\n",
    "\n",
    "38. Write a NumPy program to create a new shape to an array without changing its data. \n",
    "Reshape 3x2:\n",
    "[[1 2]\n",
    "[3 4]\n",
    "[5 6]]\n",
    "Reshape 2x3:\n",
    "[[1 2 3]\n",
    "[4 5 6]]\n",
    "\n",
    "\n",
    "39. Write a NumPy program to change the data type of an array. \n",
    "Expected Output:\n",
    "[[ 2 4 6]\n",
    "[ 6 8 10]]\n",
    "Data type of the array x is: int32\n",
    "New Type: float64\n",
    "[[ 2. 4. 6.]\n",
    "[ 6. 8. 10.]]\n",
    "\n",
    "\n",
    "40. Write a NumPy program to create a new array of 3*5, filled with 2. \n",
    "Expected Output:\n",
    "[[2 2 2 2 2]\n",
    "[2 2 2 2 2]\n",
    "[2 2 2 2 2]]\n",
    "[[2 2 2 2 2]\n",
    "[2 2 2 2 2]\n",
    "[2 2 2 2 2]]\n",
    "\n",
    "\n",
    "41. Write a NumPy program to create an array of 10's with the same shape and type of a given array. \n",
    "Sample array: x = np.arange(4, dtype=np.int64)\n",
    "Expected Output:\n",
    "[10 10 10 10]\n",
    "\n",
    "\n",
    "42. Write a NumPy program to create a 3-D array with ones on a diagonal and zeros elsewhere. \n",
    "Expected Output:\n",
    "[[ 1. 0. 0.]\n",
    "[ 0. 1. 0.]\n",
    "[ 0. 0. 1.]]\n",
    "\n",
    "\n",
    "43. Write a NumPy program to create a 2-D array whose diagonal equals [4, 5, 6, 8] and 0's elsewhere. \n",
    "Expected Output:\n",
    "[[4 0 0 0]\n",
    "[0 5 0 0]\n",
    "[0 0 6 0]\n",
    "[0 0 0 8]]\n",
    "\n",
    "\n",
    "44. Write a NumPy program to create a 1-D array going from 0 to 50 and an array from 10 to 50. \n",
    "Expected Output:\n",
    "Array from 0 to 50:\n",
    "[ 0 1 2 3 4 5 6 7 8 9 10 11 12 13 14 15 16 17 18 19 20 21 22 23 24\n",
    "25 26 27 28 29 30 31 32 33 34 35 36 37 38 39 40 41 42 43 44 45 46 47 48 49]\n",
    "Array from 10 to 50:\n",
    "[10 11 12 13 14 15 16 17 18 19 20 21 22 23 24 25 26 27 28 29 30 31 32 33 34\n",
    "35 36 37 38 39 40 41 42 43 44 45 46 47 48 49]\n",
    "\n",
    "\n",
    "45. Write a NumPy program to Create a 1-D array of 30 evenly spaced elements between 2.5. and 6.5, inclusive. \n",
    "Expected Output:\n",
    "[ 2.5 2.63793103 2.77586207 2.9137931 3.05172414 3.18965517\n",
    ".................\n",
    "5.81034483 5.94827586 6.0862069 6.22413793 6.36206897 6.5 ]\n",
    "\n",
    "\n",
    "46. Write a NumPy program to create a 1-D array of 20 element spaced evenly on a log scale between 2. and 5., exclusive. \n",
    "Expected Output:\n",
    "[ 100. 141.25375446 199.5262315 281.83829313\n",
    "......................\n",
    "25118.8643151 35481.33892336 50118.72336273 70794.57843841]\n",
    "\n",
    "\n",
    "47. Write a NumPy program to create an array which looks like below array. \n",
    "Expected Output:\n",
    "[[ 0. 0. 0.]\n",
    "...........\n",
    "[ 1. 1. 1.]]\n",
    "\n",
    "\n",
    "48. Write a NumPy program to create an array which looks like below array. \n",
    "Expected Output:\n",
    "[[ 2 3 4]\n",
    "[ 5 6 7]\n",
    "[ 0 9 10]\n",
    "[ 0 0 13]]\n",
    "\n",
    "\n",
    "49. Write a NumPy program to collapse a 3-D array into one dimension array. \n",
    "Expected Output:\n",
    "3-D array:\n",
    "[[ 1. 0. 0.]\n",
    "[ 0. 1. 0.]\n",
    "[ 0. 0. 1.]]\n",
    "One dimension array:\n",
    "[ 1. 0. 0. 0. 1. 0. 0. 0. 1.]\n",
    "\n",
    "\n",
    "50. Write a NumPy program to find the 4th element of a specified array. \n",
    "Expected Output:\n",
    "[[ 2 4 6]\n",
    "[ 6 8 10]]\n",
    "Forth e1ement of the array:\n",
    "6\n",
    "\n",
    "\n",
    "51. Write a NumPy program to interchange two axes of an array. \n",
    "Sample array: [[1 2 3]]\n",
    "Expected Output:\n",
    "[[1]\n",
    "[2]\n",
    "[3]]\n",
    "\n",
    "\n",
    "52. Write a NumPy program to move axes of an array to new positions. Other axes remain in their original order. \n",
    "Expected Output:\n",
    "(3, 4, 2)\n",
    "(4, 2, 3)\n",
    "\n",
    "\n",
    "53. Write a NumPy program to move the specified axis backwards, until it lies in a given position. \n",
    "Move the following 3rd array axes to first position.\n",
    "(2,3,4,5)\n",
    "Sample Expected Output:\n",
    "(2, 5, 3, 4)\n",
    "\n",
    "\n",
    "54. Write a NumPy program to convert specified inputs to arrays with at least one dimension. \n",
    "Expected Output:\n",
    "[ 12.]\n",
    "[[ 0. 1. 2.]\n",
    "[ 3. 4. 5.]]\n",
    "[array([1]), array([3, 4])]\n",
    "\n",
    "\n",
    "55. Write a NumPy program to view inputs as arrays with at least two dimensions, three dimensions. \n",
    "Expected Output:\n",
    "View inputs as arrays with at least two dimensions:\n",
    "[10]\n",
    "[[ 0. 1.]\n",
    "[ 2. 3.]]\n",
    "View inputs as arrays with at least three dimensions:\n",
    "[[[15]]]\n",
    "[[[ 0.]\n",
    "[ 1.]\n",
    "[ 2.]]]\n",
    "\n",
    "\n",
    "56. Write a NumPy program to insert a new axis within a 2-D array. \n",
    "2-D array of shape (3, 4).\n",
    "Expected Output:\n",
    "New shape will be will be (3, 1, 4).\n",
    "\n",
    "\n",
    "57. Write a NumPy program to remove single-dimensional entries from a specified shape. \n",
    "Specified shape: (3, 1, 4)\n",
    "Expected Output: (3, 4)\n",
    "\n",
    "\n",
    "58. Write a NumPy program to concatenate two 2-dimensional arrays. \n",
    "Expected Output:\n",
    "Sample arrays: ([[0, 1, 3], [5, 7, 9]], [[0, 2, 4], [6, 8, 10]]\n",
    "Expected Output:\n",
    "[[ 0 1 3 0 2 4]\n",
    "[ 5 7 9 6 8 10]]\n",
    "\n",
    "\n",
    "59. Write a NumPy program to convert 1-D arrays as columns into a 2-D array. \n",
    "Sample array: (10,20,30), (40,50,60)\n",
    "Expected Output:\n",
    "[[10 40]\n",
    "[20 50]\n",
    "[30 60]]\n",
    "\n",
    "\n",
    "60. Write a NumPy program to convert (in sequence depth wise (along third axis)) two 1-D arrays into a 2-D array. \n",
    "Sample array: (10,20,30), (40,50,60)\n",
    "Expected Output:\n",
    "[[[10 40]]\n",
    "[[20 50]]\n",
    "[[30 60]]]\n",
    "\n",
    "\n",
    "61. Write a NumPy program to split an array of 14 elements into 3 arrays, each of which has 2, 4, and 8 elements in the original order. \n",
    "Expected Output:\n",
    "Original array: [ 1 2 3 4 5 6 7 8 9 10 11 12 13 14]\n",
    "After splitting:\n",
    "[array([1, 2]), array([3, 4, 5, 6]), array([ 7, 8, 9, 10, 11, 12, 13, 14])]\n",
    "\n",
    "\n",
    "62. Write a NumPy program to split of an array of shape 4x4 it into two arrays along the second axis. \n",
    "Sample array :\n",
    "[[ 0 1 2 3]\n",
    "........\n",
    "[12 13 14 15]]\n",
    "Expected Output:\n",
    "[array([[ 0, 1],\n",
    "[ 4, 5],\n",
    "[ 8, 9],\n",
    "[12, 13]]), array([[ 2, 3],\n",
    "[ 6, 7],\n",
    "[10, 11],\n",
    "[14, 15]]), array([], shape=(4, 0), dtype=int64)]\n",
    "\n",
    "\n",
    "63. Write a NumPy program to get the number of nonzero elements in an array. \n",
    "Expected Output:\n",
    "Original array:\n",
    "[[ 0 10 20]\n",
    "[20 30 40]]\n",
    "Number of non zero elements in the above array:\n",
    "5\n",
    "\n",
    "\n",
    "64. Write a NumPy program to create a 5x5 matrix with row values ranging from 0 to 4. \n",
    "Original array:\n",
    "[[ 0. 0. 0. 0. 0.]\n",
    ".........\n",
    "[ 0. 0. 0. 0. 0.]]\n",
    "Row values ranging from 0 to 4.\n",
    "[[ 0. 1. 2. 3. 4.]\n",
    "..........\n",
    "[ 0. 1. 2. 3. 4.]]\n",
    "\n",
    "\n",
    "65. Write a NumPy program to test whether specified values are present in an array. \n",
    "Expected Output:\n",
    "Original array:\n",
    "[[ 1.12 2. 3.45]\n",
    "[ 2.33 5.12 6. ]]\n",
    "True\n",
    "False\n",
    "True\n",
    "False\n",
    "True\n",
    "\n",
    "\n",
    "\n",
    "66. Write a NumPy program to create a vector of size 10 with values ranging from 0 to 1, both excluded. \n",
    "Expected Output:\n",
    "[ 0.09090909 0.18181818 0.27272727 0.36363636 0.45454545 0.54545455\n",
    "0.63636364 0.72727273 0.81818182 0.90909091]\n",
    "\n",
    "\n",
    "67. Write a NumPy program to make an array immutable (read-only). \n",
    "Expected Output:\n",
    "Test the array is read-only or not:\n",
    "Try to change the value of the first element:\n",
    "Traceback (most recent call last):\n",
    "File \"19236bd0-0bd9-11e7-a232-c706d0968eb6.py\", line 6, in\n",
    "x[0] = 1\n",
    "ValueError: assignment destination is read-only\n",
    "\n",
    "\n",
    "68. Write a NumPy program (using NumPy) to sum of all the multiples of 3 or 5 below 100. \n",
    "Expected Output:\n",
    "[ 3 5 6 9 10 12 15 18 20 21 24 25 27 30 33 35 36 39 40 42 45 48 50 51 54\n",
    "55 57 60 63 65 66 69 70 72 75 78 80 81 84 85 87 90 93 95 96 99]\n",
    "2318\n",
    "\n",
    "\n",
    "69. Write a NumPy program to create an array with 10^3 elements. \n",
    "Expected Output:\n",
    "[ 0. 1. 2. 3. 4. 5. 6. 7. 8. 9. 10. 11.\n",
    "12. 13. 14. 15. 16. 17. 18. 19. 20. 21. 22. 23.\n",
    "24. 25. 26. 27. 28. 29. 30. 31. 32. 33. 34. 35.\n",
    "- - - - - - - - - - - - - - - - -\n",
    "972. 973. 974. 975. 976. 977. 978. 979. 980. 981. 982. 983.\n",
    "984. 985. 986. 987. 988. 989. 990. 991. 992. 993. 994. 995.\n",
    "996. 997. 998. 999.]\n",
    "\n",
    "\n",
    "70. Write a NumPy program to create display every element of a NumPy array. \n",
    "Expected Output:\n",
    "0 1 2 3 4 5 6 7 8 9 10 11\n",
    "\n",
    "\n",
    "71. Write a NumPy program to create and display every element of a NumPy array in Fortran order. \n",
    "Expected Output:\n",
    "Elements of the array in Fortan array:\n",
    "0 4 8 1 5 9 2 6 10 3 7 11\n",
    "\n",
    "\n",
    "72. Write a NumPy program to create a 5x5x5 cube of 1's. \n",
    "Expected Output:\n",
    "[[[1 1 1 1 1]\n",
    "[1 1 1 1 1]\n",
    "[1 1 1 1 1]\n",
    "[1 1 1 1 1]\n",
    "[1 1 1 1 1]]\n",
    "............\n",
    "[[1 1 1 1 1]\n",
    "[1 1 1 1 1]\n",
    "[1 1 1 1 1]\n",
    "[1 1 1 1 1]\n",
    "[1 1 1 1 1]]]\n",
    "\n",
    "\n",
    "73. Write a NumPy program to create an array of (3, 4) shape, multiply every element value by 3 and display the new array. \n",
    "Expected Output:\n",
    "Original array elements:\n",
    "[[ 0 1 2 3]\n",
    "[ 4 5 6 7]\n",
    "[ 8 9 10 11]]\n",
    "New array elements:\n",
    "[[ 0 3 6 9]\n",
    "[12 15 18 21]\n",
    "[24 27 30 33]]\n",
    "\n",
    "\n",
    "74. Write a NumPy program to combine a one and a two dimensional array together and display their elements. \n",
    "Expected Output:\n",
    "One dimensional array:\n",
    "[0 1 2 3]\n",
    "Two dimensional array:\n",
    "[[0 1 2 3]\n",
    "[4 5 6 7]]\n",
    "0:0\n",
    "1:1\n",
    "2:2\n",
    "3:3\n",
    "0:4\n",
    "1:5\n",
    "2:6\n",
    "3:7\n",
    "\n",
    "\n",
    "75. Write a NumPy program to create an array of zeros and three column types (integer, float, character). \n",
    "Expected Output:\n",
    "[(1, 2., b'Albert Einstein') (2, 2., b'Edmond Halley')\n",
    "(3, 3., b'Gertrude B. Elion')]\n",
    "\n",
    "\n",
    "76. Write a NumPy program to create a function cube which cubes all the elements of an array. \n",
    "Expected Output:\n",
    "[ 1 8 27]\n",
    "\n",
    "\n",
    "77. Write a NumPy program to create an array of (3, 4) shape and convert the array elements in smaller chunks. \n",
    "Expected Output:\n",
    "Original array elements:\n",
    "[[ 0 1 2 3]\n",
    "[ 4 5 6 7]\n",
    "[ 8 9 10 11]]\n",
    "[0 4 8]\n",
    "[1 5 9]\n",
    "[ 2 6 10]\n",
    "[ 3 7 11]\n",
    "\n",
    "\n",
    "78. Write a NumPy program to create a record array from a (flat) list of arrays. \n",
    "Sample arrays: [1,2,3,4], ['Red', 'Green', 'White', 'Orange'], [12.20,15,20,40]\n",
    "Expected Output:\n",
    "(1, 'Red', 12.2)\n",
    "(2, 'Green', 15.0)\n",
    "(3, 'White', 20.0)\n",
    "\n",
    "\n",
    "79. Write a NumPy program to generate a generic 2D Gaussian-like array. \n",
    "Expected Output:\n",
    "2D Gaussian-like array:\n",
    "[[ 0.36787944 0.44822088 0.51979489 0.57375342 0.60279818 0.60279818\n",
    "0.57375342 0.51979489 0.44822088 0.36787944]\n",
    "..........\n",
    "[ 0.36787944 0.44822088 0.51979489 0.57375342 0.60279818 0.60279818\n",
    "0.57375342 0.51979489 0.44822088 0.36787944]]\n",
    "\n",
    "\n",
    "80. Write a NumPy program to convert a NumPy array into Python list structure. \n",
    "Expected Output:\n",
    "Original array elements:\n",
    "[[0 1]\n",
    "[2 3]\n",
    "[4 5]]\n",
    "Array to list:\n",
    "[[0, 1], [2, 3], [4, 5]]\n",
    "\n",
    "\n",
    "81. Write a NumPy program to access an array by column. \n",
    "Expected Output:\n",
    "Original array elements:\n",
    "[[0 1]\n",
    "[2 3]\n",
    "[4 5]]\n",
    "Access an array by column:\n",
    "First column:\n",
    "[0 1]\n",
    "Second column:\n",
    "[2 3]\n",
    "Third column:\n",
    "[4 5]\n",
    "\n",
    "\n",
    "82. Write a NumPy program to convert a NumPy array of float values to a NumPy array of integer values. \n",
    "Expected Output:\n",
    "Original array elements:\n",
    "[[ 12. 12.51]\n",
    "[ 2.34 7.98]\n",
    "[ 25.23 36.5 ]]\n",
    "Convert float values to intger values:\n",
    "[[12 12]\n",
    "[ 2 7]\n",
    "[25 36]]\n",
    "\n",
    "\n",
    "83. Write a NumPy program to display NumPy array elements of floating values with given precision. \n",
    "Expected Output:\n",
    "Original array elements:\n",
    "[ 0.26153123 0.52760141 0.5718299 0.5927067 0.7831874 0.69746349\n",
    "0.35399976 0.99469633 0.0694458 0.54711478]\n",
    "Print array values with precision 3:\n",
    "[ 0.262 0.528 0.572 0.593 0.783 0.697 0.354 0.995 0.069 0.547]\n",
    "\n",
    "\n",
    "84. Write a NumPy program to suppresses the use of scientific notation for small numbers in NumPy array. \n",
    "Expected Output:\n",
    "Original array elements:\n",
    "[ 1.60000000e-10 1.60000000e+00 1.20000000e+03 2.35000000e-01]\n",
    "Print array values with precision 3:\n",
    "[ 0. 1.6 1200. 0.235]\n",
    "\n",
    "\n",
    "85. Write a NumPy program to create a NumPy array of 10 integers from a generator. \n",
    "\n",
    "Expected Output:\n",
    "[0 1 2 3 4 5 6 7 8 9]\n",
    "\n",
    "\n",
    "86. Write a NumPy program to add an extra column to a NumPy array. \n",
    "\n",
    "Expected Output:\n",
    "[[ 10 20 30 100]\n",
    "[ 40 50 60 200]]\n",
    "\n",
    "\n",
    "87. Write a NumPy program to find unique rows in a NumPy array. \n",
    "\n",
    "Expected Output:\n",
    "Original array:\n",
    "[[20 20 20 0]\n",
    ".......\n",
    "[10 20 20 20]]\n",
    "Unique rows of the above array:\n",
    "[[ 0 20 20 20]\n",
    "[10 20 20 20]\n",
    "[20 20 20 0]]\n",
    "\n",
    "\n",
    "88. Write a NumPy program to replace all elements of NumPy array that are greater than specified array. \n",
    "\n",
    "Expected Output:\n",
    "Original array:\n",
    "[[ 0.42436315 0.48558583 0.32924763]\n",
    "[ 0.7439979 0.58220701 0.38213418]\n",
    "[ 0.5097581 0.34528799 0.1563123 ]]\n",
    "Replace all elements of the said array with .5 which are greater than. 5\n",
    "[[ 0.42436315 0.48558583 0.32924763]\n",
    "[ 0.5 0.5 0.38213418]\n",
    "[ 0.5 0.34528799 0.1563123 ]]\n",
    "\n",
    "\n",
    "89. Write a NumPy program to remove specific elements in a NumPy array. \n",
    "\n",
    "Expected Output:\n",
    "Original array:\n",
    "[ 10 20 30 40 50 60 70 80 90 100]\n",
    "Delete first, fourth and fifth elements:\n",
    "[ 20 30 60 70 80 90 100]\n",
    "\n",
    "\n",
    "90. Write a NumPy program to replace the negative values in a NumPy array with 0. \n",
    "\n",
    "Expected Output:\n",
    "Original array:\n",
    "[-1 -4 0 2 3 4 5 -6]\n",
    "Replace the negative values of the said array with 0:\n",
    "[0 0 0 2 3 4 5 0]\n",
    "\n",
    "\n",
    "91. Write a NumPy program to remove all rows in a NumPy array that contain non-numeric values. \n",
    "Expected Output:\n",
    "Original array:\n",
    "[[ 1. 2. 3.]\n",
    "[ 4. 5. nan]\n",
    "[ 7. 8. 9.]\n",
    "[ 1. 0. 1.]]\n",
    "Remove all non-numeric elements of the said array\n",
    "[[ 1. 2. 3.]\n",
    "[ 7. 8. 9.]\n",
    "[ 1. 0. 1.]]\n",
    "\n",
    "\n",
    "92. Write a NumPy program to select indices satisfying multiple conditions in a NumPy array. \n",
    "Sample array :\n",
    "a = np.array([97, 101, 105, 111, 117])\n",
    "b = np.array(['a','e','i','o','u'])\n",
    "Note: Select the elements from the second array corresponding to elements in the first array that are greater than 100 and less than 110\n",
    "Expected Output:\n",
    "Original arrays\n",
    "[ 97 101 105 111 117]\n",
    "['a' 'e' 'i' 'o' 'u']\n",
    "Elements from the second array corresponding to elements in the first\n",
    "array that are greater than 100 and less than 110:\n",
    "['e' 'i']\n",
    "\n",
    "\n",
    "93. Write a NumPy program to get the magnitude of a vector in NumPy. \n",
    "Expected Output:\n",
    "Original array:\n",
    "[1 2 3 4 5]\n",
    "Magnitude of the vector:\n",
    "7.4161984871\n",
    "\n",
    "\n",
    "94. Write a NumPy program to count the frequency of unique values in NumPy array. \n",
    "Expected Output:\n",
    "Original array:\n",
    "[10 10 20 10 20 20 20 30 30 50 40 40]\n",
    "Frequency of unique values of the said array:\n",
    "[[10 20 30 40 50]\n",
    "[ 3 4 2 2 1]]\n",
    "\n",
    "\n",
    "95. Write a NumPy program to check whether the NumPy array is empty or not. \n",
    "Expected Output:\n",
    "2\n",
    "0\n",
    "\n",
    "\n",
    "96. Write a NumPy program to divide each row by a vector element. \n",
    "Expected Output:\n",
    "Original array:\n",
    "[[20 20 20]\n",
    "[30 30 30]\n",
    "[40 40 40]]\n",
    "Vector:\n",
    "[20 30 40]\n",
    "[[ 1. 1. 1.]\n",
    "[ 1. 1. 1.]\n",
    "[ 1. 1. 1.]]\n",
    "\n",
    "\n",
    "97. Write a NumPy program to print all the values of an array. \n",
    "Expected Output:\n",
    "[[ 0. 0. 0. 0.]\n",
    "[ 0. 0. 0. 0.]\n",
    "[ 0. 0. 0. 0.]\n",
    "[ 0. 0. 0. 0.]]\n",
    "\n",
    "\n",
    "98. Write a NumPy program to convert the raw data in an array to a binary string and then create an array. \n",
    "Expected Output:\n",
    "Original array:\n",
    "[ 10. 20. 30.]\n",
    "Binary string array:\n",
    "b'\\x00\\x00\\x00\\x00\\x00\\x00$@\\x00\\x00\\x00\\x00\\x00\\x004@\\x00\\x00\\x00\\x00\\x00\\x00>@'\n",
    "Array using fromstring():\n",
    "[ 10. 20. 30.]\n",
    "\n",
    "\n",
    "99. Write a NumPy program to sum and compute the product of a NumPy array elements. \n",
    "Expected Output:\n",
    "Original array:\n",
    "[ 10. 20. 30.]\n",
    "Sum of the array elements:\n",
    "60.0\n",
    "Product of the array elements:\n",
    "6000.0\n",
    "\n",
    "\n",
    "100. Write a NumPy program to take values from a source array and put them at specified indices of another array. \n",
    "Expected Output:\n",
    "[ 10. 10. 20. 30. 30.]\n",
    "Put 0 and 40 in first and fifth position of the above array\n",
    "Array x after put two values: [ 0. 10. 20. 30. 40.]\n"
   ]
  }
 ],
 "metadata": {
  "kernelspec": {
   "display_name": "Python 3 (ipykernel)",
   "language": "python",
   "name": "python3"
  },
  "language_info": {
   "codemirror_mode": {
    "name": "ipython",
    "version": 3
   },
   "file_extension": ".py",
   "mimetype": "text/x-python",
   "name": "python",
   "nbconvert_exporter": "python",
   "pygments_lexer": "ipython3",
   "version": "3.9.7"
  }
 },
 "nbformat": 4,
 "nbformat_minor": 5
}
