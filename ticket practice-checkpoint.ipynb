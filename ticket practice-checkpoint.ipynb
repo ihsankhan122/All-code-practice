{
 "cells": [
  {
   "cell_type": "code",
   "execution_count": null,
   "id": "44873ab7",
   "metadata": {},
   "outputs": [],
   "source": [
    "from sklearn.model_selection import train_test_split\n",
    "import pandas as pd\n",
    "import numpy as np\n"
   ]
  },
  {
   "cell_type": "code",
   "execution_count": 5,
   "id": "52e84988",
   "metadata": {},
   "outputs": [],
   "source": [
    "# step 1  : Getting the Data ready \n",
    "# step 2  : choosing ML model\n",
    "# step 3  : fit model\n",
    "# step 4  : Evaluate Model \n",
    "# step 5  : Improve Model\n",
    "# step 6  : Saving the model\n",
    "# step 7  : Load the model"
   ]
  },
  {
   "cell_type": "code",
   "execution_count": 6,
   "id": "4c95922f",
   "metadata": {},
   "outputs": [
    {
     "name": "stderr",
     "output_type": "stream",
     "text": [
      "UsageError: unrecognized arguments: # show me here\n"
     ]
    }
   ],
   "source": [
    "# standard imports\n",
    "import pandas as pd\n",
    "import numpy as np\n",
    "import matplotlib.pyplot as plt\n",
    "%matplotlib inline  # show me here "
   ]
  },
  {
   "cell_type": "code",
   "execution_count": null,
   "id": "56cab411",
   "metadata": {},
   "outputs": [],
   "source": [
    "df=pd.read_csv(\"tickets_data.csv\")"
   ]
  },
  {
   "cell_type": "code",
   "execution_count": 7,
   "id": "1c2d5d46",
   "metadata": {},
   "outputs": [
    {
     "data": {
      "text/html": [
       "<div>\n",
       "<style scoped>\n",
       "    .dataframe tbody tr th:only-of-type {\n",
       "        vertical-align: middle;\n",
       "    }\n",
       "\n",
       "    .dataframe tbody tr th {\n",
       "        vertical-align: top;\n",
       "    }\n",
       "\n",
       "    .dataframe thead th {\n",
       "        text-align: right;\n",
       "    }\n",
       "</style>\n",
       "<table border=\"1\" class=\"dataframe\">\n",
       "  <thead>\n",
       "    <tr style=\"text-align: right;\">\n",
       "      <th></th>\n",
       "      <th>Airline</th>\n",
       "      <th>Date_of_Journey</th>\n",
       "      <th>Source</th>\n",
       "      <th>Destination</th>\n",
       "      <th>Route</th>\n",
       "      <th>Dep_Time</th>\n",
       "      <th>Arrival_Time</th>\n",
       "      <th>Duration</th>\n",
       "      <th>Total_Stops</th>\n",
       "      <th>Additional_Info</th>\n",
       "      <th>Price</th>\n",
       "    </tr>\n",
       "  </thead>\n",
       "  <tbody>\n",
       "    <tr>\n",
       "      <th>0</th>\n",
       "      <td>IndiGo</td>\n",
       "      <td>24/03/2019</td>\n",
       "      <td>Banglore</td>\n",
       "      <td>New Delhi</td>\n",
       "      <td>BLR ? DEL</td>\n",
       "      <td>22:20</td>\n",
       "      <td>01:10 22 Mar</td>\n",
       "      <td>2h 50m</td>\n",
       "      <td>non-stop</td>\n",
       "      <td>No info</td>\n",
       "      <td>3897</td>\n",
       "    </tr>\n",
       "    <tr>\n",
       "      <th>1</th>\n",
       "      <td>Air India</td>\n",
       "      <td>1/05/2019</td>\n",
       "      <td>Kolkata</td>\n",
       "      <td>Banglore</td>\n",
       "      <td>CCU ? IXR ? BBI ? BLR</td>\n",
       "      <td>05:50</td>\n",
       "      <td>13:15</td>\n",
       "      <td>7h 25m</td>\n",
       "      <td>2 stops</td>\n",
       "      <td>No info</td>\n",
       "      <td>7662</td>\n",
       "    </tr>\n",
       "    <tr>\n",
       "      <th>2</th>\n",
       "      <td>Jet Airways</td>\n",
       "      <td>9/06/2019</td>\n",
       "      <td>Delhi</td>\n",
       "      <td>Cochin</td>\n",
       "      <td>DEL ? LKO ? BOM ? COK</td>\n",
       "      <td>09:25</td>\n",
       "      <td>04:25 10 Jun</td>\n",
       "      <td>19h</td>\n",
       "      <td>2 stops</td>\n",
       "      <td>No info</td>\n",
       "      <td>13882</td>\n",
       "    </tr>\n",
       "    <tr>\n",
       "      <th>3</th>\n",
       "      <td>IndiGo</td>\n",
       "      <td>12/05/2019</td>\n",
       "      <td>Kolkata</td>\n",
       "      <td>Banglore</td>\n",
       "      <td>CCU ? NAG ? BLR</td>\n",
       "      <td>18:05</td>\n",
       "      <td>23:30</td>\n",
       "      <td>5h 25m</td>\n",
       "      <td>1 stop</td>\n",
       "      <td>No info</td>\n",
       "      <td>6218</td>\n",
       "    </tr>\n",
       "    <tr>\n",
       "      <th>4</th>\n",
       "      <td>IndiGo</td>\n",
       "      <td>01/03/2019</td>\n",
       "      <td>Banglore</td>\n",
       "      <td>New Delhi</td>\n",
       "      <td>BLR ? NAG ? DEL</td>\n",
       "      <td>16:50</td>\n",
       "      <td>21:35</td>\n",
       "      <td>4h 45m</td>\n",
       "      <td>1 stop</td>\n",
       "      <td>No info</td>\n",
       "      <td>13302</td>\n",
       "    </tr>\n",
       "    <tr>\n",
       "      <th>...</th>\n",
       "      <td>...</td>\n",
       "      <td>...</td>\n",
       "      <td>...</td>\n",
       "      <td>...</td>\n",
       "      <td>...</td>\n",
       "      <td>...</td>\n",
       "      <td>...</td>\n",
       "      <td>...</td>\n",
       "      <td>...</td>\n",
       "      <td>...</td>\n",
       "      <td>...</td>\n",
       "    </tr>\n",
       "    <tr>\n",
       "      <th>10678</th>\n",
       "      <td>Air Asia</td>\n",
       "      <td>9/04/2019</td>\n",
       "      <td>Kolkata</td>\n",
       "      <td>Banglore</td>\n",
       "      <td>CCU ? BLR</td>\n",
       "      <td>19:55</td>\n",
       "      <td>22:25</td>\n",
       "      <td>2h 30m</td>\n",
       "      <td>non-stop</td>\n",
       "      <td>No info</td>\n",
       "      <td>4107</td>\n",
       "    </tr>\n",
       "    <tr>\n",
       "      <th>10679</th>\n",
       "      <td>Air India</td>\n",
       "      <td>27/04/2019</td>\n",
       "      <td>Kolkata</td>\n",
       "      <td>Banglore</td>\n",
       "      <td>CCU ? BLR</td>\n",
       "      <td>20:45</td>\n",
       "      <td>23:20</td>\n",
       "      <td>2h 35m</td>\n",
       "      <td>non-stop</td>\n",
       "      <td>No info</td>\n",
       "      <td>4145</td>\n",
       "    </tr>\n",
       "    <tr>\n",
       "      <th>10680</th>\n",
       "      <td>Jet Airways</td>\n",
       "      <td>27/04/2019</td>\n",
       "      <td>Banglore</td>\n",
       "      <td>Delhi</td>\n",
       "      <td>BLR ? DEL</td>\n",
       "      <td>08:20</td>\n",
       "      <td>11:20</td>\n",
       "      <td>3h</td>\n",
       "      <td>non-stop</td>\n",
       "      <td>No info</td>\n",
       "      <td>7229</td>\n",
       "    </tr>\n",
       "    <tr>\n",
       "      <th>10681</th>\n",
       "      <td>Vistara</td>\n",
       "      <td>01/03/2019</td>\n",
       "      <td>Banglore</td>\n",
       "      <td>New Delhi</td>\n",
       "      <td>BLR ? DEL</td>\n",
       "      <td>11:30</td>\n",
       "      <td>14:10</td>\n",
       "      <td>2h 40m</td>\n",
       "      <td>non-stop</td>\n",
       "      <td>No info</td>\n",
       "      <td>12648</td>\n",
       "    </tr>\n",
       "    <tr>\n",
       "      <th>10682</th>\n",
       "      <td>Air India</td>\n",
       "      <td>9/05/2019</td>\n",
       "      <td>Delhi</td>\n",
       "      <td>Cochin</td>\n",
       "      <td>DEL ? GOI ? BOM ? COK</td>\n",
       "      <td>10:55</td>\n",
       "      <td>19:15</td>\n",
       "      <td>8h 20m</td>\n",
       "      <td>2 stops</td>\n",
       "      <td>No info</td>\n",
       "      <td>11753</td>\n",
       "    </tr>\n",
       "  </tbody>\n",
       "</table>\n",
       "<p>10683 rows × 11 columns</p>\n",
       "</div>"
      ],
      "text/plain": [
       "           Airline Date_of_Journey    Source Destination  \\\n",
       "0           IndiGo      24/03/2019  Banglore   New Delhi   \n",
       "1        Air India       1/05/2019   Kolkata    Banglore   \n",
       "2      Jet Airways       9/06/2019     Delhi      Cochin   \n",
       "3           IndiGo      12/05/2019   Kolkata    Banglore   \n",
       "4           IndiGo      01/03/2019  Banglore   New Delhi   \n",
       "...            ...             ...       ...         ...   \n",
       "10678     Air Asia       9/04/2019   Kolkata    Banglore   \n",
       "10679    Air India      27/04/2019   Kolkata    Banglore   \n",
       "10680  Jet Airways      27/04/2019  Banglore       Delhi   \n",
       "10681      Vistara      01/03/2019  Banglore   New Delhi   \n",
       "10682    Air India       9/05/2019     Delhi      Cochin   \n",
       "\n",
       "                       Route Dep_Time  Arrival_Time Duration Total_Stops  \\\n",
       "0                  BLR ? DEL    22:20  01:10 22 Mar   2h 50m    non-stop   \n",
       "1      CCU ? IXR ? BBI ? BLR    05:50         13:15   7h 25m     2 stops   \n",
       "2      DEL ? LKO ? BOM ? COK    09:25  04:25 10 Jun      19h     2 stops   \n",
       "3            CCU ? NAG ? BLR    18:05         23:30   5h 25m      1 stop   \n",
       "4            BLR ? NAG ? DEL    16:50         21:35   4h 45m      1 stop   \n",
       "...                      ...      ...           ...      ...         ...   \n",
       "10678              CCU ? BLR    19:55         22:25   2h 30m    non-stop   \n",
       "10679              CCU ? BLR    20:45         23:20   2h 35m    non-stop   \n",
       "10680              BLR ? DEL    08:20         11:20       3h    non-stop   \n",
       "10681              BLR ? DEL    11:30         14:10   2h 40m    non-stop   \n",
       "10682  DEL ? GOI ? BOM ? COK    10:55         19:15   8h 20m     2 stops   \n",
       "\n",
       "      Additional_Info  Price  \n",
       "0             No info   3897  \n",
       "1             No info   7662  \n",
       "2             No info  13882  \n",
       "3             No info   6218  \n",
       "4             No info  13302  \n",
       "...               ...    ...  \n",
       "10678         No info   4107  \n",
       "10679         No info   4145  \n",
       "10680         No info   7229  \n",
       "10681         No info  12648  \n",
       "10682         No info  11753  \n",
       "\n",
       "[10683 rows x 11 columns]"
      ]
     },
     "execution_count": 7,
     "metadata": {},
     "output_type": "execute_result"
    }
   ],
   "source": [
    "df"
   ]
  },
  {
   "cell_type": "code",
   "execution_count": 8,
   "id": "c55c4698",
   "metadata": {},
   "outputs": [
    {
     "data": {
      "text/plain": [
       "Airline            object\n",
       "Date_of_Journey    object\n",
       "Source             object\n",
       "Destination        object\n",
       "Route              object\n",
       "Dep_Time           object\n",
       "Arrival_Time       object\n",
       "Duration           object\n",
       "Total_Stops        object\n",
       "Additional_Info    object\n",
       "Price               int64\n",
       "dtype: object"
      ]
     },
     "execution_count": 8,
     "metadata": {},
     "output_type": "execute_result"
    }
   ],
   "source": [
    "df.dtypes"
   ]
  },
  {
   "cell_type": "code",
   "execution_count": 9,
   "id": "91613e89",
   "metadata": {},
   "outputs": [],
   "source": [
    "from sklearn.preprocessing import LabelEncoder"
   ]
  },
  {
   "cell_type": "code",
   "execution_count": 10,
   "id": "394a4a50",
   "metadata": {},
   "outputs": [],
   "source": [
    " encode =  LabelEncoder()"
   ]
  },
  {
   "cell_type": "code",
   "execution_count": 14,
   "id": "961d0d0e",
   "metadata": {},
   "outputs": [],
   "source": [
    "df['Airline'] = encode.fit_transform(df['Airline'])\n",
    "df['Date_of_Journey'] = encode.fit_transform(df['Date_of_Journey'])\n",
    "df['Source'] = encode.fit_transform(df[\"Source\"])\n",
    "df['Destination'] = encode.fit_transform(df['Destination'])\n",
    "df['Route'] = encode.fit_transform(df['Route'])\n",
    "df['Dep_Time'] = encode.fit_transform(df['Dep_Time'])\n",
    "df['Arrival_Time'] = encode.fit_transform(df['Arrival_Time'])\n",
    "df['Duration'] = encode.fit_transform(df['Duration'])\n",
    "df['Total_Stops'] = encode.fit_transform(df['Total_Stops'])\n",
    "df[\"Additional_Info\"]=encode.fit_transform(df[\"Additional_Info\"])"
   ]
  },
  {
   "cell_type": "code",
   "execution_count": 15,
   "id": "4d062d15",
   "metadata": {},
   "outputs": [
    {
     "data": {
      "text/html": [
       "<div>\n",
       "<style scoped>\n",
       "    .dataframe tbody tr th:only-of-type {\n",
       "        vertical-align: middle;\n",
       "    }\n",
       "\n",
       "    .dataframe tbody tr th {\n",
       "        vertical-align: top;\n",
       "    }\n",
       "\n",
       "    .dataframe thead th {\n",
       "        text-align: right;\n",
       "    }\n",
       "</style>\n",
       "<table border=\"1\" class=\"dataframe\">\n",
       "  <thead>\n",
       "    <tr style=\"text-align: right;\">\n",
       "      <th></th>\n",
       "      <th>Airline</th>\n",
       "      <th>Date_of_Journey</th>\n",
       "      <th>Source</th>\n",
       "      <th>Destination</th>\n",
       "      <th>Route</th>\n",
       "      <th>Dep_Time</th>\n",
       "      <th>Arrival_Time</th>\n",
       "      <th>Duration</th>\n",
       "      <th>Total_Stops</th>\n",
       "      <th>Additional_Info</th>\n",
       "      <th>Price</th>\n",
       "    </tr>\n",
       "  </thead>\n",
       "  <tbody>\n",
       "    <tr>\n",
       "      <th>0</th>\n",
       "      <td>3</td>\n",
       "      <td>24</td>\n",
       "      <td>0</td>\n",
       "      <td>5</td>\n",
       "      <td>18</td>\n",
       "      <td>211</td>\n",
       "      <td>233</td>\n",
       "      <td>240</td>\n",
       "      <td>4</td>\n",
       "      <td>8</td>\n",
       "      <td>3897</td>\n",
       "    </tr>\n",
       "    <tr>\n",
       "      <th>1</th>\n",
       "      <td>1</td>\n",
       "      <td>6</td>\n",
       "      <td>3</td>\n",
       "      <td>0</td>\n",
       "      <td>84</td>\n",
       "      <td>31</td>\n",
       "      <td>906</td>\n",
       "      <td>336</td>\n",
       "      <td>1</td>\n",
       "      <td>8</td>\n",
       "      <td>7662</td>\n",
       "    </tr>\n",
       "    <tr>\n",
       "      <th>2</th>\n",
       "      <td>4</td>\n",
       "      <td>43</td>\n",
       "      <td>2</td>\n",
       "      <td>1</td>\n",
       "      <td>118</td>\n",
       "      <td>70</td>\n",
       "      <td>413</td>\n",
       "      <td>106</td>\n",
       "      <td>1</td>\n",
       "      <td>8</td>\n",
       "      <td>13882</td>\n",
       "    </tr>\n",
       "    <tr>\n",
       "      <th>3</th>\n",
       "      <td>3</td>\n",
       "      <td>10</td>\n",
       "      <td>3</td>\n",
       "      <td>0</td>\n",
       "      <td>91</td>\n",
       "      <td>164</td>\n",
       "      <td>1324</td>\n",
       "      <td>311</td>\n",
       "      <td>0</td>\n",
       "      <td>8</td>\n",
       "      <td>6218</td>\n",
       "    </tr>\n",
       "    <tr>\n",
       "      <th>4</th>\n",
       "      <td>3</td>\n",
       "      <td>0</td>\n",
       "      <td>0</td>\n",
       "      <td>5</td>\n",
       "      <td>29</td>\n",
       "      <td>149</td>\n",
       "      <td>1237</td>\n",
       "      <td>303</td>\n",
       "      <td>0</td>\n",
       "      <td>8</td>\n",
       "      <td>13302</td>\n",
       "    </tr>\n",
       "    <tr>\n",
       "      <th>...</th>\n",
       "      <td>...</td>\n",
       "      <td>...</td>\n",
       "      <td>...</td>\n",
       "      <td>...</td>\n",
       "      <td>...</td>\n",
       "      <td>...</td>\n",
       "      <td>...</td>\n",
       "      <td>...</td>\n",
       "      <td>...</td>\n",
       "      <td>...</td>\n",
       "      <td>...</td>\n",
       "    </tr>\n",
       "    <tr>\n",
       "      <th>10678</th>\n",
       "      <td>0</td>\n",
       "      <td>41</td>\n",
       "      <td>3</td>\n",
       "      <td>0</td>\n",
       "      <td>64</td>\n",
       "      <td>183</td>\n",
       "      <td>1259</td>\n",
       "      <td>236</td>\n",
       "      <td>4</td>\n",
       "      <td>8</td>\n",
       "      <td>4107</td>\n",
       "    </tr>\n",
       "    <tr>\n",
       "      <th>10679</th>\n",
       "      <td>1</td>\n",
       "      <td>29</td>\n",
       "      <td>3</td>\n",
       "      <td>0</td>\n",
       "      <td>64</td>\n",
       "      <td>193</td>\n",
       "      <td>1305</td>\n",
       "      <td>237</td>\n",
       "      <td>4</td>\n",
       "      <td>8</td>\n",
       "      <td>4145</td>\n",
       "    </tr>\n",
       "    <tr>\n",
       "      <th>10680</th>\n",
       "      <td>4</td>\n",
       "      <td>29</td>\n",
       "      <td>0</td>\n",
       "      <td>2</td>\n",
       "      <td>18</td>\n",
       "      <td>58</td>\n",
       "      <td>824</td>\n",
       "      <td>280</td>\n",
       "      <td>4</td>\n",
       "      <td>8</td>\n",
       "      <td>7229</td>\n",
       "    </tr>\n",
       "    <tr>\n",
       "      <th>10681</th>\n",
       "      <td>10</td>\n",
       "      <td>0</td>\n",
       "      <td>0</td>\n",
       "      <td>5</td>\n",
       "      <td>18</td>\n",
       "      <td>92</td>\n",
       "      <td>938</td>\n",
       "      <td>238</td>\n",
       "      <td>4</td>\n",
       "      <td>8</td>\n",
       "      <td>12648</td>\n",
       "    </tr>\n",
       "    <tr>\n",
       "      <th>10682</th>\n",
       "      <td>1</td>\n",
       "      <td>42</td>\n",
       "      <td>2</td>\n",
       "      <td>1</td>\n",
       "      <td>108</td>\n",
       "      <td>85</td>\n",
       "      <td>1124</td>\n",
       "      <td>347</td>\n",
       "      <td>1</td>\n",
       "      <td>8</td>\n",
       "      <td>11753</td>\n",
       "    </tr>\n",
       "  </tbody>\n",
       "</table>\n",
       "<p>10683 rows × 11 columns</p>\n",
       "</div>"
      ],
      "text/plain": [
       "       Airline  Date_of_Journey  Source  Destination  Route  Dep_Time  \\\n",
       "0            3               24       0            5     18       211   \n",
       "1            1                6       3            0     84        31   \n",
       "2            4               43       2            1    118        70   \n",
       "3            3               10       3            0     91       164   \n",
       "4            3                0       0            5     29       149   \n",
       "...        ...              ...     ...          ...    ...       ...   \n",
       "10678        0               41       3            0     64       183   \n",
       "10679        1               29       3            0     64       193   \n",
       "10680        4               29       0            2     18        58   \n",
       "10681       10                0       0            5     18        92   \n",
       "10682        1               42       2            1    108        85   \n",
       "\n",
       "       Arrival_Time  Duration  Total_Stops  Additional_Info  Price  \n",
       "0               233       240            4                8   3897  \n",
       "1               906       336            1                8   7662  \n",
       "2               413       106            1                8  13882  \n",
       "3              1324       311            0                8   6218  \n",
       "4              1237       303            0                8  13302  \n",
       "...             ...       ...          ...              ...    ...  \n",
       "10678          1259       236            4                8   4107  \n",
       "10679          1305       237            4                8   4145  \n",
       "10680           824       280            4                8   7229  \n",
       "10681           938       238            4                8  12648  \n",
       "10682          1124       347            1                8  11753  \n",
       "\n",
       "[10683 rows x 11 columns]"
      ]
     },
     "execution_count": 15,
     "metadata": {},
     "output_type": "execute_result"
    }
   ],
   "source": [
    "df"
   ]
  },
  {
   "cell_type": "code",
   "execution_count": 16,
   "id": "c7776d68",
   "metadata": {},
   "outputs": [
    {
     "data": {
      "text/plain": [
       "Airline            int64\n",
       "Date_of_Journey    int32\n",
       "Source             int32\n",
       "Destination        int32\n",
       "Route              int32\n",
       "Dep_Time           int32\n",
       "Arrival_Time       int32\n",
       "Duration           int32\n",
       "Total_Stops        int32\n",
       "Additional_Info    int32\n",
       "Price              int64\n",
       "dtype: object"
      ]
     },
     "execution_count": 16,
     "metadata": {},
     "output_type": "execute_result"
    }
   ],
   "source": [
    "df.dtypes"
   ]
  },
  {
   "cell_type": "code",
   "execution_count": 18,
   "id": "9da376ea",
   "metadata": {},
   "outputs": [],
   "source": [
    "from sklearn.ensemble import RandomForestRegressor\n",
    " \n",
    "# to Repreduce same result for fellow ml scientist\n",
    "np.random.seed(1)\n",
    "\n",
    "#create data (x,y)\n",
    "x = df.drop('Price',axis=1)\n",
    "y = df['Price']\n"
   ]
  },
  {
   "cell_type": "code",
   "execution_count": 20,
   "id": "b293c8e1",
   "metadata": {},
   "outputs": [],
   "source": [
    "#split data into test train\n",
    "from sklearn.model_selection import train_test_split\n",
    "x_train,x_test,y_train,y_test = train_test_split(x,y,test_size = 0.7)"
   ]
  },
  {
   "cell_type": "code",
   "execution_count": 21,
   "id": "d9504955",
   "metadata": {},
   "outputs": [
    {
     "data": {
      "text/plain": [
       "RandomForestRegressor()"
      ]
     },
     "execution_count": 21,
     "metadata": {},
     "output_type": "execute_result"
    }
   ],
   "source": [
    "# regression model  model\n",
    "reg_model = RandomForestRegressor()\n",
    "reg_model.fit(x_train,y_train)"
   ]
  },
  {
   "cell_type": "code",
   "execution_count": 23,
   "id": "4609cd07",
   "metadata": {},
   "outputs": [
    {
     "data": {
      "text/plain": [
       "array([ 2775.01,  5827.91, 14108.7 , ...,  9463.18, 12093.87,  9736.86])"
      ]
     },
     "execution_count": 23,
     "metadata": {},
     "output_type": "execute_result"
    }
   ],
   "source": [
    "y_pred =reg_model.predict(x_test)\n",
    "y_pred"
   ]
  },
  {
   "cell_type": "code",
   "execution_count": 24,
   "id": "aed7dfb2",
   "metadata": {},
   "outputs": [
    {
     "data": {
      "text/plain": [
       "0.7920160342745003"
      ]
     },
     "execution_count": 24,
     "metadata": {},
     "output_type": "execute_result"
    }
   ],
   "source": [
    "#check the score of the model\n",
    "reg_model.score(x_test,y_test)"
   ]
  },
  {
   "cell_type": "code",
   "execution_count": 25,
   "id": "7c2e8eb7",
   "metadata": {},
   "outputs": [],
   "source": [
    "##result is better not bad\n",
    "# suppose we need better accuracy \n",
    "##follow these steps (https://scikit-learn.org/stable/tutorial/machine_learning_map/index.html)"
   ]
  },
  {
   "cell_type": "markdown",
   "id": "0fdf509a",
   "metadata": {},
   "source": [
    "# random forest regresssion\n",
    "is used for collection oof else and if statement its give mean"
   ]
  },
  {
   "cell_type": "code",
   "execution_count": 30,
   "id": "c571f4f6",
   "metadata": {},
   "outputs": [
    {
     "data": {
      "text/plain": [
       "0.8557286216780627"
      ]
     },
     "execution_count": 30,
     "metadata": {},
     "output_type": "execute_result"
    }
   ],
   "source": [
    "from sklearn.ensemble import RandomForestRegressor\n",
    "import numpy as np\n",
    "from sklearn.model_selection import train_test_split\n",
    "## to reproduce samee result fellow ML scientist\n",
    "np.random.seed(1)\n",
    "x=df.drop(\"Price\",axis=1)\n",
    "y=df[\"Price\"]\n",
    "## split train test model\n",
    "x_train,x_test,y_train,y_test=train_test_split(x,y,test_size=0.2)\n",
    "##  instaiate  REgression model_model=RandomForestRegressor()\n",
    "rf_model=RandomForestRegressor()\n",
    "rf_model.fit(x_train,y_train)\n",
    "##  check score\n",
    "rf_model.score(x_test,y_test)"
   ]
  },
  {
   "cell_type": "markdown",
   "id": "86ebff90",
   "metadata": {},
   "source": [
    "#  Make prediction on Regression Probelm "
   ]
  },
  {
   "cell_type": "code",
   "execution_count": 32,
   "id": "ed8e4bb2",
   "metadata": {},
   "outputs": [
    {
     "data": {
      "text/plain": [
       "array([ 2559.54      ,  5327.96133333, 14482.51      , ...,\n",
       "       14011.62      ,  7014.62      ,  4883.28      ])"
      ]
     },
     "execution_count": 32,
     "metadata": {},
     "output_type": "execute_result"
    }
   ],
   "source": [
    "from sklearn.ensemble import RandomForestRegressor\n",
    "np.random.seed(1)\n",
    "## create data\n",
    "x=df.drop(\"Price\",axis=1)\n",
    "y=df[\"Price\"]  \n",
    "## split train test\n",
    "x_train,x_test,y_train,y_test=train_test_split(x,y,test_size=0.20)\n",
    "## instaite  model\n",
    "Regression_model=RandomForestRegressor().fit(x_train,y_train)\n",
    "## make prediction\n",
    "predicted_y=Regression_model.predict(x_test)\n",
    "predicted_y\n",
    "\n",
    "\n",
    "\n",
    "\n",
    "\n",
    "\n",
    "\n",
    "\n",
    "\n"
   ]
  },
  {
   "cell_type": "code",
   "execution_count": 33,
   "id": "eb7033b9",
   "metadata": {},
   "outputs": [
    {
     "data": {
      "text/plain": [
       "array([ 2559.54      ,  5327.96133333, 14482.51      , 14495.14      ,\n",
       "       10770.83      ])"
      ]
     },
     "execution_count": 33,
     "metadata": {},
     "output_type": "execute_result"
    }
   ],
   "source": [
    "predicted_y[:5]    ## predicted vlue"
   ]
  },
  {
   "cell_type": "code",
   "execution_count": 34,
   "id": "c0ca5c40",
   "metadata": {},
   "outputs": [
    {
     "data": {
      "text/plain": [
       "array([ 2753,  6309, 13731, 13555, 10844], dtype=int64)"
      ]
     },
     "execution_count": 34,
     "metadata": {},
     "output_type": "execute_result"
    }
   ],
   "source": [
    "np.array(y_test[:5])   ## actual vlue ground reality "
   ]
  },
  {
   "cell_type": "code",
   "execution_count": 35,
   "id": "32f65db5",
   "metadata": {},
   "outputs": [
    {
     "data": {
      "text/plain": [
       "819.7696561167735"
      ]
     },
     "execution_count": 35,
     "metadata": {},
     "output_type": "execute_result"
    }
   ],
   "source": [
    "## compare predicted value with actual vlue\n",
    "from sklearn.metrics import mean_absolute_error\n",
    "mean_absolute_error(y_test,predicted_y)\n",
    "\n",
    "\n",
    "\n",
    "\n"
   ]
  },
  {
   "cell_type": "code",
   "execution_count": 37,
   "id": "67753958",
   "metadata": {},
   "outputs": [],
   "source": [
    "##819 (predictive values hamary target value se ya 819 greater hoge ya less hoge )\n",
    "# jitna less ayega utna better hoga"
   ]
  },
  {
   "cell_type": "code",
   "execution_count": 38,
   "id": "84f97d20",
   "metadata": {},
   "outputs": [
    {
     "data": {
      "text/plain": [
       "0.8929894968094771"
      ]
     },
     "execution_count": 38,
     "metadata": {},
     "output_type": "execute_result"
    }
   ],
   "source": [
    "# Regression use mean accuracy in score par..\n",
    "from sklearn.ensemble import RandomForestRegressor\n",
    "from sklearn.model_selection import train_test_split\n",
    " \n",
    "#create data (x,y)\n",
    "x = df.drop('Price',axis=1)\n",
    "y =df['Price']\n",
    "\n",
    "#split data into test train\n",
    "x_train,x_test,y_train,y_test = train_test_split(x,y,test_size = 0.2)\n",
    "\n",
    "# Instatiate Ridge model\n",
    "RFC_model = RandomForestRegressor()\n",
    "RFC_model.fit(x_train,y_train)\n",
    "\n",
    "RFC_model.score(x_train,y_train) # shows the coeffiecient (R^2) accuracy\n",
    "RFC_model.score(x_test,y_test) # can only run this after  fitting the model\n"
   ]
  },
  {
   "cell_type": "code",
   "execution_count": 39,
   "id": "15717599",
   "metadata": {},
   "outputs": [],
   "source": [
    "## random regrerssor give R2"
   ]
  },
  {
   "cell_type": "code",
   "execution_count": 40,
   "id": "35346c9e",
   "metadata": {},
   "outputs": [],
   "source": [
    "# split the data in your choise (cv=5) data are split into 5 format \n",
    "# ye better hn sb sy q ke agar hum data ka 20% train aur test k liya daity hn aur hum ko score sahi nahi are q ke hum ny sirf last wala 20% diya hn aur farz kary us mn wo features clear nhi hn ju hamain chahyai \n",
    "# cv data ko split krta hn phr hum us ka mean find krty hn aur score se compare kary hn tu better result dega hamain\n"
   ]
  },
  {
   "cell_type": "markdown",
   "id": "f79fc7fe",
   "metadata": {},
   "source": [
    "# Regression Model evaluation¶\n",
    "Regression models help us understand how the change in one or more independent variables affects the dependent variable. The dependent variable, also known as the target or response variable, is the variable we want to predict or explain. The independent variables, also called features or predictors, are the inputs used to make the prediction and identifying the most important factors affecting the target variable.\n",
    "1 : R^2 ## compare model predict to mean of target\n",
    "2 : Mean Absolute Error (MAE)\n",
    "Take diff , Turn Posit, Add up, Take mean\n",
    "3 : Mean Squared Error (MSE)\n",
    "Take diff , Square them, Add up, Take mean"
   ]
  },
  {
   "cell_type": "code",
   "execution_count": 42,
   "id": "bb692d67",
   "metadata": {},
   "outputs": [
    {
     "data": {
      "text/plain": [
       "0.8557286216780627"
      ]
     },
     "execution_count": 42,
     "metadata": {},
     "output_type": "execute_result"
    }
   ],
   "source": [
    "from sklearn.ensemble import RandomForestRegressor\n",
    "np.random.seed(1)\n",
    "x=df.drop(\"Price\",axis=1)\n",
    "y=df[\"Price\"]\n",
    "x_train,x_test,y_train,y_test=train_test_split(x,y,test_size=0.20)\n",
    "RFG=RandomForestRegressor().fit(x_train,y_train)\n",
    "RFG.score(x_test,y_test)\n"
   ]
  },
  {
   "cell_type": "markdown",
   "id": "780872ec",
   "metadata": {},
   "source": [
    "#  2 : Mean Absolute Error (MAE)\n",
    "#its gives avearge and absoule diiference bt predicted value and actual values"
   ]
  },
  {
   "cell_type": "code",
   "execution_count": 43,
   "id": "d6588def",
   "metadata": {},
   "outputs": [
    {
     "data": {
      "text/plain": [
       "819.7696561167735"
      ]
     },
     "execution_count": 43,
     "metadata": {},
     "output_type": "execute_result"
    }
   ],
   "source": [
    "from sklearn.metrics import mean_absolute_error\n",
    "y_predicted=RFG.predict(x_test)\n",
    "MAE=mean_absolute_error(y_test,y_predicted)\n",
    "MAE\n",
    "\n"
   ]
  },
  {
   "cell_type": "code",
   "execution_count": 44,
   "id": "44f798f3",
   "metadata": {},
   "outputs": [],
   "source": [
    "df=pd.DataFrame(data={\"actual values\":y_test,\"predicted value\":y_predicted})"
   ]
  },
  {
   "cell_type": "code",
   "execution_count": 45,
   "id": "9ca93984",
   "metadata": {},
   "outputs": [],
   "source": [
    "df[\"difference\"]=df[\"actual values\"]-df[\"predicted value\"]"
   ]
  },
  {
   "cell_type": "code",
   "execution_count": 46,
   "id": "c0495890",
   "metadata": {},
   "outputs": [
    {
     "data": {
      "text/html": [
       "<div>\n",
       "<style scoped>\n",
       "    .dataframe tbody tr th:only-of-type {\n",
       "        vertical-align: middle;\n",
       "    }\n",
       "\n",
       "    .dataframe tbody tr th {\n",
       "        vertical-align: top;\n",
       "    }\n",
       "\n",
       "    .dataframe thead th {\n",
       "        text-align: right;\n",
       "    }\n",
       "</style>\n",
       "<table border=\"1\" class=\"dataframe\">\n",
       "  <thead>\n",
       "    <tr style=\"text-align: right;\">\n",
       "      <th></th>\n",
       "      <th>actual values</th>\n",
       "      <th>predicted value</th>\n",
       "      <th>difference</th>\n",
       "    </tr>\n",
       "  </thead>\n",
       "  <tbody>\n",
       "    <tr>\n",
       "      <th>7931</th>\n",
       "      <td>2753</td>\n",
       "      <td>2559.540000</td>\n",
       "      <td>193.460000</td>\n",
       "    </tr>\n",
       "    <tr>\n",
       "      <th>5468</th>\n",
       "      <td>6309</td>\n",
       "      <td>5327.961333</td>\n",
       "      <td>981.038667</td>\n",
       "    </tr>\n",
       "    <tr>\n",
       "      <th>8618</th>\n",
       "      <td>13731</td>\n",
       "      <td>14482.510000</td>\n",
       "      <td>-751.510000</td>\n",
       "    </tr>\n",
       "    <tr>\n",
       "      <th>3836</th>\n",
       "      <td>13555</td>\n",
       "      <td>14495.140000</td>\n",
       "      <td>-940.140000</td>\n",
       "    </tr>\n",
       "    <tr>\n",
       "      <th>7771</th>\n",
       "      <td>10844</td>\n",
       "      <td>10770.830000</td>\n",
       "      <td>73.170000</td>\n",
       "    </tr>\n",
       "    <tr>\n",
       "      <th>...</th>\n",
       "      <td>...</td>\n",
       "      <td>...</td>\n",
       "      <td>...</td>\n",
       "    </tr>\n",
       "    <tr>\n",
       "      <th>4474</th>\n",
       "      <td>9581</td>\n",
       "      <td>12742.970000</td>\n",
       "      <td>-3161.970000</td>\n",
       "    </tr>\n",
       "    <tr>\n",
       "      <th>7367</th>\n",
       "      <td>3543</td>\n",
       "      <td>3687.670000</td>\n",
       "      <td>-144.670000</td>\n",
       "    </tr>\n",
       "    <tr>\n",
       "      <th>10357</th>\n",
       "      <td>14151</td>\n",
       "      <td>14011.620000</td>\n",
       "      <td>139.380000</td>\n",
       "    </tr>\n",
       "    <tr>\n",
       "      <th>1267</th>\n",
       "      <td>6795</td>\n",
       "      <td>7014.620000</td>\n",
       "      <td>-219.620000</td>\n",
       "    </tr>\n",
       "    <tr>\n",
       "      <th>5930</th>\n",
       "      <td>4804</td>\n",
       "      <td>4883.280000</td>\n",
       "      <td>-79.280000</td>\n",
       "    </tr>\n",
       "  </tbody>\n",
       "</table>\n",
       "<p>2137 rows × 3 columns</p>\n",
       "</div>"
      ],
      "text/plain": [
       "       actual values  predicted value   difference\n",
       "7931            2753      2559.540000   193.460000\n",
       "5468            6309      5327.961333   981.038667\n",
       "8618           13731     14482.510000  -751.510000\n",
       "3836           13555     14495.140000  -940.140000\n",
       "7771           10844     10770.830000    73.170000\n",
       "...              ...              ...          ...\n",
       "4474            9581     12742.970000 -3161.970000\n",
       "7367            3543      3687.670000  -144.670000\n",
       "10357          14151     14011.620000   139.380000\n",
       "1267            6795      7014.620000  -219.620000\n",
       "5930            4804      4883.280000   -79.280000\n",
       "\n",
       "[2137 rows x 3 columns]"
      ]
     },
     "execution_count": 46,
     "metadata": {},
     "output_type": "execute_result"
    }
   ],
   "source": [
    "df"
   ]
  },
  {
   "cell_type": "code",
   "execution_count": 47,
   "id": "ced36f79",
   "metadata": {},
   "outputs": [],
   "source": [
    "# Mean Squared Error"
   ]
  },
  {
   "cell_type": "code",
   "execution_count": 48,
   "id": "96f88387",
   "metadata": {},
   "outputs": [],
   "source": [
    "## take difference  square  teem add them take averge its value is nakwwas "
   ]
  },
  {
   "cell_type": "code",
   "execution_count": 49,
   "id": "2377a5a9",
   "metadata": {},
   "outputs": [
    {
     "data": {
      "text/plain": [
       "3172113.0893359184"
      ]
     },
     "execution_count": 49,
     "metadata": {},
     "output_type": "execute_result"
    }
   ],
   "source": [
    "from sklearn.metrics import mean_squared_error\n",
    "y_predicted=RFG.predict(x_test)\n",
    "MAE=mean_squared_error(y_test,y_predicted)\n",
    "MAE\n"
   ]
  },
  {
   "cell_type": "markdown",
   "id": "b2ba1284",
   "metadata": {},
   "source": [
    "# scoring parameters for Regression"
   ]
  },
  {
   "cell_type": "code",
   "execution_count": null,
   "id": "4156272d",
   "metadata": {},
   "outputs": [],
   "source": []
  }
 ],
 "metadata": {
  "kernelspec": {
   "display_name": "Python 3 (ipykernel)",
   "language": "python",
   "name": "python3"
  },
  "language_info": {
   "codemirror_mode": {
    "name": "ipython",
    "version": 3
   },
   "file_extension": ".py",
   "mimetype": "text/x-python",
   "name": "python",
   "nbconvert_exporter": "python",
   "pygments_lexer": "ipython3",
   "version": "3.9.7"
  }
 },
 "nbformat": 4,
 "nbformat_minor": 5
}
